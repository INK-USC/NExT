{
 "cells": [
  {
   "cell_type": "code",
   "execution_count": 15,
   "metadata": {},
   "outputs": [],
   "source": [
    "import json\n",
    "import re"
   ]
  },
  {
   "cell_type": "code",
   "execution_count": 2,
   "metadata": {},
   "outputs": [],
   "source": [
    "with open(\"/home/rahul/ziqi/NExT/data/tacred/explanations.json\") as f:\n",
    "    explanations = json.load(f)"
   ]
  },
  {
   "cell_type": "code",
   "execution_count": 4,
   "metadata": {},
   "outputs": [],
   "source": [
    "import sys\n",
    "sys.path.append(\"../\")"
   ]
  },
  {
   "cell_type": "code",
   "execution_count": 5,
   "metadata": {},
   "outputs": [],
   "source": [
    "from CCG_new import utils"
   ]
  },
  {
   "cell_type": "code",
   "execution_count": 50,
   "metadata": {},
   "outputs": [
    {
     "data": {
      "text/plain": [
       "('.root',\n",
       " ('@And',\n",
       "  ('@Is',\n",
       "   'There',\n",
       "   ('@AtMost',\n",
       "    ('@between', ('@And', 'ArgY', 'ArgX')),\n",
       "    ('@Num', '3', 'tokens'))),\n",
       "  ('@Is', ('@Word', \"'s daughter\"), ('@between', ('@And', 'ArgY', 'ArgX')))))"
      ]
     },
     "execution_count": 50,
     "metadata": {},
     "output_type": "execute_result"
    }
   ],
   "source": [
    "create_semantic_repr(explanations[0][1])"
   ]
  },
  {
   "cell_type": "code",
   "execution_count": 49,
   "metadata": {},
   "outputs": [],
   "source": [
    "def create_semantic_repr(semantic_rep):\n",
    "    \"\"\"\n",
    "        Given a semtantic string representation of a parse tree we transform the tree into a hierarchical\n",
    "        structure, so that a conversion to a labeling function is possible; functions at the top rely on the \n",
    "        return value of functions lower down.\n",
    "        In doing this, we loose the original lexical heirachy of the parse tree.\n",
    "        \n",
    "        This differs from this approach https://homes.cs.washington.edu/~lsz/papers/zc-uai05.pdf\n",
    "        We can't create features based on lexical structure, but only semantic structure\n",
    "        If the semantic string representation of the tree makes sense when considering the ordering\n",
    "        of the functions making up the string, then we output the hierarchical tuple, else we return\n",
    "        false. False here indicates that while a valid parse tree was attainable, the semantics of the\n",
    "        parse do not make sense though.\n",
    "\n",
    "        Arguments:\n",
    "            semantic_rep (str) :  tree representation of tree from our parse_tokens function\n",
    "        \n",
    "        Returns:\n",
    "            tuple | false : if valid semantically, we output a tuple describing the semantics, else false\n",
    "    \"\"\"\n",
    "    clauses = re.split(',|(\\\\()',semantic_rep)\n",
    "    delete_index = []\n",
    "    for i in range(len(clauses)-1, -1, -1):\n",
    "        if clauses[i] == None:\n",
    "            delete_index.append(i)\n",
    "    for i in delete_index:\n",
    "        del clauses[i]\n",
    "        \n",
    "    # Switch poisition of ( and Word before it\n",
    "    switched_semantics = []\n",
    "    for i, token in enumerate(clauses):\n",
    "        if token=='(':\n",
    "            switched_semantics.insert(-1,'(')\n",
    "        else:\n",
    "            switched_semantics.append(token)\n",
    "    \n",
    "    # Converting semantic string into a multi-level tuple, ex: (item, tuple) would be a two level tuple\n",
    "    # This representation allows for the conversion from semantic representation to labeling function\n",
    "    hierarchical_semantics = \"\"\n",
    "    for i, clause in enumerate(switched_semantics):\n",
    "        prepped_clause = clause\n",
    "        if prepped_clause.startswith(\"\\'\"):\n",
    "            prepped_clause = utils.prepare_token_for_rule_addition(prepped_clause, reverse=True)\n",
    "            if prepped_clause.endswith(\")\"):\n",
    "                posi = len(prepped_clause)-1\n",
    "                while prepped_clause[posi]==\")\":\n",
    "                    posi-=1\n",
    "                assert prepped_clause[posi]==\"\\'\"\n",
    "            else:\n",
    "                posi = len(prepped_clause)-1\n",
    "                assert prepped_clause[posi] == \"\\'\"\n",
    "            prepped_clause = prepped_clause[0] + \\\n",
    "                             prepped_clause[1:posi].replace('\\'','\\\\\\'') + \\\n",
    "                             prepped_clause[posi:]\n",
    "\n",
    "        if switched_semantics[i-1] != \"(\" and len(hierarchical_semantics):\n",
    "            hierarchical_semantics += \",\"\n",
    "\n",
    "        hierarchical_semantics += prepped_clause\n",
    "    # if the ordering of the semantics in this semantic representation is acceptable per the functions\n",
    "    # the semantics map to, then we will be able to create the desired multi-label tuple\n",
    "    # else we return False\n",
    "    try:\n",
    "        hierarchical_tuple = ('.root', eval(hierarchical_semantics))\n",
    "        return hierarchical_tuple\n",
    "    except:\n",
    "        return False"
   ]
  },
  {
   "cell_type": "code",
   "execution_count": 52,
   "metadata": {},
   "outputs": [
    {
     "name": "stdout",
     "output_type": "stream",
     "text": [
      "['per:spouse', \"'@And'('@Is'('There','@AtMost'('@between'('@And'('ArgY','ArgX')),'@Num'('4','tokens'))),'@Is'('@Word'(''sSPACEexCOMMA4wife'),'@between'('@And'('ArgY','ArgX'))))\", [\"SUBJ-PERSON 's ex-wife OBJ-PERSON\"], [\"'s ex-wife\"]]\n"
     ]
    }
   ],
   "source": [
    "for exp in explanations:\n",
    "    if \"COMMA\" in exp[1]:\n",
    "        print(exp)\n",
    "        break"
   ]
  },
  {
   "cell_type": "code",
   "execution_count": null,
   "metadata": {},
   "outputs": [],
   "source": []
  },
  {
   "cell_type": "code",
   "execution_count": null,
   "metadata": {},
   "outputs": [],
   "source": []
  }
 ],
 "metadata": {
  "kernelspec": {
   "display_name": "Python 3",
   "language": "python",
   "name": "python3"
  },
  "language_info": {
   "codemirror_mode": {
    "name": "ipython",
    "version": 3
   },
   "file_extension": ".py",
   "mimetype": "text/x-python",
   "name": "python",
   "nbconvert_exporter": "python",
   "pygments_lexer": "ipython3",
   "version": "3.6.5"
  }
 },
 "nbformat": 4,
 "nbformat_minor": 4
}
