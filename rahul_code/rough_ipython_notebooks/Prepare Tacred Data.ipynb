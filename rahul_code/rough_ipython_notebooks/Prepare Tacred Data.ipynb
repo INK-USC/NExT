{
 "cells": [
  {
   "cell_type": "code",
   "execution_count": 1,
   "metadata": {},
   "outputs": [],
   "source": [
    "import json\n",
    "import pdb"
   ]
  },
  {
   "cell_type": "code",
   "execution_count": 2,
   "metadata": {},
   "outputs": [],
   "source": [
    "def process_entry(entry):\n",
    "    relation = entry[\"relation\"]\n",
    "    tokens = entry[\"token\"][:]\n",
    "    subj_start = entry[\"subj_start\"]\n",
    "    subj_end = entry[\"subj_end\"]\n",
    "    obj_start = entry[\"obj_start\"]\n",
    "    obj_end = entry[\"obj_end\"]\n",
    "    subj_type = entry[\"subj_type\"]\n",
    "    obj_type = entry[\"obj_type\"]\n",
    "    if subj_end > obj_end:\n",
    "\n",
    "        while subj_end - subj_start > 0:\n",
    "            del tokens[subj_end]\n",
    "            subj_end += -1\n",
    "\n",
    "        while obj_end - obj_start > 0:\n",
    "            del tokens[obj_end]\n",
    "            obj_end += -1\n",
    "            subj_start += -1\n",
    "\n",
    "    else:\n",
    "\n",
    "        while obj_end - obj_start > 0:\n",
    "            del tokens[obj_end]\n",
    "            obj_end += -1\n",
    "\n",
    "        while subj_end - subj_start > 0:\n",
    "            del tokens[subj_end]\n",
    "            subj_end += -1\n",
    "            obj_start += -1\n",
    "\n",
    "    tokens[subj_start] = \"SUBJ-{}\".format(subj_type)\n",
    "    tokens[obj_start] = \"OBJ-{}\".format(obj_type)\n",
    "\n",
    "    for i in range(len(tokens)):\n",
    "        if tokens[i] == \"-LRB-\":\n",
    "            tokens[i] = \"(\"\n",
    "        elif tokens[i] == \"-RRB-\":\n",
    "            tokens[i] = \")\"\n",
    "        elif tokens[i] == \"-LSB-\":\n",
    "            tokens[i] = \"[\"\n",
    "        elif tokens[i] == \"-RSB-\":\n",
    "            tokens[i] = \"]\"\n",
    "\n",
    "    text = \" \".join(tokens).strip()\n",
    "\n",
    "    return {\n",
    "        \"text\" : text,\n",
    "        \"relation\" : relation\n",
    "    }"
   ]
  },
  {
   "cell_type": "code",
   "execution_count": 3,
   "metadata": {},
   "outputs": [],
   "source": [
    "with open(\"train.json\") as f:\n",
    "    train = json.load(f)"
   ]
  },
  {
   "cell_type": "code",
   "execution_count": 4,
   "metadata": {},
   "outputs": [],
   "source": [
    "data = []\n",
    "for entry in train:\n",
    "    data.append(process_entry(entry))"
   ]
  },
  {
   "cell_type": "code",
   "execution_count": 5,
   "metadata": {},
   "outputs": [],
   "source": [
    "with open(\"../rahul_code/data/tacred_train.json\", \"w\") as f:\n",
    "    json.dump(data, f, indent=2)"
   ]
  },
  {
   "cell_type": "code",
   "execution_count": 7,
   "metadata": {},
   "outputs": [],
   "source": [
    "tacred_unlabeled_test_data = []\n",
    "for i, entry in enumerate(data):\n",
    "    tacred_unlabeled_test_data.append(entry[\"text\"])\n",
    "    if i > 1000:\n",
    "        break\n",
    "\n",
    "with open(\"../rahul_code/tests/data/tacred_test_unlabeled_data.json\", \"w\") as f:\n",
    "    json.dump(tacred_unlabeled_test_data, f, indent=2)"
   ]
  },
  {
   "cell_type": "code",
   "execution_count": 64,
   "metadata": {},
   "outputs": [],
   "source": [
    "with open(\"dev.json\") as f:\n",
    "    dev = json.load(f)"
   ]
  },
  {
   "cell_type": "code",
   "execution_count": 65,
   "metadata": {},
   "outputs": [],
   "source": [
    "data = []\n",
    "for entry in dev:\n",
    "    data.append(process_entry(entry))"
   ]
  },
  {
   "cell_type": "code",
   "execution_count": 66,
   "metadata": {},
   "outputs": [],
   "source": [
    "with open(\"../rahul_code/data/tacred_dev.json\", \"w\") as f:\n",
    "    json.dump(data, f, indent=2)"
   ]
  },
  {
   "cell_type": "code",
   "execution_count": 67,
   "metadata": {},
   "outputs": [],
   "source": [
    "with open(\"test.json\") as f:\n",
    "    test = json.load(f)"
   ]
  },
  {
   "cell_type": "code",
   "execution_count": 68,
   "metadata": {},
   "outputs": [],
   "source": [
    "data = []\n",
    "for entry in dev:\n",
    "    data.append(process_entry(entry))"
   ]
  },
  {
   "cell_type": "code",
   "execution_count": 69,
   "metadata": {},
   "outputs": [],
   "source": [
    "with open(\"../rahul_code/data/tacred_test.json\", \"w\") as f:\n",
    "    json.dump(data, f, indent=2)"
   ]
  },
  {
   "cell_type": "code",
   "execution_count": null,
   "metadata": {},
   "outputs": [],
   "source": []
  }
 ],
 "metadata": {
  "kernelspec": {
   "display_name": "Python 3",
   "language": "python",
   "name": "python3"
  },
  "language_info": {
   "codemirror_mode": {
    "name": "ipython",
    "version": 3
   },
   "file_extension": ".py",
   "mimetype": "text/x-python",
   "name": "python",
   "nbconvert_exporter": "python",
   "pygments_lexer": "ipython3",
   "version": "3.6.5"
  }
 },
 "nbformat": 4,
 "nbformat_minor": 4
}
