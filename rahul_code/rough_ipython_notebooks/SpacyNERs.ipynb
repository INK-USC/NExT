{
 "cells": [
  {
   "cell_type": "code",
   "execution_count": 1,
   "metadata": {},
   "outputs": [],
   "source": [
    "import spacy"
   ]
  },
  {
   "cell_type": "code",
   "execution_count": 2,
   "metadata": {},
   "outputs": [],
   "source": [
    "nlp = spacy.load(\"en_core_web_sm\")"
   ]
  },
  {
   "cell_type": "code",
   "execution_count": 8,
   "metadata": {},
   "outputs": [],
   "source": [
    "sentence = \"\"\"SUBJ-PERSON's was born OBJ-DATE , in Nashville , Tenn , and graduated with honors from the University of Alabama .\"\"\""
   ]
  },
  {
   "cell_type": "code",
   "execution_count": 4,
   "metadata": {},
   "outputs": [],
   "source": [
    "import re"
   ]
  },
  {
   "cell_type": "code",
   "execution_count": 13,
   "metadata": {},
   "outputs": [],
   "source": [
    "match = re.search(r\"OBJ-[A-Z's]+ \", sentence)"
   ]
  },
  {
   "cell_type": "code",
   "execution_count": 18,
   "metadata": {},
   "outputs": [
    {
     "data": {
      "text/plain": [
       "'OBJ-DATE '"
      ]
     },
     "execution_count": 18,
     "metadata": {},
     "output_type": "execute_result"
    }
   ],
   "source": [
    "match.group(0)"
   ]
  },
  {
   "cell_type": "code",
   "execution_count": null,
   "metadata": {},
   "outputs": [],
   "source": []
  },
  {
   "cell_type": "code",
   "execution_count": 61,
   "metadata": {},
   "outputs": [],
   "source": [
    "sentence = re.sub(r\"SUBJ-[A-Z]+ \", \"SUBJ \", sentence)\n",
    "sentence = re.sub(r\"SUBJ-[A-Z's]+ \", \"SUBJ's \", sentence)\n",
    "sentence = re.sub(r\"OBJ-[A-Z]+ \", \"OBJ \", sentence)\n",
    "sentence = re.sub(r\"OBJ-[A-Z's]+ \", \"OBJ's \", sentence)"
   ]
  },
  {
   "cell_type": "code",
   "execution_count": 62,
   "metadata": {},
   "outputs": [],
   "source": [
    "# sent = \" \".join(split_sentence)"
   ]
  },
  {
   "cell_type": "code",
   "execution_count": 63,
   "metadata": {},
   "outputs": [
    {
     "data": {
      "text/plain": [
       "\"SUBJ's was born OBJ , in Nashville , Tenn , and graduated with honors from the University of Alabama .\""
      ]
     },
     "execution_count": 63,
     "metadata": {},
     "output_type": "execute_result"
    }
   ],
   "source": [
    "sentence"
   ]
  },
  {
   "cell_type": "code",
   "execution_count": 64,
   "metadata": {},
   "outputs": [],
   "source": [
    "doc = nlp(sentence)"
   ]
  },
  {
   "cell_type": "code",
   "execution_count": 65,
   "metadata": {},
   "outputs": [
    {
     "name": "stdout",
     "output_type": "stream",
     "text": [
      "[('SUBJ', 0, 4, 'ORG'), ('Nashville', 25, 34, 'GPE'), ('Tenn', 37, 41, 'GPE'), ('the University of Alabama', 75, 100, 'ORG')]\n"
     ]
    }
   ],
   "source": [
    "ents = [(e.text, e.start_char, e.end_char, e.label_) for e in doc.ents]\n",
    "print(ents)"
   ]
  },
  {
   "cell_type": "code",
   "execution_count": 67,
   "metadata": {},
   "outputs": [
    {
     "name": "stdout",
     "output_type": "stream",
     "text": [
      "('SUBJ', 'ORG')\n",
      "(\"'s\", '')\n",
      "('was', '')\n",
      "('born', '')\n",
      "('OBJ', '')\n",
      "(',', '')\n",
      "('in', '')\n",
      "('Nashville', 'GPE')\n",
      "(',', '')\n",
      "('Tenn', 'GPE')\n",
      "(',', '')\n",
      "('and', '')\n",
      "('graduated', '')\n",
      "('with', '')\n",
      "('honors', '')\n",
      "('from', '')\n",
      "('the', 'ORG')\n",
      "('University', 'ORG')\n",
      "('of', 'ORG')\n",
      "('Alabama', 'ORG')\n",
      "('.', '')\n"
     ]
    }
   ],
   "source": [
    "for token in doc:\n",
    "    print((token.text, token.ent_type_))"
   ]
  },
  {
   "cell_type": "code",
   "execution_count": 68,
   "metadata": {},
   "outputs": [
    {
     "data": {
      "text/plain": [
       "['',\n",
       " '',\n",
       " '',\n",
       " '',\n",
       " '',\n",
       " '',\n",
       " '',\n",
       " 'GPE',\n",
       " '',\n",
       " 'GPE',\n",
       " '',\n",
       " '',\n",
       " '',\n",
       " '',\n",
       " '',\n",
       " '',\n",
       " 'ORG',\n",
       " 'ORG',\n",
       " 'ORG',\n",
       " 'ORG',\n",
       " '']"
      ]
     },
     "execution_count": 68,
     "metadata": {},
     "output_type": "execute_result"
    }
   ],
   "source": [
    "[token.ent_type_ if token.text not in [\"SUBJ\", \"OBJ\"] else \"\" for token in doc]"
   ]
  },
  {
   "cell_type": "code",
   "execution_count": null,
   "metadata": {},
   "outputs": [],
   "source": []
  }
 ],
 "metadata": {
  "kernelspec": {
   "display_name": "Python 3",
   "language": "python",
   "name": "python3"
  },
  "language_info": {
   "codemirror_mode": {
    "name": "ipython",
    "version": 3
   },
   "file_extension": ".py",
   "mimetype": "text/x-python",
   "name": "python",
   "nbconvert_exporter": "python",
   "pygments_lexer": "ipython3",
   "version": "3.6.5"
  }
 },
 "nbformat": 4,
 "nbformat_minor": 4
}
