{
 "cells": [
  {
   "cell_type": "code",
   "execution_count": 156,
   "metadata": {},
   "outputs": [],
   "source": [
    "import pdb\n",
    "import pickle\n",
    "import dill\n",
    "import json\n",
    "import sys\n",
    "sys.path.append(\"../\")"
   ]
  },
  {
   "cell_type": "code",
   "execution_count": 157,
   "metadata": {},
   "outputs": [],
   "source": [
    "from training.constants import TACRED_LABEL_MAP"
   ]
  },
  {
   "cell_type": "code",
   "execution_count": 158,
   "metadata": {},
   "outputs": [],
   "source": [
    "label_space = list(TACRED_LABEL_MAP.keys())[:-1]"
   ]
  },
  {
   "cell_type": "code",
   "execution_count": null,
   "metadata": {},
   "outputs": [],
   "source": []
  },
  {
   "cell_type": "code",
   "execution_count": 159,
   "metadata": {},
   "outputs": [],
   "source": [
    "with open(\"../data/training_data/parser.p\", \"rb\") as f:\n",
    "    parser = dill.load(f)"
   ]
  },
  {
   "cell_type": "code",
   "execution_count": 160,
   "metadata": {},
   "outputs": [],
   "source": [
    "labeling_functions = parser.labeling_functions"
   ]
  },
  {
   "cell_type": "code",
   "execution_count": 161,
   "metadata": {},
   "outputs": [
    {
     "data": {
      "text/plain": [
       "161"
      ]
     },
     "execution_count": 161,
     "metadata": {},
     "output_type": "execute_result"
    }
   ],
   "source": [
    "len(labeling_functions)"
   ]
  },
  {
   "cell_type": "code",
   "execution_count": 162,
   "metadata": {},
   "outputs": [],
   "source": [
    "ner_types = parser.ner_types"
   ]
  },
  {
   "cell_type": "code",
   "execution_count": 163,
   "metadata": {},
   "outputs": [
    {
     "data": {
      "text/plain": [
       "161"
      ]
     },
     "execution_count": 163,
     "metadata": {},
     "output_type": "execute_result"
    }
   ],
   "source": [
    "len(ner_types)"
   ]
  },
  {
   "cell_type": "code",
   "execution_count": 164,
   "metadata": {},
   "outputs": [],
   "source": [
    "with open(\"../data/tacred_train.json\") as f:\n",
    "    train_data = json.load(f)"
   ]
  },
  {
   "cell_type": "code",
   "execution_count": 165,
   "metadata": {},
   "outputs": [
    {
     "data": {
      "text/plain": [
       "{'text': 'OBJ-PERSON resigned in October last year to form the SUBJ-ORGANIZATION ( ABC ) , crossing the floor with 17 members of parliament , causing constitutional monarch King Letsie III to dissolve parliament and call the snap election .',\n",
       " 'label': 'org:founded_by'}"
      ]
     },
     "execution_count": 165,
     "metadata": {},
     "output_type": "execute_result"
    }
   ],
   "source": [
    "train_data[0]"
   ]
  },
  {
   "cell_type": "code",
   "execution_count": 166,
   "metadata": {},
   "outputs": [],
   "source": [
    "with open(\"../training/train_phrases.p\", \"rb\") as f:\n",
    "    train_phrases = pickle.load(f)"
   ]
  },
  {
   "cell_type": "code",
   "execution_count": 167,
   "metadata": {},
   "outputs": [
    {
     "data": {
      "text/plain": [
       "68124"
      ]
     },
     "execution_count": 167,
     "metadata": {},
     "output_type": "execute_result"
    }
   ],
   "source": [
    "len(train_phrases)"
   ]
  },
  {
   "cell_type": "code",
   "execution_count": 168,
   "metadata": {},
   "outputs": [],
   "source": [
    "matched_indicies = {}\n",
    "multiple_matches = {}\n",
    "for i, phrase in enumerate(train_phrases):\n",
    "    not_matched = True\n",
    "    for j, function in enumerate(labeling_functions):\n",
    "        try:\n",
    "            if function(phrase):\n",
    "                subj_type = phrase.ners[phrase.subj_posi].lower()\n",
    "                obj_type = phrase.ners[phrase.obj_posi].lower()\n",
    "                if ner_types[function][0] == subj_type and ner_types[function][1] == obj_type:\n",
    "                    if i not in matched_indicies:\n",
    "                        matched_indicies[i] = (labeling_functions[function], j)\n",
    "                    elif i not in multiple_matches:\n",
    "                        multiple_matches[i] = [matched_indicies[i]]\n",
    "                        multiple_matches[i].append((labeling_functions[function], j))\n",
    "                    else:\n",
    "                        mutliple_matches[i].append((labeling_functions[function], j))\n",
    "        except:\n",
    "            continue        "
   ]
  },
  {
   "cell_type": "code",
   "execution_count": 169,
   "metadata": {},
   "outputs": [
    {
     "data": {
      "text/plain": [
       "2745"
      ]
     },
     "execution_count": 169,
     "metadata": {},
     "output_type": "execute_result"
    }
   ],
   "source": [
    "len(matched_indicies)"
   ]
  },
  {
   "cell_type": "code",
   "execution_count": 170,
   "metadata": {},
   "outputs": [
    {
     "data": {
      "text/plain": [
       "67"
      ]
     },
     "execution_count": 170,
     "metadata": {},
     "output_type": "execute_result"
    }
   ],
   "source": [
    "len(multiple_matches)"
   ]
  },
  {
   "cell_type": "code",
   "execution_count": 171,
   "metadata": {},
   "outputs": [
    {
     "data": {
      "text/plain": [
       "2.0"
      ]
     },
     "execution_count": 171,
     "metadata": {},
     "output_type": "execute_result"
    }
   ],
   "source": [
    "sum([len(multiple_matches[key]) for key in multiple_matches])/len(multiple_matches)"
   ]
  },
  {
   "cell_type": "code",
   "execution_count": 172,
   "metadata": {},
   "outputs": [],
   "source": [
    "annnoted_labels = []\n",
    "true_labels = []\n",
    "for key in matched_indicies:\n",
    "    annnoted_labels.append(matched_indicies[key][0])\n",
    "    true_labels.append(train_data[key][\"label\"])"
   ]
  },
  {
   "cell_type": "code",
   "execution_count": 173,
   "metadata": {},
   "outputs": [
    {
     "data": {
      "text/plain": [
       "['per:title',\n",
       " 'org:alternate_names',\n",
       " 'per:title',\n",
       " 'per:title',\n",
       " 'org:top_members/employees',\n",
       " 'org:founded_by',\n",
       " 'per:title',\n",
       " 'org:top_members/employees',\n",
       " 'org:alternate_names',\n",
       " 'org:alternate_names']"
      ]
     },
     "execution_count": 173,
     "metadata": {},
     "output_type": "execute_result"
    }
   ],
   "source": [
    "annnoted_labels[:10]"
   ]
  },
  {
   "cell_type": "code",
   "execution_count": 174,
   "metadata": {},
   "outputs": [
    {
     "data": {
      "text/plain": [
       "['per:title',\n",
       " 'org:alternate_names',\n",
       " 'per:title',\n",
       " 'per:title',\n",
       " 'org:top_members/employees',\n",
       " 'org:founded_by',\n",
       " 'no_relation',\n",
       " 'org:top_members/employees',\n",
       " 'no_relation',\n",
       " 'org:alternate_names']"
      ]
     },
     "execution_count": 174,
     "metadata": {},
     "output_type": "execute_result"
    }
   ],
   "source": [
    "true_labels[:10]"
   ]
  },
  {
   "cell_type": "code",
   "execution_count": 175,
   "metadata": {},
   "outputs": [],
   "source": [
    "import sklearn.metrics as sklm"
   ]
  },
  {
   "cell_type": "code",
   "execution_count": 176,
   "metadata": {},
   "outputs": [
    {
     "data": {
      "text/plain": [
       "(0.8564663023679417, 0.9857442348008386, 0.9165692007797271, None)"
      ]
     },
     "execution_count": 176,
     "metadata": {},
     "output_type": "execute_result"
    }
   ],
   "source": [
    "sklm.precision_recall_fscore_support(true_labels, annnoted_labels, average=\"micro\", labels=label_space)"
   ]
  },
  {
   "cell_type": "code",
   "execution_count": 55,
   "metadata": {},
   "outputs": [],
   "source": [
    "with open(\"../../../ziqi/NExT/tacred_labeled.json\") as f:\n",
    "    ziqi_index = json.load(f)"
   ]
  },
  {
   "cell_type": "code",
   "execution_count": 59,
   "metadata": {},
   "outputs": [],
   "source": [
    "missing_count = 0\n",
    "for pair in ziqi_index:\n",
    "    if pair[0] not in matched_indicies:\n",
    "        missing_count += 1"
   ]
  },
  {
   "cell_type": "code",
   "execution_count": 61,
   "metadata": {},
   "outputs": [
    {
     "data": {
      "text/plain": [
       "24"
      ]
     },
     "execution_count": 61,
     "metadata": {},
     "output_type": "execute_result"
    }
   ],
   "source": [
    "missing_count"
   ]
  },
  {
   "cell_type": "code",
   "execution_count": 62,
   "metadata": {},
   "outputs": [],
   "source": [
    "ziqi_labels = []\n",
    "ziqi_true_labels = []\n",
    "for pair in ziqi_index:\n",
    "    ziqi_labels.append(pair[1])\n",
    "    ziqi_true_labels.append(train_data[pair[0]][\"label\"])"
   ]
  },
  {
   "cell_type": "code",
   "execution_count": 71,
   "metadata": {},
   "outputs": [
    {
     "data": {
      "text/plain": [
       "(0.8565137614678899, 0.9856418918918919, 0.9165521303750246, None)"
      ]
     },
     "execution_count": 71,
     "metadata": {},
     "output_type": "execute_result"
    }
   ],
   "source": [
    "sklm.precision_recall_fscore_support(ziqi_true_labels, ziqi_labels, average=\"micro\", labels=label_space)"
   ]
  },
  {
   "cell_type": "code",
   "execution_count": 113,
   "metadata": {},
   "outputs": [],
   "source": [
    "matched_indicies_per_function = {}\n",
    "for i, phrase in enumerate(train_phrases):\n",
    "    not_matched = True\n",
    "    for j, function in enumerate(labeling_functions):\n",
    "        try:\n",
    "            if function(phrase):\n",
    "                if j not in matched_indicies_per_function:\n",
    "                    matched_indicies_per_function[j] = {}\n",
    "                if i not in matched_indicies_per_function[j]:\n",
    "                    matched_indicies_per_function[j][i] = (labeling_functions[function], j)\n",
    "        except:\n",
    "            continue        "
   ]
  },
  {
   "cell_type": "code",
   "execution_count": 116,
   "metadata": {},
   "outputs": [
    {
     "name": "stdout",
     "output_type": "stream",
     "text": [
      "6 1538\n",
      "13 870\n",
      "1 98\n",
      "3 507\n",
      "10 22\n",
      "29 83\n",
      "23 64\n",
      "7 51\n",
      "15 70\n",
      "0 41\n",
      "18 29\n",
      "16 80\n",
      "5 96\n",
      "27 56\n",
      "2 20\n",
      "20 16\n",
      "19 46\n",
      "22 21\n",
      "32 42\n",
      "25 34\n",
      "36 30\n",
      "21 13\n",
      "35 32\n",
      "24 14\n",
      "30 19\n",
      "12 14\n",
      "4 25\n",
      "31 19\n",
      "34 24\n",
      "9 13\n",
      "33 23\n",
      "26 13\n",
      "14 24\n",
      "28 30\n",
      "37 19\n",
      "11 21\n",
      "8 15\n",
      "17 11\n"
     ]
    }
   ],
   "source": [
    "for key in matched_indicies_per_function:\n",
    "    print(key, (len(matched_indicies_per_function[key])))"
   ]
  },
  {
   "cell_type": "code",
   "execution_count": 119,
   "metadata": {},
   "outputs": [],
   "source": [
    "functions = list(labeling_functions.keys())"
   ]
  },
  {
   "cell_type": "code",
   "execution_count": 130,
   "metadata": {},
   "outputs": [
    {
     "data": {
      "text/plain": [
       "'org:country_of_headquarters'"
      ]
     },
     "execution_count": 130,
     "metadata": {},
     "output_type": "execute_result"
    }
   ],
   "source": [
    "labeling_functions[functions[3]]"
   ]
  },
  {
   "cell_type": "code",
   "execution_count": 121,
   "metadata": {},
   "outputs": [],
   "source": [
    "semantic_reps = parser.semantic_reps"
   ]
  },
  {
   "cell_type": "code",
   "execution_count": 129,
   "metadata": {},
   "outputs": [
    {
     "name": "stdout",
     "output_type": "stream",
     "text": [
      "('.root', ('@And', ('@Is', ('@Word', \"'s\"), ('@between', ('@And', 'ArgY', 'ArgX'))), ('@Is', 'There', ('@AtMost', ('@between', ('@And', 'ArgY', 'ArgX')), ('@Num', '2', 'tokens')))))\n"
     ]
    }
   ],
   "source": [
    "for key in semantic_reps:\n",
    "    if semantic_reps[key] == functions[3]:\n",
    "        print(key)"
   ]
  },
  {
   "cell_type": "code",
   "execution_count": 131,
   "metadata": {},
   "outputs": [
    {
     "data": {
      "text/plain": [
       "'There are no more than two words between SUBJ and OBJ and the word \"\\'s\" occurs between SUBJ and OBJ'"
      ]
     },
     "execution_count": 131,
     "metadata": {},
     "output_type": "execute_result"
    }
   ],
   "source": [
    "parser.filtered_raw_explanations[('.root', ('@And', ('@Is', ('@Word', \"'s\"), ('@between', ('@And', 'ArgY', 'ArgX'))), ('@Is', 'There', ('@AtMost', ('@between', ('@And', 'ArgY', 'ArgX')), ('@Num', '2', 'tokens')))))]"
   ]
  },
  {
   "cell_type": "code",
   "execution_count": null,
   "metadata": {},
   "outputs": [],
   "source": []
  }
 ],
 "metadata": {
  "kernelspec": {
   "display_name": "Python 3",
   "language": "python",
   "name": "python3"
  },
  "language_info": {
   "codemirror_mode": {
    "name": "ipython",
    "version": 3
   },
   "file_extension": ".py",
   "mimetype": "text/x-python",
   "name": "python",
   "nbconvert_exporter": "python",
   "pygments_lexer": "ipython3",
   "version": "3.6.5"
  }
 },
 "nbformat": 4,
 "nbformat_minor": 4
}
