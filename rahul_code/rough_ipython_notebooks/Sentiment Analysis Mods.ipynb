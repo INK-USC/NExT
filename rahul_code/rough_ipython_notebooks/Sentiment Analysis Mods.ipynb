{
 "cells": [
  {
   "cell_type": "code",
   "execution_count": 131,
   "metadata": {},
   "outputs": [
    {
     "name": "stdout",
     "output_type": "stream",
     "text": [
      "The autoreload extension is already loaded. To reload it, use:\n",
      "  %reload_ext autoreload\n"
     ]
    }
   ],
   "source": [
    "%load_ext autoreload\n",
    "%autoreload 2"
   ]
  },
  {
   "cell_type": "code",
   "execution_count": 132,
   "metadata": {},
   "outputs": [],
   "source": [
    "import sys"
   ]
  },
  {
   "cell_type": "code",
   "execution_count": 133,
   "metadata": {},
   "outputs": [],
   "source": [
    "sys.path.append(\"../\")\n",
    "sys.path.append(\"../../\")"
   ]
  },
  {
   "cell_type": "code",
   "execution_count": 134,
   "metadata": {},
   "outputs": [],
   "source": [
    "from CCG import utils\n",
    "from rahul_code.CCG_new import constants\n",
    "import rahul_code.CCG_new.utils as r_utils \n",
    "from nltk.ccg import chart, lexicon\n",
    "import re"
   ]
  },
  {
   "cell_type": "code",
   "execution_count": 177,
   "metadata": {},
   "outputs": [],
   "source": [
    "mini_sent = \"\"\"\n",
    "The phrase \\\"'s grandmother\\\" occurs between SUBJ and OBJ\n",
    "\"\"\"\n",
    "\n",
    "mini_sent_2 = \"\"\"\n",
    "The phrase 'angry' is in the sentence\n",
    "\"\"\"\n",
    "\n",
    "longer_sent = \"\"\"\n",
    "The phrase \\\"'s grandmother\\\" occurs between SUBJ and OBJ and there are no more than four words between SUBJ and OBJ .\n",
    "\"\"\""
   ]
  },
  {
   "cell_type": "code",
   "execution_count": 178,
   "metadata": {},
   "outputs": [],
   "source": [
    "sent = mini_sent_2"
   ]
  },
  {
   "cell_type": "code",
   "execution_count": 179,
   "metadata": {},
   "outputs": [],
   "source": [
    "pre_process = utils.pre_process_sent(sent)"
   ]
  },
  {
   "cell_type": "code",
   "execution_count": 180,
   "metadata": {},
   "outputs": [
    {
     "data": {
      "text/plain": [
       "['The', 'phrase', \"'angry'\", '$In', 'the', 'sentence']"
      ]
     },
     "execution_count": 180,
     "metadata": {},
     "output_type": "execute_result"
    }
   ],
   "source": [
    "pre_process"
   ]
  },
  {
   "cell_type": "code",
   "execution_count": 181,
   "metadata": {},
   "outputs": [],
   "source": [
    "sent_tokenized = utils.print_tokenized(pre_process)"
   ]
  },
  {
   "cell_type": "code",
   "execution_count": 182,
   "metadata": {},
   "outputs": [
    {
     "data": {
      "text/plain": [
       "[['$The', '$Word', \"'angry'\", '$In', '$The', '$Sentence']]"
      ]
     },
     "execution_count": 182,
     "metadata": {},
     "output_type": "execute_result"
    }
   ],
   "source": [
    "sent_tokenized"
   ]
  },
  {
   "cell_type": "code",
   "execution_count": 155,
   "metadata": {},
   "outputs": [],
   "source": [
    "raw_lexicon = constants.RAW_GRAMMAR\n",
    "raw_lexicon = r_utils.add_rules_to_grammar(['\"angry\"'], raw_lexicon)"
   ]
  },
  {
   "cell_type": "code",
   "execution_count": 156,
   "metadata": {},
   "outputs": [
    {
     "data": {
      "text/plain": [
       "':- S,NP,N,PP\\n        VP :: S\\\\NP\\n        Det :: NP/N\\n        Adj :: N/N\\n        arg => NP {None}\\n        #$True => (S\\\\VP)/PP {None}\\n        #$False => (S\\\\VP)/PP {None}\\n        $And => var\\\\.,var/.,var {\\\\x y.\\'@And\\'(x,y)}\\n        $Or => var\\\\.,var/.,var {\\\\x y.\\'@Or\\'(x,y)}\\n        $Not => (S\\\\NP)\\\\(S\\\\NP) {None}\\n        $Not => (S\\\\NP)/(S\\\\NP) {None}\\n        $All => NP/N {None}\\n        $All => NP {None}\\n        $All => NP/NP {None}\\n        $Any => NP/N {None}\\n        $None => N {None}\\n        #$Is => (S\\\\NP)/NP {\\\\y x.\\'@Is\\'(x,y)}\\n        #$Is => (S\\\\NP)/(S\\\\NP) {\\\\y x.\\'@Is\\'(x,y)}\\n        $Is => (S\\\\NP)/PP {\\\\y x.\\'@Is\\'(x,y)}   # word \\'a\\' occurs between <S> and <O>\\n        $Is => (S\\\\NP)\\\\PP {\\\\y x.\\'@Is\\'(x,y)}  # between <S> and <O> occurs word \\'a\\'\\n        $Is => (S\\\\PP)\\\\NP {\\\\x y.\\'@Is\\'(x,y)}  # between <S> and <O> word \\'a\\' occurs\\n        $Exists => S\\\\NP/PP {\\\\y x.\\'@Is\\'(x,y)}\\n        #$Exists => S\\\\NP {None}\\n        $Int => Adj {None} #There are no words between <S> and <O>\\n        $AtLeastOne => NP/N {None}\\n        #$Equals => (S\\\\NP)/NP {None}\\n        #$NotEquals => (S\\\\NP)/NP {None}\\n        \\n        \\n        $LessThan => PP/PP/N {\\\\x y.\\'@LessThan\\'(y,x)} #There are less than 3 words between <S> and <O>   \\n        $AtMost => PP/PP/N {\\\\x y.\\'@AtMost\\'(y,x)} #There are at most 3 words between <S> and <O>\\n        $AtLeast => PP/PP/N {\\\\x y.\\'@AtLeast\\'(y,x)} #same as above\\n        $MoreThan => PP/PP/N {\\\\x y.\\'@MoreThan\\'(y,x)} #same as above\\n        \\n        $LessThan => PP/N {\\\\x.\\'@LessThan1\\'(y,x)} #number of words between X and Y is less than 7.\\n        $AtMost => PP/N {\\\\x.\\'@AtMost1\\'(y,x)} \\n        $AtLeast => PP/N {\\\\x.\\'@AtLeast1\\'(y,x)}   #same as above\\n        $MoreThan => PP/N {\\\\x.\\'@MoreThan1\\'(y,x)} #same as above\\n\\n        #$In => S\\\\NP/NP {None} \\n        # $In => PP/NP {\\\\x.\\'@In0\\'(x)} \\n        $Separator => var\\\\.,var/.,var {\\\\x y.\\'@And\\'(x,y)} #connection between two words\\n        #$Processive => NP/N\\\\N {None}\\n        #$Count => N {None}\\n        #$Tuple => N {None}\\n        #$ArgXListAnd => NP {None}\\n        $EachOther => N {None}\\n        $Token => N {\\\\x.\\'@Word\\'(x)}\\n        $Word => NP/N {\\\\x.\\'@Word\\'(x)}\\n        $Word => NP/NP {\\\\x.\\'@Word\\'(x)}\\n        \\n        $Word => N {\\'tokens\\'} #There are no more than 3 words between <S> and <O>\\n        $Word => NP {\\'tokens\\'} #There are no more than 3 words between <S> and <O>\\n        \\n        $Char => N {None} #same as above\\n        #$Lower => Adj {None}\\n        #$Capital => Adj {None}\\n        $StartsWith => S\\\\NP/NP {\\\\y x.\\'@StartsWith\\'(x,y)}\\n        $EndsWith => S\\\\NP/NP {\\\\y x.\\'@EndsWith\\'(x,y)}\\n        $Left => PP/NP {\\\\x.\\'@Left0\\'(x)} # the word \\'a\\' is before <S>\\n        $Left => (S\\\\NP)/NP {\\\\y x.\\'@Left\\'(y,x)}  #Precedes\\n        $Right => PP/NP {\\\\x.\\'@Right0\\'(x)}# the word \\'a\\' ia after <S>\\n        $Right => (S\\\\NP)/NP {\\\\y x.\\'@Right\\'(y,x)} \\n        #$Within => ((S\\\\NP)\\\\(S\\\\NP))/NP {None} # the word \\'a\\' is within 2 words after <S>\\n        #$Within => (NP\\\\NP)/NP {None}\\n        $Within => PP/PP/N {\\\\x y.\\'@AtMost\\'(y,x)} #Does Within has other meaning.\\n        $Sentence => NP {\\'Sentence\\'}\\n        $Contains => S\\\\NP/NP {\\\\x y. \\'@In0\\'(y, x)} #y contains x\\n        $In => S\\\\NP/NP {\\\\x y. \\'@In0\\'(x, y)} # y is in x\\n        $Between => (S/S)/NP {\\\\x y.\\'@between\\'(x,y)}\\n        $Between => S/NP {\\\\x.\\'@between\\'(x)}\\n        $Between => PP/NP {\\\\x.\\'@between\\'(x)}\\n        $Between => (NP\\\\NP)/NP {\\\\x y.\\'@between\\'(x,y)}\\n        \\n        $PersonNER => NP {\\'@PER\\'}\\n        $LocationNER => NP {\\'@LOC\\'}\\n        $DateNER => NP {\\'@Date\\'}\\n        $NumberNER => NP {\\'@Num\\'}\\n        $OrganizationNER => NP {\\'@Org\\'}\\n        $NorpNER => NP {\\'@Norp\\'}\\n        $ArgX => NP {\\'ArgX\\'}\\n        $ArgY => NP {\\'ArgY\\'}\\n        #$will => S\\\\NP/VP {None}\\n        #$Which => (NP\\\\NP)/(S/NP) {None}\\n        #$might => S\\\\NP/VP {None}\\n        $that => NP/N {None}\\n        #$that => (N\\\\N)/(S/NP) {None} #same as which\\n        $Apart => (S/PP)\\\\NP {None}\\n        $Direct => PP/PP {\\\\x.\\'@Direct\\'(x)} # the word \\'a\\' is right before <S>   \\n        $Direct => (S\\\\NP)/PP {\\\\y x.\\'@Is\\'(x,\\'@Direct\\'(y))}\\n        $Last => Adj {None}\\n        $There => NP {\\'There\\'}\\n        $By => S\\\\NP\\\\PP/NP {\\\\z f x.\\'@By\\'(x,f,z)} #precedes sth by 10 chatacters       \\n        $By => (S\\\\NP)\\\\PP/(PP/PP) {\\\\F x y.\\'@Is\\'(y,F(x))} #precedes sth by no more than10 chatacters        \\n        $By => PP\\\\PP/(PP/PP) {\\\\F x. F(x)} #occurs before by no...\\n        \\n        $Numberof => NP/PP/NP {\\\\x F.\\'@NumberOf\\'(x,F)}\\n        \\n        $Of => PP/NP {\\\\x.\\'@Range0\\'(x)} # the word \\'x\\' is at most 3 words of Y     \\n        $Of => NP/NP {\\\\x.x} #these two are designed to solve problems like $Is $Left $Of and $Is $Left\\n        $Of => N/N {\\\\x.x}\\n        $Char => NP/N {None}\\n        $ArgX => N {\\'ArgX\\'}\\n        $ArgY => N {\\'ArgY\\'}\\n        $Link => (S\\\\NP)/NP {\\\\x y.\\'@Is\\'(y,\\'@between\\'(x))}\\n        $SandWich => (S\\\\NP)/NP {\\\\x y.\\'@Is\\'(x,\\'@between\\'(y))}\\n        $The => N/N {\\\\x.x}\\n        $The =>NP/NP {\\\\x.x}\\n        \\t\"angry\" => NP {\"angry\"}\\n\\t\"angry\" => N {\"angry\"}'"
      ]
     },
     "execution_count": 156,
     "metadata": {},
     "output_type": "execute_result"
    }
   ],
   "source": [
    "raw_lexicon"
   ]
  },
  {
   "cell_type": "code",
   "execution_count": 157,
   "metadata": {},
   "outputs": [],
   "source": [
    "lex = lexicon.fromstring(raw_lexicon, True)\n",
    "parser = chart.CCGChartParser(lex, chart.DefaultRuleSet)"
   ]
  },
  {
   "cell_type": "code",
   "execution_count": null,
   "metadata": {},
   "outputs": [],
   "source": []
  },
  {
   "cell_type": "code",
   "execution_count": 193,
   "metadata": {},
   "outputs": [],
   "source": [
    "sent_tokenized = [['$The', '$Word', '\"angry\"', '$In', '$The', '$Sentence']]"
   ]
  },
  {
   "cell_type": "code",
   "execution_count": 194,
   "metadata": {},
   "outputs": [],
   "source": [
    "logic_forms = []"
   ]
  },
  {
   "cell_type": "code",
   "execution_count": 195,
   "metadata": {},
   "outputs": [],
   "source": [
    "for i, e in enumerate(sent_tokenized):\n",
    "    parses = list(parser.parse(e))\n",
    "    logic_forms += parses"
   ]
  },
  {
   "cell_type": "code",
   "execution_count": 196,
   "metadata": {},
   "outputs": [
    {
     "data": {
      "text/plain": [
       "28"
      ]
     },
     "execution_count": 196,
     "metadata": {},
     "output_type": "execute_result"
    }
   ],
   "source": [
    "len(logic_forms)"
   ]
  },
  {
   "cell_type": "code",
   "execution_count": 197,
   "metadata": {},
   "outputs": [],
   "source": [
    "raw_sems = list(set([str(tree.label()[0].semantics()) for tree in logic_forms]))"
   ]
  },
  {
   "cell_type": "code",
   "execution_count": 198,
   "metadata": {},
   "outputs": [
    {
     "name": "stdout",
     "output_type": "stream",
     "text": [
      "'@In0'('Sentence','@Word'(\"angry\"))\n",
      "\n",
      "\n"
     ]
    }
   ],
   "source": [
    "for sem in raw_sems:\n",
    "    print(sem)\n",
    "    print(\"\\n\")"
   ]
  },
  {
   "cell_type": "code",
   "execution_count": 79,
   "metadata": {},
   "outputs": [],
   "source": [
    "sem_split = re.split(',|(\\()', raw_sems[0])"
   ]
  },
  {
   "cell_type": "code",
   "execution_count": 80,
   "metadata": {},
   "outputs": [],
   "source": [
    "sem_split = [token for token in sem_split if token]"
   ]
  },
  {
   "cell_type": "code",
   "execution_count": 81,
   "metadata": {},
   "outputs": [],
   "source": [
    "new_sem = []\n",
    "for i,w in enumerate(sem_split):\n",
    "    if w=='(':\n",
    "        new_sem.insert(-1,'(')\n",
    "    else:\n",
    "        new_sem.append(sem_split[i])"
   ]
  },
  {
   "cell_type": "code",
   "execution_count": 82,
   "metadata": {},
   "outputs": [],
   "source": [
    "# for duo in zip(sem_split, new_sem):\n",
    "#     print(duo)"
   ]
  },
  {
   "cell_type": "code",
   "execution_count": 83,
   "metadata": {},
   "outputs": [
    {
     "name": "stdout",
     "output_type": "stream",
     "text": [
      "['(', \"'@In0'\", \"'Sentence'\", '(', \"'@Word'\", '\"angry\"))']\n"
     ]
    }
   ],
   "source": [
    "print(new_sem)"
   ]
  },
  {
   "cell_type": "code",
   "execution_count": 57,
   "metadata": {},
   "outputs": [
    {
     "ename": "NameError",
     "evalue": "name 's' is not defined",
     "output_type": "error",
     "traceback": [
      "\u001b[0;31m---------------------------------------------------------------------------\u001b[0m",
      "\u001b[0;31mNameError\u001b[0m                                 Traceback (most recent call last)",
      "\u001b[0;32m<ipython-input-57-32f61fc096a3>\u001b[0m in \u001b[0;36m<module>\u001b[0;34m\u001b[0m\n\u001b[1;32m      1\u001b[0m \u001b[0;31m# s = new_sem[6]\u001b[0m\u001b[0;34m\u001b[0m\u001b[0;34m\u001b[0m\u001b[0m\n\u001b[1;32m      2\u001b[0m \u001b[0;31m# print(s)\u001b[0m\u001b[0;34m\u001b[0m\u001b[0;34m\u001b[0m\u001b[0m\n\u001b[0;32m----> 3\u001b[0;31m \u001b[0msem_replace\u001b[0m \u001b[0;34m=\u001b[0m \u001b[0ms\u001b[0m\u001b[0;34m.\u001b[0m\u001b[0mreplace\u001b[0m\u001b[0;34m(\u001b[0m\u001b[0;34m'SPACE'\u001b[0m\u001b[0;34m,\u001b[0m \u001b[0;34m' '\u001b[0m\u001b[0;34m)\u001b[0m\u001b[0;34m\u001b[0m\u001b[0m\n\u001b[0m\u001b[1;32m      4\u001b[0m \u001b[0;32mfor\u001b[0m \u001b[0mcom\u001b[0m \u001b[0;32min\u001b[0m \u001b[0mconstant\u001b[0m\u001b[0;34m.\u001b[0m\u001b[0mcomma_index\u001b[0m\u001b[0;34m:\u001b[0m\u001b[0;34m\u001b[0m\u001b[0m\n\u001b[1;32m      5\u001b[0m     \u001b[0msem_replace\u001b[0m \u001b[0;34m=\u001b[0m \u001b[0msem_replace\u001b[0m\u001b[0;34m.\u001b[0m\u001b[0mreplace\u001b[0m\u001b[0;34m(\u001b[0m\u001b[0;34m'COMMA'\u001b[0m \u001b[0;34m+\u001b[0m \u001b[0mstr\u001b[0m\u001b[0;34m(\u001b[0m\u001b[0mconstant\u001b[0m\u001b[0;34m.\u001b[0m\u001b[0mcomma_index\u001b[0m\u001b[0;34m[\u001b[0m\u001b[0mcom\u001b[0m\u001b[0;34m]\u001b[0m\u001b[0;34m)\u001b[0m\u001b[0;34m,\u001b[0m \u001b[0mcom\u001b[0m\u001b[0;34m)\u001b[0m\u001b[0;34m\u001b[0m\u001b[0m\n",
      "\u001b[0;31mNameError\u001b[0m: name 's' is not defined"
     ]
    }
   ],
   "source": [
    "# s = new_sem[6]\n",
    "# print(s)\n",
    "# sem_replace = s.replace('SPACE', ' ')\n",
    "for com in constant.comma_index:\n",
    "    sem_replace = sem_replace.replace('COMMA' + str(constant.comma_index[com]), com)\n",
    "if sem_replace.startswith(\"'\"):\n",
    "    if sem_replace.endswith(\")\"):\n",
    "        posi = len(sem_replace)-1\n",
    "        while sem_replace[posi]==\")\":\n",
    "            posi-=1\n",
    "        assert sem_replace[posi]==\"\\'\"\n",
    "    else:\n",
    "        posi = len(sem_replace)-1\n",
    "        assert sem_replace[posi] == \"\\'\"\n",
    "    print(sem_replace)\n",
    "    sem_replace = sem_replace[0]+sem_replace[1:posi].replace('\\'','\\\\\\'')+sem_replace[posi:]"
   ]
  },
  {
   "cell_type": "code",
   "execution_count": 84,
   "metadata": {},
   "outputs": [
    {
     "data": {
      "text/plain": [
       "['(', \"'@In0'\", \"'Sentence'\", '(', \"'@Word'\", '\"angry\"))']"
      ]
     },
     "execution_count": 84,
     "metadata": {},
     "output_type": "execute_result"
    }
   ],
   "source": [
    "new_sem"
   ]
  },
  {
   "cell_type": "code",
   "execution_count": 85,
   "metadata": {},
   "outputs": [],
   "source": [
    "sem_ = ''\n",
    "for i,s in enumerate(new_sem):\n",
    "    sem_replace = s.replace('SPACE', ' ')\n",
    "#     for com in constants.comma_index:\n",
    "#         sem_replace = sem_replace.replace('COMMA' + str(constants.comma_index[com]), com)\n",
    "    if sem_replace.startswith(\"\\\"\"):\n",
    "        if sem_replace.endswith(\")\"):\n",
    "            posi = len(sem_replace)-1\n",
    "            while sem_replace[posi]==\")\":\n",
    "                posi-=1\n",
    "            assert sem_replace[posi]==\"\\\"\"\n",
    "        else:\n",
    "            posi = len(sem_replace)-1\n",
    "            assert sem_replace[posi] == \"\\\"\"\n",
    "\n",
    "        sem_replace = sem_replace[0]+sem_replace[1:posi].replace('\\\"','\\\\\\\"')+sem_replace[posi:]\n",
    "    if new_sem[i-1]=='(':\n",
    "        sem_=sem_+sem_replace\n",
    "    else:\n",
    "        sem_ = sem_+','+sem_replace"
   ]
  },
  {
   "cell_type": "code",
   "execution_count": 86,
   "metadata": {},
   "outputs": [
    {
     "data": {
      "text/plain": [
       "',(\\'@In0\\',\\'Sentence\\',(\\'@Word\\',\"angry\"))'"
      ]
     },
     "execution_count": 86,
     "metadata": {},
     "output_type": "execute_result"
    }
   ],
   "source": [
    "sem_"
   ]
  },
  {
   "cell_type": "code",
   "execution_count": 87,
   "metadata": {},
   "outputs": [],
   "source": [
    "temp = (\".root\", eval(sem_[1:]))"
   ]
  },
  {
   "cell_type": "code",
   "execution_count": 88,
   "metadata": {},
   "outputs": [
    {
     "data": {
      "text/plain": [
       "('.root', ('@In0', 'Sentence', ('@Word', 'angry')))"
      ]
     },
     "execution_count": 88,
     "metadata": {},
     "output_type": "execute_result"
    }
   ],
   "source": [
    "temp"
   ]
  },
  {
   "cell_type": "code",
   "execution_count": 224,
   "metadata": {},
   "outputs": [],
   "source": [
    "hehe = { temp : 1}"
   ]
  },
  {
   "cell_type": "code",
   "execution_count": 95,
   "metadata": {},
   "outputs": [
    {
     "data": {
      "text/plain": [
       "('.root', ('@In0', 'Sentence', ('@Word', 'angry')))"
      ]
     },
     "execution_count": 95,
     "metadata": {},
     "output_type": "execute_result"
    }
   ],
   "source": [
    "('.root', eval(\"('@In0','Sentence',('@Word',\\\"angry\\\"))\"))"
   ]
  },
  {
   "cell_type": "code",
   "execution_count": 108,
   "metadata": {},
   "outputs": [],
   "source": [
    "parsed_sems = [utils.parse_sem(str(tree.label()[0].semantics())) for tree in logic_forms]"
   ]
  },
  {
   "cell_type": "code",
   "execution_count": 109,
   "metadata": {},
   "outputs": [
    {
     "data": {
      "text/plain": [
       "('.root',\n",
       " ('@Is', ('@Word', \"'s grandmother\"), ('@between', ('@And', 'ArgY', 'ArgX'))))"
      ]
     },
     "execution_count": 109,
     "metadata": {},
     "output_type": "execute_result"
    }
   ],
   "source": [
    "parsed_sems[0]"
   ]
  },
  {
   "cell_type": "code",
   "execution_count": 65,
   "metadata": {},
   "outputs": [
    {
     "data": {
      "text/plain": [
       "('.root',\n",
       " ('@Is', ('@Word', \"'s grandmother\"), ('@between', ('@And', 'ArgY', 'ArgX'))))"
      ]
     },
     "execution_count": 65,
     "metadata": {},
     "output_type": "execute_result"
    }
   ],
   "source": [
    "parsed_sems[1]"
   ]
  },
  {
   "cell_type": "code",
   "execution_count": 66,
   "metadata": {},
   "outputs": [
    {
     "data": {
      "text/plain": [
       "(tuple, 2, 5, 3)"
      ]
     },
     "execution_count": 66,
     "metadata": {},
     "output_type": "execute_result"
    }
   ],
   "source": [
    "type(parsed_sems[1]), len(parsed_sems[1]), len(parsed_sems[1][0]), len(parsed_sems[1][1])"
   ]
  },
  {
   "cell_type": "code",
   "execution_count": 67,
   "metadata": {},
   "outputs": [
    {
     "data": {
      "text/plain": [
       "('.root', tuple)"
      ]
     },
     "execution_count": 67,
     "metadata": {},
     "output_type": "execute_result"
    }
   ],
   "source": [
    "parsed_sems[1][0], type(parsed_sems[1][1])"
   ]
  },
  {
   "cell_type": "code",
   "execution_count": 68,
   "metadata": {},
   "outputs": [
    {
     "data": {
      "text/plain": [
       "('.root',\n",
       " ('@Is', ('@Word', \"'s grandmother\"), ('@between', ('@And', 'ArgY', 'ArgX'))))"
      ]
     },
     "execution_count": 68,
     "metadata": {},
     "output_type": "execute_result"
    }
   ],
   "source": [
    "parsed_sems[1]"
   ]
  },
  {
   "cell_type": "code",
   "execution_count": 69,
   "metadata": {},
   "outputs": [
    {
     "data": {
      "text/plain": [
       "('@Is', ('@Word', \"'s grandmother\"), ('@between', ('@And', 'ArgY', 'ArgX')))"
      ]
     },
     "execution_count": 69,
     "metadata": {},
     "output_type": "execute_result"
    }
   ],
   "source": [
    "parsed_sems[1][1]"
   ]
  },
  {
   "cell_type": "code",
   "execution_count": 70,
   "metadata": {},
   "outputs": [
    {
     "data": {
      "text/plain": [
       "('@Word', \"'s grandmother\")"
      ]
     },
     "execution_count": 70,
     "metadata": {},
     "output_type": "execute_result"
    }
   ],
   "source": [
    "parsed_sems[1][1][1]"
   ]
  },
  {
   "cell_type": "code",
   "execution_count": 71,
   "metadata": {},
   "outputs": [
    {
     "data": {
      "text/plain": [
       "('@between', ('@And', 'ArgY', 'ArgX'))"
      ]
     },
     "execution_count": 71,
     "metadata": {},
     "output_type": "execute_result"
    }
   ],
   "source": [
    "parsed_sems[1][1][2]"
   ]
  },
  {
   "cell_type": "code",
   "execution_count": 28,
   "metadata": {},
   "outputs": [],
   "source": [
    "labeling_functions = [utils.recurse(parsed_sem) for parsed_sem in parsed_sems]"
   ]
  },
  {
   "cell_type": "code",
   "execution_count": 238,
   "metadata": {},
   "outputs": [
    {
     "ename": "AttributeError",
     "evalue": "'str' object has no attribute 'get_mid'",
     "output_type": "error",
     "traceback": [
      "\u001b[0;31m---------------------------------------------------------------------------\u001b[0m",
      "\u001b[0;31mAttributeError\u001b[0m                            Traceback (most recent call last)",
      "\u001b[0;32m<ipython-input-238-40ddd4c24c9a>\u001b[0m in \u001b[0;36m<module>\u001b[0;34m\u001b[0m\n\u001b[0;32m----> 1\u001b[0;31m \u001b[0mlabeling_functions\u001b[0m\u001b[0;34m[\u001b[0m\u001b[0;36m0\u001b[0m\u001b[0;34m]\u001b[0m\u001b[0;34m(\u001b[0m\u001b[0;34m\"The phrase \\\"'s grandmother\\\" occurs between SUBJ and OBJ and there are no more than four words between SUBJ and OBJ .\"\u001b[0m\u001b[0;34m)\u001b[0m\u001b[0;34m\u001b[0m\u001b[0m\n\u001b[0m",
      "\u001b[0;32m~/Documents/usc/research/ink_lab/NExT/CCG/constant.py\u001b[0m in \u001b[0;36m<lambda>\u001b[0;34m(c)\u001b[0m\n\u001b[1;32m    303\u001b[0m \u001b[0;34m\u001b[0m\u001b[0m\n\u001b[1;32m    304\u001b[0m ops={\n\u001b[0;32m--> 305\u001b[0;31m     \u001b[0;34m\".root\"\u001b[0m\u001b[0;34m:\u001b[0m\u001b[0;32mlambda\u001b[0m \u001b[0mxs\u001b[0m\u001b[0;34m:\u001b[0m\u001b[0;32mlambda\u001b[0m \u001b[0mc\u001b[0m\u001b[0;34m:\u001b[0m\u001b[0mall\u001b[0m\u001b[0;34m(\u001b[0m\u001b[0;34m[\u001b[0m\u001b[0mx\u001b[0m\u001b[0;34m(\u001b[0m\u001b[0mc\u001b[0m\u001b[0;34m)\u001b[0m \u001b[0;32mfor\u001b[0m \u001b[0mx\u001b[0m \u001b[0;32min\u001b[0m \u001b[0mxs\u001b[0m\u001b[0;34m]\u001b[0m\u001b[0;34m)\u001b[0m \u001b[0;32mif\u001b[0m \u001b[0mtype\u001b[0m\u001b[0;34m(\u001b[0m\u001b[0mxs\u001b[0m\u001b[0;34m)\u001b[0m\u001b[0;34m==\u001b[0m\u001b[0mtuple\u001b[0m \u001b[0;32melse\u001b[0m \u001b[0mxs\u001b[0m\u001b[0;34m(\u001b[0m\u001b[0mc\u001b[0m\u001b[0;34m)\u001b[0m\u001b[0;34m,\u001b[0m\u001b[0;34m\u001b[0m\u001b[0m\n\u001b[0m\u001b[1;32m    306\u001b[0m     \u001b[0;34m\"@Word\"\u001b[0m\u001b[0;34m:\u001b[0m\u001b[0;32mlambda\u001b[0m \u001b[0mx\u001b[0m\u001b[0;34m:\u001b[0m\u001b[0mx\u001b[0m\u001b[0;34m,\u001b[0m\u001b[0;34m\u001b[0m\u001b[0m\n\u001b[1;32m    307\u001b[0m     \u001b[0;34m\"@Is\"\u001b[0m\u001b[0;34m:\u001b[0m\u001b[0;32mlambda\u001b[0m \u001b[0mws\u001b[0m\u001b[0;34m,\u001b[0m\u001b[0mp\u001b[0m\u001b[0;34m:\u001b[0m \u001b[0;32mlambda\u001b[0m \u001b[0mc\u001b[0m\u001b[0;34m:\u001b[0m \u001b[0mIsFunc\u001b[0m\u001b[0;34m(\u001b[0m\u001b[0mws\u001b[0m\u001b[0;34m,\u001b[0m\u001b[0mp\u001b[0m\u001b[0;34m,\u001b[0m\u001b[0mc\u001b[0m\u001b[0;34m)\u001b[0m\u001b[0;34m,\u001b[0m\u001b[0;34m\u001b[0m\u001b[0m\n",
      "\u001b[0;32m~/Documents/usc/research/ink_lab/NExT/CCG/constant.py\u001b[0m in \u001b[0;36m<listcomp>\u001b[0;34m(.0)\u001b[0m\n\u001b[1;32m    303\u001b[0m \u001b[0;34m\u001b[0m\u001b[0m\n\u001b[1;32m    304\u001b[0m ops={\n\u001b[0;32m--> 305\u001b[0;31m     \u001b[0;34m\".root\"\u001b[0m\u001b[0;34m:\u001b[0m\u001b[0;32mlambda\u001b[0m \u001b[0mxs\u001b[0m\u001b[0;34m:\u001b[0m\u001b[0;32mlambda\u001b[0m \u001b[0mc\u001b[0m\u001b[0;34m:\u001b[0m\u001b[0mall\u001b[0m\u001b[0;34m(\u001b[0m\u001b[0;34m[\u001b[0m\u001b[0mx\u001b[0m\u001b[0;34m(\u001b[0m\u001b[0mc\u001b[0m\u001b[0;34m)\u001b[0m \u001b[0;32mfor\u001b[0m \u001b[0mx\u001b[0m \u001b[0;32min\u001b[0m \u001b[0mxs\u001b[0m\u001b[0;34m]\u001b[0m\u001b[0;34m)\u001b[0m \u001b[0;32mif\u001b[0m \u001b[0mtype\u001b[0m\u001b[0;34m(\u001b[0m\u001b[0mxs\u001b[0m\u001b[0;34m)\u001b[0m\u001b[0;34m==\u001b[0m\u001b[0mtuple\u001b[0m \u001b[0;32melse\u001b[0m \u001b[0mxs\u001b[0m\u001b[0;34m(\u001b[0m\u001b[0mc\u001b[0m\u001b[0;34m)\u001b[0m\u001b[0;34m,\u001b[0m\u001b[0;34m\u001b[0m\u001b[0m\n\u001b[0m\u001b[1;32m    306\u001b[0m     \u001b[0;34m\"@Word\"\u001b[0m\u001b[0;34m:\u001b[0m\u001b[0;32mlambda\u001b[0m \u001b[0mx\u001b[0m\u001b[0;34m:\u001b[0m\u001b[0mx\u001b[0m\u001b[0;34m,\u001b[0m\u001b[0;34m\u001b[0m\u001b[0m\n\u001b[1;32m    307\u001b[0m     \u001b[0;34m\"@Is\"\u001b[0m\u001b[0;34m:\u001b[0m\u001b[0;32mlambda\u001b[0m \u001b[0mws\u001b[0m\u001b[0;34m,\u001b[0m\u001b[0mp\u001b[0m\u001b[0;34m:\u001b[0m \u001b[0;32mlambda\u001b[0m \u001b[0mc\u001b[0m\u001b[0;34m:\u001b[0m \u001b[0mIsFunc\u001b[0m\u001b[0;34m(\u001b[0m\u001b[0mws\u001b[0m\u001b[0;34m,\u001b[0m\u001b[0mp\u001b[0m\u001b[0;34m,\u001b[0m\u001b[0mc\u001b[0m\u001b[0;34m)\u001b[0m\u001b[0;34m,\u001b[0m\u001b[0;34m\u001b[0m\u001b[0m\n",
      "\u001b[0;32m~/Documents/usc/research/ink_lab/NExT/CCG/constant.py\u001b[0m in \u001b[0;36m<lambda>\u001b[0;34m(c)\u001b[0m\n\u001b[1;32m    305\u001b[0m     \u001b[0;34m\".root\"\u001b[0m\u001b[0;34m:\u001b[0m\u001b[0;32mlambda\u001b[0m \u001b[0mxs\u001b[0m\u001b[0;34m:\u001b[0m\u001b[0;32mlambda\u001b[0m \u001b[0mc\u001b[0m\u001b[0;34m:\u001b[0m\u001b[0mall\u001b[0m\u001b[0;34m(\u001b[0m\u001b[0;34m[\u001b[0m\u001b[0mx\u001b[0m\u001b[0;34m(\u001b[0m\u001b[0mc\u001b[0m\u001b[0;34m)\u001b[0m \u001b[0;32mfor\u001b[0m \u001b[0mx\u001b[0m \u001b[0;32min\u001b[0m \u001b[0mxs\u001b[0m\u001b[0;34m]\u001b[0m\u001b[0;34m)\u001b[0m \u001b[0;32mif\u001b[0m \u001b[0mtype\u001b[0m\u001b[0;34m(\u001b[0m\u001b[0mxs\u001b[0m\u001b[0;34m)\u001b[0m\u001b[0;34m==\u001b[0m\u001b[0mtuple\u001b[0m \u001b[0;32melse\u001b[0m \u001b[0mxs\u001b[0m\u001b[0;34m(\u001b[0m\u001b[0mc\u001b[0m\u001b[0;34m)\u001b[0m\u001b[0;34m,\u001b[0m\u001b[0;34m\u001b[0m\u001b[0m\n\u001b[1;32m    306\u001b[0m     \u001b[0;34m\"@Word\"\u001b[0m\u001b[0;34m:\u001b[0m\u001b[0;32mlambda\u001b[0m \u001b[0mx\u001b[0m\u001b[0;34m:\u001b[0m\u001b[0mx\u001b[0m\u001b[0;34m,\u001b[0m\u001b[0;34m\u001b[0m\u001b[0m\n\u001b[0;32m--> 307\u001b[0;31m     \u001b[0;34m\"@Is\"\u001b[0m\u001b[0;34m:\u001b[0m\u001b[0;32mlambda\u001b[0m \u001b[0mws\u001b[0m\u001b[0;34m,\u001b[0m\u001b[0mp\u001b[0m\u001b[0;34m:\u001b[0m \u001b[0;32mlambda\u001b[0m \u001b[0mc\u001b[0m\u001b[0;34m:\u001b[0m \u001b[0mIsFunc\u001b[0m\u001b[0;34m(\u001b[0m\u001b[0mws\u001b[0m\u001b[0;34m,\u001b[0m\u001b[0mp\u001b[0m\u001b[0;34m,\u001b[0m\u001b[0mc\u001b[0m\u001b[0;34m)\u001b[0m\u001b[0;34m,\u001b[0m\u001b[0;34m\u001b[0m\u001b[0m\n\u001b[0m\u001b[1;32m    308\u001b[0m     \u001b[0;34m\"@between\"\u001b[0m\u001b[0;34m:\u001b[0m \u001b[0;32mlambda\u001b[0m \u001b[0ma\u001b[0m\u001b[0;34m:\u001b[0m \u001b[0;32mlambda\u001b[0m \u001b[0mw\u001b[0m\u001b[0;34m,\u001b[0m\u001b[0moption\u001b[0m\u001b[0;34m=\u001b[0m\u001b[0;32mNone\u001b[0m\u001b[0;34m:\u001b[0m\u001b[0;32mlambda\u001b[0m \u001b[0mc\u001b[0m\u001b[0;34m:\u001b[0m\u001b[0mat_between\u001b[0m\u001b[0;34m(\u001b[0m\u001b[0mw\u001b[0m\u001b[0;34m,\u001b[0m\u001b[0mc\u001b[0m\u001b[0;34m,\u001b[0m\u001b[0moption\u001b[0m\u001b[0;34m,\u001b[0m\u001b[0ma\u001b[0m\u001b[0;34m)\u001b[0m\u001b[0;34m,\u001b[0m\u001b[0;34m\u001b[0m\u001b[0m\n\u001b[1;32m    309\u001b[0m     \u001b[0;34m\"@And\"\u001b[0m\u001b[0;34m:\u001b[0m \u001b[0;32mlambda\u001b[0m \u001b[0mx\u001b[0m\u001b[0;34m,\u001b[0m\u001b[0my\u001b[0m\u001b[0;34m:\u001b[0m\u001b[0mmerge\u001b[0m\u001b[0;34m(\u001b[0m\u001b[0mx\u001b[0m\u001b[0;34m,\u001b[0m\u001b[0my\u001b[0m\u001b[0;34m)\u001b[0m\u001b[0;34m,\u001b[0m\u001b[0;34m\u001b[0m\u001b[0m\n",
      "\u001b[0;32m~/Documents/usc/research/ink_lab/NExT/CCG/constant.py\u001b[0m in \u001b[0;36mIsFunc\u001b[0;34m(ws, ps, c)\u001b[0m\n\u001b[1;32m    138\u001b[0m             \u001b[0;32mreturn\u001b[0m \u001b[0mps\u001b[0m\u001b[0;34m(\u001b[0m\u001b[0mws\u001b[0m\u001b[0;34m)\u001b[0m\u001b[0;34m(\u001b[0m\u001b[0mc\u001b[0m\u001b[0;34m)\u001b[0m\u001b[0;34m\u001b[0m\u001b[0m\n\u001b[1;32m    139\u001b[0m         \u001b[0;32melse\u001b[0m\u001b[0;34m:\u001b[0m\u001b[0;34m\u001b[0m\u001b[0m\n\u001b[0;32m--> 140\u001b[0;31m             \u001b[0;32mreturn\u001b[0m \u001b[0mall\u001b[0m\u001b[0;34m(\u001b[0m\u001b[0;34m[\u001b[0m\u001b[0mps\u001b[0m\u001b[0;34m(\u001b[0m\u001b[0mw\u001b[0m\u001b[0;34m)\u001b[0m\u001b[0;34m(\u001b[0m\u001b[0mc\u001b[0m\u001b[0;34m)\u001b[0m \u001b[0;32mfor\u001b[0m \u001b[0mw\u001b[0m \u001b[0;32min\u001b[0m \u001b[0mws\u001b[0m\u001b[0;34m]\u001b[0m\u001b[0;34m)\u001b[0m\u001b[0;34m\u001b[0m\u001b[0m\n\u001b[0m\u001b[1;32m    141\u001b[0m     \u001b[0;32melse\u001b[0m\u001b[0;34m:\u001b[0m\u001b[0;34m\u001b[0m\u001b[0m\n\u001b[1;32m    142\u001b[0m         \u001b[0;32mreturn\u001b[0m \u001b[0mps\u001b[0m\u001b[0;34m(\u001b[0m\u001b[0mws\u001b[0m\u001b[0;34m)\u001b[0m\u001b[0;34m(\u001b[0m\u001b[0mc\u001b[0m\u001b[0;34m)\u001b[0m\u001b[0;34m\u001b[0m\u001b[0m\n",
      "\u001b[0;32m~/Documents/usc/research/ink_lab/NExT/CCG/constant.py\u001b[0m in \u001b[0;36m<listcomp>\u001b[0;34m(.0)\u001b[0m\n\u001b[1;32m    138\u001b[0m             \u001b[0;32mreturn\u001b[0m \u001b[0mps\u001b[0m\u001b[0;34m(\u001b[0m\u001b[0mws\u001b[0m\u001b[0;34m)\u001b[0m\u001b[0;34m(\u001b[0m\u001b[0mc\u001b[0m\u001b[0;34m)\u001b[0m\u001b[0;34m\u001b[0m\u001b[0m\n\u001b[1;32m    139\u001b[0m         \u001b[0;32melse\u001b[0m\u001b[0;34m:\u001b[0m\u001b[0;34m\u001b[0m\u001b[0m\n\u001b[0;32m--> 140\u001b[0;31m             \u001b[0;32mreturn\u001b[0m \u001b[0mall\u001b[0m\u001b[0;34m(\u001b[0m\u001b[0;34m[\u001b[0m\u001b[0mps\u001b[0m\u001b[0;34m(\u001b[0m\u001b[0mw\u001b[0m\u001b[0;34m)\u001b[0m\u001b[0;34m(\u001b[0m\u001b[0mc\u001b[0m\u001b[0;34m)\u001b[0m \u001b[0;32mfor\u001b[0m \u001b[0mw\u001b[0m \u001b[0;32min\u001b[0m \u001b[0mws\u001b[0m\u001b[0;34m]\u001b[0m\u001b[0;34m)\u001b[0m\u001b[0;34m\u001b[0m\u001b[0m\n\u001b[0m\u001b[1;32m    141\u001b[0m     \u001b[0;32melse\u001b[0m\u001b[0;34m:\u001b[0m\u001b[0;34m\u001b[0m\u001b[0m\n\u001b[1;32m    142\u001b[0m         \u001b[0;32mreturn\u001b[0m \u001b[0mps\u001b[0m\u001b[0;34m(\u001b[0m\u001b[0mws\u001b[0m\u001b[0;34m)\u001b[0m\u001b[0;34m(\u001b[0m\u001b[0mc\u001b[0m\u001b[0;34m)\u001b[0m\u001b[0;34m\u001b[0m\u001b[0m\n",
      "\u001b[0;32m~/Documents/usc/research/ink_lab/NExT/CCG/constant.py\u001b[0m in \u001b[0;36m<lambda>\u001b[0;34m(c)\u001b[0m\n\u001b[1;32m    310\u001b[0m     \u001b[0;34m\"@Num\"\u001b[0m\u001b[0;34m:\u001b[0m \u001b[0;32mlambda\u001b[0m \u001b[0mx\u001b[0m\u001b[0;34m,\u001b[0m\u001b[0my\u001b[0m\u001b[0;34m:\u001b[0m\u001b[0;34m{\u001b[0m\u001b[0;34m'attr'\u001b[0m\u001b[0;34m:\u001b[0m\u001b[0my\u001b[0m\u001b[0;34m,\u001b[0m\u001b[0;34m'num'\u001b[0m\u001b[0;34m:\u001b[0m\u001b[0mint\u001b[0m\u001b[0;34m(\u001b[0m\u001b[0mx\u001b[0m\u001b[0;34m)\u001b[0m\u001b[0;34m}\u001b[0m\u001b[0;34m,\u001b[0m\u001b[0;34m\u001b[0m\u001b[0m\n\u001b[1;32m    311\u001b[0m     \u001b[0;34m\"@LessThan\"\u001b[0m\u001b[0;34m:\u001b[0m\u001b[0;32mlambda\u001b[0m \u001b[0mfuncx\u001b[0m\u001b[0;34m,\u001b[0m\u001b[0mnouny\u001b[0m\u001b[0;34m:\u001b[0m\u001b[0;32mlambda\u001b[0m \u001b[0mw\u001b[0m\u001b[0;34m:\u001b[0m\u001b[0;32mlambda\u001b[0m \u001b[0mc\u001b[0m\u001b[0;34m:\u001b[0m\u001b[0mat_lessthan\u001b[0m\u001b[0;34m(\u001b[0m\u001b[0mfuncx\u001b[0m\u001b[0;34m,\u001b[0m\u001b[0mnouny\u001b[0m\u001b[0;34m,\u001b[0m\u001b[0mw\u001b[0m\u001b[0;34m,\u001b[0m\u001b[0mc\u001b[0m\u001b[0;34m)\u001b[0m\u001b[0;34m,\u001b[0m\u001b[0;34m\u001b[0m\u001b[0m\n\u001b[0;32m--> 312\u001b[0;31m     \u001b[0;34m\"@AtMost\"\u001b[0m\u001b[0;34m:\u001b[0m\u001b[0;32mlambda\u001b[0m \u001b[0mfuncx\u001b[0m\u001b[0;34m,\u001b[0m\u001b[0mnouny\u001b[0m\u001b[0;34m:\u001b[0m\u001b[0;32mlambda\u001b[0m \u001b[0mw\u001b[0m\u001b[0;34m:\u001b[0m\u001b[0;32mlambda\u001b[0m \u001b[0mc\u001b[0m\u001b[0;34m:\u001b[0m\u001b[0mat_atmost\u001b[0m\u001b[0;34m(\u001b[0m\u001b[0mfuncx\u001b[0m\u001b[0;34m,\u001b[0m\u001b[0mnouny\u001b[0m\u001b[0;34m,\u001b[0m\u001b[0mw\u001b[0m\u001b[0;34m,\u001b[0m\u001b[0mc\u001b[0m\u001b[0;34m)\u001b[0m\u001b[0;34m,\u001b[0m\u001b[0;34m\u001b[0m\u001b[0m\n\u001b[0m\u001b[1;32m    313\u001b[0m     \u001b[0;34m\"@AtLeast\"\u001b[0m\u001b[0;34m:\u001b[0m\u001b[0;32mlambda\u001b[0m \u001b[0mfuncx\u001b[0m\u001b[0;34m,\u001b[0m\u001b[0mnouny\u001b[0m\u001b[0;34m:\u001b[0m\u001b[0;32mlambda\u001b[0m \u001b[0mw\u001b[0m\u001b[0;34m:\u001b[0m\u001b[0;32mlambda\u001b[0m \u001b[0mc\u001b[0m\u001b[0;34m:\u001b[0m\u001b[0mat_atleast\u001b[0m\u001b[0;34m(\u001b[0m\u001b[0mfuncx\u001b[0m\u001b[0;34m,\u001b[0m\u001b[0mnouny\u001b[0m\u001b[0;34m,\u001b[0m\u001b[0mw\u001b[0m\u001b[0;34m,\u001b[0m\u001b[0mc\u001b[0m\u001b[0;34m)\u001b[0m\u001b[0;34m,\u001b[0m\u001b[0;34m\u001b[0m\u001b[0m\n\u001b[1;32m    314\u001b[0m     \u001b[0;34m\"@MoreThan\"\u001b[0m\u001b[0;34m:\u001b[0m\u001b[0;32mlambda\u001b[0m \u001b[0mfuncx\u001b[0m\u001b[0;34m,\u001b[0m\u001b[0mnouny\u001b[0m\u001b[0;34m:\u001b[0m\u001b[0;32mlambda\u001b[0m \u001b[0mw\u001b[0m\u001b[0;34m:\u001b[0m\u001b[0;32mlambda\u001b[0m \u001b[0mc\u001b[0m\u001b[0;34m:\u001b[0m\u001b[0mat_morethan\u001b[0m\u001b[0;34m(\u001b[0m\u001b[0mfuncx\u001b[0m\u001b[0;34m,\u001b[0m\u001b[0mnouny\u001b[0m\u001b[0;34m,\u001b[0m\u001b[0mw\u001b[0m\u001b[0;34m,\u001b[0m\u001b[0mc\u001b[0m\u001b[0;34m)\u001b[0m\u001b[0;34m,\u001b[0m\u001b[0;34m\u001b[0m\u001b[0m\n",
      "\u001b[0;32m~/Documents/usc/research/ink_lab/NExT/CCG/constant.py\u001b[0m in \u001b[0;36mat_atmost\u001b[0;34m(funcx, nouny, w, c)\u001b[0m\n\u001b[1;32m    260\u001b[0m         \u001b[0monlyCount\u001b[0m \u001b[0;34m=\u001b[0m \u001b[0;32mFalse\u001b[0m\u001b[0;34m\u001b[0m\u001b[0m\n\u001b[1;32m    261\u001b[0m     \u001b[0;32mif\u001b[0m \u001b[0monlyCount\u001b[0m\u001b[0;34m:\u001b[0m\u001b[0;34m\u001b[0m\u001b[0m\n\u001b[0;32m--> 262\u001b[0;31m         \u001b[0;32mreturn\u001b[0m \u001b[0mfuncx\u001b[0m\u001b[0;34m(\u001b[0m\u001b[0mw\u001b[0m\u001b[0;34m,\u001b[0m\u001b[0;34m{\u001b[0m\u001b[0;34m'attr'\u001b[0m\u001b[0;34m:\u001b[0m\u001b[0mnouny\u001b[0m\u001b[0;34m[\u001b[0m\u001b[0;34m'attr'\u001b[0m\u001b[0;34m]\u001b[0m\u001b[0;34m,\u001b[0m\u001b[0;34m'range'\u001b[0m\u001b[0;34m:\u001b[0m\u001b[0;34m-\u001b[0m\u001b[0;36m1\u001b[0m\u001b[0;34m,\u001b[0m\u001b[0;34m'numAppear'\u001b[0m\u001b[0;34m:\u001b[0m\u001b[0mnouny\u001b[0m\u001b[0;34m[\u001b[0m\u001b[0;34m'num'\u001b[0m\u001b[0;34m]\u001b[0m\u001b[0;34m,\u001b[0m\u001b[0;34m'cmp'\u001b[0m\u001b[0;34m:\u001b[0m\u001b[0;34m'nmt'\u001b[0m\u001b[0;34m,\u001b[0m\u001b[0;34m'onlyCount'\u001b[0m\u001b[0;34m:\u001b[0m\u001b[0monlyCount\u001b[0m\u001b[0;34m}\u001b[0m\u001b[0;34m)\u001b[0m\u001b[0;34m(\u001b[0m\u001b[0mc\u001b[0m\u001b[0;34m)\u001b[0m                \u001b[0;31m#There are at most 3 words before OBJ\u001b[0m\u001b[0;34m\u001b[0m\u001b[0m\n\u001b[0m\u001b[1;32m    263\u001b[0m     \u001b[0;32melse\u001b[0m\u001b[0;34m:\u001b[0m\u001b[0;34m\u001b[0m\u001b[0m\n\u001b[1;32m    264\u001b[0m         \u001b[0;32mreturn\u001b[0m \u001b[0mfuncx\u001b[0m\u001b[0;34m(\u001b[0m\u001b[0mw\u001b[0m\u001b[0;34m,\u001b[0m \u001b[0;34m{\u001b[0m\u001b[0;34m'attr'\u001b[0m\u001b[0;34m:\u001b[0m \u001b[0mnouny\u001b[0m\u001b[0;34m[\u001b[0m\u001b[0;34m'attr'\u001b[0m\u001b[0;34m]\u001b[0m\u001b[0;34m,\u001b[0m \u001b[0;34m'range'\u001b[0m\u001b[0;34m:\u001b[0m \u001b[0mnouny\u001b[0m\u001b[0;34m[\u001b[0m\u001b[0;34m'num'\u001b[0m\u001b[0;34m]\u001b[0m\u001b[0;34m,\u001b[0m \u001b[0;34m'numAppear'\u001b[0m\u001b[0;34m:\u001b[0m \u001b[0;36m1\u001b[0m\u001b[0;34m,\u001b[0m \u001b[0;34m'cmp'\u001b[0m\u001b[0;34m:\u001b[0m \u001b[0;34m'nlt'\u001b[0m\u001b[0;34m,\u001b[0m\u001b[0;34m'onlyCount'\u001b[0m\u001b[0;34m:\u001b[0m \u001b[0monlyCount\u001b[0m\u001b[0;34m}\u001b[0m\u001b[0;34m)\u001b[0m\u001b[0;34m(\u001b[0m\u001b[0mc\u001b[0m\u001b[0;34m)\u001b[0m      \u001b[0;31m#the word 'x' is at most 3 words before OBJ\u001b[0m\u001b[0;34m\u001b[0m\u001b[0m\n",
      "\u001b[0;32m~/Documents/usc/research/ink_lab/NExT/CCG/constant.py\u001b[0m in \u001b[0;36m<lambda>\u001b[0;34m(c)\u001b[0m\n\u001b[1;32m    306\u001b[0m     \u001b[0;34m\"@Word\"\u001b[0m\u001b[0;34m:\u001b[0m\u001b[0;32mlambda\u001b[0m \u001b[0mx\u001b[0m\u001b[0;34m:\u001b[0m\u001b[0mx\u001b[0m\u001b[0;34m,\u001b[0m\u001b[0;34m\u001b[0m\u001b[0m\n\u001b[1;32m    307\u001b[0m     \u001b[0;34m\"@Is\"\u001b[0m\u001b[0;34m:\u001b[0m\u001b[0;32mlambda\u001b[0m \u001b[0mws\u001b[0m\u001b[0;34m,\u001b[0m\u001b[0mp\u001b[0m\u001b[0;34m:\u001b[0m \u001b[0;32mlambda\u001b[0m \u001b[0mc\u001b[0m\u001b[0;34m:\u001b[0m \u001b[0mIsFunc\u001b[0m\u001b[0;34m(\u001b[0m\u001b[0mws\u001b[0m\u001b[0;34m,\u001b[0m\u001b[0mp\u001b[0m\u001b[0;34m,\u001b[0m\u001b[0mc\u001b[0m\u001b[0;34m)\u001b[0m\u001b[0;34m,\u001b[0m\u001b[0;34m\u001b[0m\u001b[0m\n\u001b[0;32m--> 308\u001b[0;31m     \u001b[0;34m\"@between\"\u001b[0m\u001b[0;34m:\u001b[0m \u001b[0;32mlambda\u001b[0m \u001b[0ma\u001b[0m\u001b[0;34m:\u001b[0m \u001b[0;32mlambda\u001b[0m \u001b[0mw\u001b[0m\u001b[0;34m,\u001b[0m\u001b[0moption\u001b[0m\u001b[0;34m=\u001b[0m\u001b[0;32mNone\u001b[0m\u001b[0;34m:\u001b[0m\u001b[0;32mlambda\u001b[0m \u001b[0mc\u001b[0m\u001b[0;34m:\u001b[0m\u001b[0mat_between\u001b[0m\u001b[0;34m(\u001b[0m\u001b[0mw\u001b[0m\u001b[0;34m,\u001b[0m\u001b[0mc\u001b[0m\u001b[0;34m,\u001b[0m\u001b[0moption\u001b[0m\u001b[0;34m,\u001b[0m\u001b[0ma\u001b[0m\u001b[0;34m)\u001b[0m\u001b[0;34m,\u001b[0m\u001b[0;34m\u001b[0m\u001b[0m\n\u001b[0m\u001b[1;32m    309\u001b[0m     \u001b[0;34m\"@And\"\u001b[0m\u001b[0;34m:\u001b[0m \u001b[0;32mlambda\u001b[0m \u001b[0mx\u001b[0m\u001b[0;34m,\u001b[0m\u001b[0my\u001b[0m\u001b[0;34m:\u001b[0m\u001b[0mmerge\u001b[0m\u001b[0;34m(\u001b[0m\u001b[0mx\u001b[0m\u001b[0;34m,\u001b[0m\u001b[0my\u001b[0m\u001b[0;34m)\u001b[0m\u001b[0;34m,\u001b[0m\u001b[0;34m\u001b[0m\u001b[0m\n\u001b[1;32m    310\u001b[0m     \u001b[0;34m\"@Num\"\u001b[0m\u001b[0;34m:\u001b[0m \u001b[0;32mlambda\u001b[0m \u001b[0mx\u001b[0m\u001b[0;34m,\u001b[0m\u001b[0my\u001b[0m\u001b[0;34m:\u001b[0m\u001b[0;34m{\u001b[0m\u001b[0;34m'attr'\u001b[0m\u001b[0;34m:\u001b[0m\u001b[0my\u001b[0m\u001b[0;34m,\u001b[0m\u001b[0;34m'num'\u001b[0m\u001b[0;34m:\u001b[0m\u001b[0mint\u001b[0m\u001b[0;34m(\u001b[0m\u001b[0mx\u001b[0m\u001b[0;34m)\u001b[0m\u001b[0;34m}\u001b[0m\u001b[0;34m,\u001b[0m\u001b[0;34m\u001b[0m\u001b[0m\n",
      "\u001b[0;32m~/Documents/usc/research/ink_lab/NExT/CCG/constant.py\u001b[0m in \u001b[0;36mat_between\u001b[0;34m(w, c, option, a)\u001b[0m\n\u001b[1;32m    235\u001b[0m         \u001b[0;32mwhile\u001b[0m \u001b[0;34m''\u001b[0m \u001b[0;32min\u001b[0m \u001b[0mw_split\u001b[0m\u001b[0;34m:\u001b[0m\u001b[0;34m\u001b[0m\u001b[0m\n\u001b[1;32m    236\u001b[0m             \u001b[0mw_split\u001b[0m\u001b[0;34m.\u001b[0m\u001b[0mremove\u001b[0m\u001b[0;34m(\u001b[0m\u001b[0;34m''\u001b[0m\u001b[0;34m)\u001b[0m\u001b[0;34m\u001b[0m\u001b[0m\n\u001b[0;32m--> 237\u001b[0;31m         \u001b[0minfo\u001b[0m \u001b[0;34m=\u001b[0m \u001b[0;34m[\u001b[0m\u001b[0mtoken\u001b[0m\u001b[0;34m.\u001b[0m\u001b[0mlower\u001b[0m\u001b[0;34m(\u001b[0m\u001b[0;34m)\u001b[0m \u001b[0;32mfor\u001b[0m \u001b[0mtoken\u001b[0m \u001b[0;32min\u001b[0m \u001b[0mc\u001b[0m\u001b[0;34m.\u001b[0m\u001b[0mget_mid\u001b[0m\u001b[0;34m(\u001b[0m\u001b[0;34m)\u001b[0m\u001b[0;34m[\u001b[0m\u001b[0;34m'tokens'\u001b[0m\u001b[0;34m]\u001b[0m\u001b[0;34m]\u001b[0m\u001b[0;34m\u001b[0m\u001b[0m\n\u001b[0m\u001b[1;32m    238\u001b[0m         \u001b[0;32mif\u001b[0m \u001b[0moption\u001b[0m\u001b[0;34m[\u001b[0m\u001b[0;34m'onlyCount'\u001b[0m\u001b[0;34m]\u001b[0m\u001b[0;34m:\u001b[0m\u001b[0;34m\u001b[0m\u001b[0m\n\u001b[1;32m    239\u001b[0m             \u001b[0;32mreturn\u001b[0m \u001b[0mcompare\u001b[0m\u001b[0;34m[\u001b[0m\u001b[0moption\u001b[0m\u001b[0;34m[\u001b[0m\u001b[0;34m'cmp'\u001b[0m\u001b[0;34m]\u001b[0m\u001b[0;34m]\u001b[0m\u001b[0;34m(\u001b[0m\u001b[0mlen\u001b[0m\u001b[0;34m(\u001b[0m\u001b[0minfo\u001b[0m\u001b[0;34m)\u001b[0m\u001b[0;34m,\u001b[0m\u001b[0moption\u001b[0m\u001b[0;34m[\u001b[0m\u001b[0;34m'numAppear'\u001b[0m\u001b[0;34m]\u001b[0m\u001b[0;34m)\u001b[0m\u001b[0;34m\u001b[0m\u001b[0m\n",
      "\u001b[0;31mAttributeError\u001b[0m: 'str' object has no attribute 'get_mid'"
     ]
    }
   ],
   "source": [
    "labeling_functions[0]()"
   ]
  },
  {
   "cell_type": "code",
   "execution_count": 229,
   "metadata": {},
   "outputs": [
    {
     "data": {
      "text/plain": [
       "('.root',\n",
       " ('@Is', ('@Word', \"'s grandmother\"), ('@between', ('@And', 'ArgY', 'ArgX'))))"
      ]
     },
     "execution_count": 229,
     "metadata": {},
     "output_type": "execute_result"
    }
   ],
   "source": [
    "parsed_sems[0]"
   ]
  },
  {
   "cell_type": "code",
   "execution_count": 230,
   "metadata": {},
   "outputs": [],
   "source": [
    "def collect_features(semantics, features):\n",
    "    if isinstance(semantics, tuple):\n",
    "\n",
    "        for child in semantics[1:]:\n",
    "            if isinstance(child, tuple) and child[0] != semantics[0]:\n",
    "                features.append((semantics[0],child[0]))\n",
    "            collect_features(child, features)"
   ]
  },
  {
   "cell_type": "code",
   "execution_count": 231,
   "metadata": {},
   "outputs": [],
   "source": [
    "opsfeature = {'@And@Is': 0, '@Is@Word': 1, '@Is@Direct': 2, '@Direct@Left0': 3, '.root@And': 4, '@Is@between': 5, '@Direct@Right0': 6, '@Is@And': 7, '@And@Word': 8, '@between@And': 9, '@Word@And': 10, '@Left0@Word': 11, '@Is@Left0': 12, '@Right0@Word': 13, '@between@Word': 14, '.root@Is': 15, '@Is@Right0': 16, '@Right0@And': 17, '@Left0@And': 18, '@Is@LessThan': 19, '@LessThan@between': 20, '@LessThan@Num': 21, '@And@Right0': 22, '@And@between': 23, '.root@between': 24, '@between@Is': 25, '.root@Left': 26, '@Left@Word': 27, '@And@Left0': 28}\n"
   ]
  },
  {
   "cell_type": "code",
   "execution_count": 232,
   "metadata": {},
   "outputs": [],
   "source": [
    "import numpy as np"
   ]
  },
  {
   "cell_type": "code",
   "execution_count": 233,
   "metadata": {},
   "outputs": [],
   "source": [
    "feature_vector = np.zeros([len(opsfeature),1],np.float32)"
   ]
  },
  {
   "cell_type": "code",
   "execution_count": 235,
   "metadata": {},
   "outputs": [],
   "source": [
    "op_feature = []"
   ]
  },
  {
   "cell_type": "code",
   "execution_count": 236,
   "metadata": {},
   "outputs": [],
   "source": [
    "collect_features(parsed_sems[0], op_feature)"
   ]
  },
  {
   "cell_type": "code",
   "execution_count": 237,
   "metadata": {},
   "outputs": [
    {
     "data": {
      "text/plain": [
       "[('.root', '@Is'), ('@Is', '@Word'), ('@Is', '@between'), ('@between', '@And')]"
      ]
     },
     "execution_count": 237,
     "metadata": {},
     "output_type": "execute_result"
    }
   ],
   "source": [
    "op_feature"
   ]
  },
  {
   "cell_type": "code",
   "execution_count": null,
   "metadata": {},
   "outputs": [],
   "source": []
  }
 ],
 "metadata": {
  "kernelspec": {
   "display_name": "Python 3",
   "language": "python",
   "name": "python3"
  },
  "language_info": {
   "codemirror_mode": {
    "name": "ipython",
    "version": 3
   },
   "file_extension": ".py",
   "mimetype": "text/x-python",
   "name": "python",
   "nbconvert_exporter": "python",
   "pygments_lexer": "ipython3",
   "version": "3.6.5"
  }
 },
 "nbformat": 4,
 "nbformat_minor": 4
}
