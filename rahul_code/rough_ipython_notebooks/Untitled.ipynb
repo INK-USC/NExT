{
 "cells": [
  {
   "cell_type": "code",
   "execution_count": 1,
   "metadata": {},
   "outputs": [],
   "source": [
    "import sys"
   ]
  },
  {
   "cell_type": "code",
   "execution_count": 4,
   "metadata": {},
   "outputs": [],
   "source": [
    "sys.path.append(\"../../\")"
   ]
  },
  {
   "cell_type": "code",
   "execution_count": 5,
   "metadata": {},
   "outputs": [],
   "source": [
    "from CCG import utils\n",
    "from CCG import constant\n",
    "from nltk.ccg import chart, lexicon\n",
    "import re"
   ]
  },
  {
   "cell_type": "code",
   "execution_count": 6,
   "metadata": {},
   "outputs": [],
   "source": [
    "mini_sent = \"\"\"\n",
    "The phrase \\\"'s grandmother\\\" occurs between SUBJ and OBJ\n",
    "\"\"\"\n",
    "\n",
    "mini_sent_2 = \"\"\"\n",
    "SUBJ is left of OBJ\n",
    "\"\"\"\n",
    "\n",
    "longer_sent = \"\"\"\n",
    "The phrase \\\"'s grandmother\\\" occurs between SUBJ and OBJ and there are no more than four words between SUBJ and OBJ .\n",
    "\"\"\""
   ]
  },
  {
   "cell_type": "code",
   "execution_count": 7,
   "metadata": {},
   "outputs": [],
   "source": [
    "sent = longer_sent"
   ]
  },
  {
   "cell_type": "code",
   "execution_count": 8,
   "metadata": {},
   "outputs": [],
   "source": [
    "pre_process = utils.pre_process_sent(sent)"
   ]
  },
  {
   "cell_type": "code",
   "execution_count": 9,
   "metadata": {},
   "outputs": [],
   "source": [
    "sent_tokenized = utils.print_tokenized(pre_process)"
   ]
  },
  {
   "cell_type": "code",
   "execution_count": 10,
   "metadata": {},
   "outputs": [
    {
     "data": {
      "text/plain": [
       "[['$The',\n",
       "  '$Word',\n",
       "  '\"\\'s grandmother\"',\n",
       "  '$Is',\n",
       "  '$Between',\n",
       "  '$ArgX',\n",
       "  '$And',\n",
       "  '$ArgY',\n",
       "  '$And',\n",
       "  '$There',\n",
       "  '$Is',\n",
       "  '$AtMost',\n",
       "  \"'4'\",\n",
       "  '$Word',\n",
       "  '$Between',\n",
       "  '$ArgX',\n",
       "  '$And',\n",
       "  '$ArgY']]"
      ]
     },
     "execution_count": 10,
     "metadata": {},
     "output_type": "execute_result"
    }
   ],
   "source": [
    "sent_tokenized"
   ]
  },
  {
   "cell_type": "code",
   "execution_count": 11,
   "metadata": {},
   "outputs": [
    {
     "name": "stdout",
     "output_type": "stream",
     "text": [
      "['$The', '$Word', '\"\\'s grandmother\"', '$Is', '$Between', '$ArgX', '$And', '$ArgY', '$And', '$There', '$Is', '$AtMost', \"'4'\", '$Word', '$Between', '$ArgX', '$And', '$ArgY']\n"
     ]
    }
   ],
   "source": [
    "raw_lexicon = constant.raw_lexicon\n",
    "predicates = utils.new_predicate(sent_tokenized)\n",
    "raw_lexicon = utils.add_new_predicate(predicates, raw_lexicon)"
   ]
  },
  {
   "cell_type": "code",
   "execution_count": 12,
   "metadata": {},
   "outputs": [],
   "source": [
    "lex = lexicon.fromstring(raw_lexicon, True)\n",
    "parser = chart.CCGChartParser(lex, chart.DefaultRuleSet)"
   ]
  },
  {
   "cell_type": "code",
   "execution_count": 13,
   "metadata": {},
   "outputs": [],
   "source": [
    "for index_1 in range(len(sent_tokenized)):\n",
    "    while [] in sent_tokenized[index_1]:\n",
    "        sent_tokenized[index_1].remove([])\n",
    "    for index_2 in range(len(sent_tokenized[index_1])):\n",
    "        if sent_tokenized[index_1][index_2].startswith(\"'\") or sent_tokenized[index_1][index_2].startswith(\"\\\"\"):\n",
    "            sent_tokenized[index_1][index_2] = sent_tokenized[index_1][index_2].replace(' ','SPACE')\n",
    "            sent_tokenized[index_1][index_2] = sent_tokenized[index_1][index_2].replace(\"\\\"\",\"'\")"
   ]
  },
  {
   "cell_type": "code",
   "execution_count": 14,
   "metadata": {},
   "outputs": [
    {
     "data": {
      "text/plain": [
       "[['$The',\n",
       "  '$Word',\n",
       "  \"''sSPACEgrandmother'\",\n",
       "  '$Is',\n",
       "  '$Between',\n",
       "  '$ArgX',\n",
       "  '$And',\n",
       "  '$ArgY',\n",
       "  '$And',\n",
       "  '$There',\n",
       "  '$Is',\n",
       "  '$AtMost',\n",
       "  \"'4'\",\n",
       "  '$Word',\n",
       "  '$Between',\n",
       "  '$ArgX',\n",
       "  '$And',\n",
       "  '$ArgY']]"
      ]
     },
     "execution_count": 14,
     "metadata": {},
     "output_type": "execute_result"
    }
   ],
   "source": [
    "sent_tokenized"
   ]
  },
  {
   "cell_type": "code",
   "execution_count": 15,
   "metadata": {},
   "outputs": [],
   "source": [
    "logic_forms = []"
   ]
  },
  {
   "cell_type": "code",
   "execution_count": 16,
   "metadata": {},
   "outputs": [
    {
     "name": "stdout",
     "output_type": "stream",
     "text": [
      "0\n"
     ]
    }
   ],
   "source": [
    "for i, e in enumerate(sent_tokenized):\n",
    "    print(i)\n",
    "    try:\n",
    "        parses = list(parser.parse(e))\n",
    "        logic_forms += parses\n",
    "    except:\n",
    "        continue"
   ]
  },
  {
   "cell_type": "code",
   "execution_count": 17,
   "metadata": {},
   "outputs": [
    {
     "data": {
      "text/plain": [
       "3888"
      ]
     },
     "execution_count": 17,
     "metadata": {},
     "output_type": "execute_result"
    }
   ],
   "source": [
    "len(logic_forms)"
   ]
  },
  {
   "cell_type": "code",
   "execution_count": 42,
   "metadata": {},
   "outputs": [],
   "source": [
    "raw_sems = len(set([str(tree.label()[0].semantics()) for tree in logic_forms]))"
   ]
  },
  {
   "cell_type": "code",
   "execution_count": 43,
   "metadata": {},
   "outputs": [
    {
     "data": {
      "text/plain": [
       "2"
      ]
     },
     "execution_count": 43,
     "metadata": {},
     "output_type": "execute_result"
    }
   ],
   "source": [
    "raw_sems"
   ]
  },
  {
   "cell_type": "code",
   "execution_count": 19,
   "metadata": {},
   "outputs": [
    {
     "data": {
      "text/plain": [
       "\"'@And'('@Is'('@And'('There','ArgY'),'@AtMost'('@between'('@And'('ArgY','ArgX')),'@Num'('4','tokens'))),'@Is'('@Word'(''sSPACEgrandmother'),'@between'('ArgX')))\""
      ]
     },
     "execution_count": 19,
     "metadata": {},
     "output_type": "execute_result"
    }
   ],
   "source": [
    "raw_sems[0]"
   ]
  },
  {
   "cell_type": "code",
   "execution_count": 20,
   "metadata": {},
   "outputs": [],
   "source": [
    "sem_split = re.split(',|(\\()', raw_sems[0])"
   ]
  },
  {
   "cell_type": "code",
   "execution_count": 21,
   "metadata": {},
   "outputs": [],
   "source": [
    "sem_split = [token for token in sem_split if token]"
   ]
  },
  {
   "cell_type": "code",
   "execution_count": 22,
   "metadata": {},
   "outputs": [],
   "source": [
    "new_sem = []\n",
    "for i,w in enumerate(sem_split):\n",
    "    if w=='(':\n",
    "        new_sem.insert(-1,'(')\n",
    "    else:\n",
    "        new_sem.append(sem_split[i])"
   ]
  },
  {
   "cell_type": "code",
   "execution_count": 23,
   "metadata": {},
   "outputs": [
    {
     "name": "stdout",
     "output_type": "stream",
     "text": [
      "(\"'@And'\", '(')\n",
      "('(', \"'@And'\")\n",
      "(\"'@Is'\", '(')\n",
      "('(', \"'@Is'\")\n",
      "(\"'@And'\", '(')\n",
      "('(', \"'@And'\")\n",
      "(\"'There'\", \"'There'\")\n",
      "(\"'ArgY')\", \"'ArgY')\")\n",
      "(\"'@AtMost'\", '(')\n",
      "('(', \"'@AtMost'\")\n",
      "(\"'@between'\", '(')\n",
      "('(', \"'@between'\")\n",
      "(\"'@And'\", '(')\n",
      "('(', \"'@And'\")\n",
      "(\"'ArgY'\", \"'ArgY'\")\n",
      "(\"'ArgX'))\", \"'ArgX'))\")\n",
      "(\"'@Num'\", '(')\n",
      "('(', \"'@Num'\")\n",
      "(\"'4'\", \"'4'\")\n",
      "(\"'tokens')))\", \"'tokens')))\")\n",
      "(\"'@Is'\", '(')\n",
      "('(', \"'@Is'\")\n",
      "(\"'@Word'\", '(')\n",
      "('(', \"'@Word'\")\n",
      "(\"''sSPACEgrandmother')\", \"''sSPACEgrandmother')\")\n",
      "(\"'@between'\", '(')\n",
      "('(', \"'@between'\")\n",
      "(\"'ArgX')))\", \"'ArgX')))\")\n"
     ]
    }
   ],
   "source": [
    "for duo in zip(sem_split, new_sem):\n",
    "    print(duo)"
   ]
  },
  {
   "cell_type": "code",
   "execution_count": 24,
   "metadata": {},
   "outputs": [
    {
     "name": "stdout",
     "output_type": "stream",
     "text": [
      "['(', \"'@And'\", '(', \"'@Is'\", '(', \"'@And'\", \"'There'\", \"'ArgY')\", '(', \"'@AtMost'\", '(', \"'@between'\", '(', \"'@And'\", \"'ArgY'\", \"'ArgX'))\", '(', \"'@Num'\", \"'4'\", \"'tokens')))\", '(', \"'@Is'\", '(', \"'@Word'\", \"''sSPACEgrandmother')\", '(', \"'@between'\", \"'ArgX')))\"]\n"
     ]
    }
   ],
   "source": [
    "print(new_sem)"
   ]
  },
  {
   "cell_type": "code",
   "execution_count": 25,
   "metadata": {},
   "outputs": [
    {
     "name": "stdout",
     "output_type": "stream",
     "text": [
      "'There'\n",
      "'There'\n"
     ]
    }
   ],
   "source": [
    "s = new_sem[6]\n",
    "print(s)\n",
    "sem_replace = s.replace('SPACE', ' ')\n",
    "for com in constant.comma_index:\n",
    "    sem_replace = sem_replace.replace('COMMA' + str(constant.comma_index[com]), com)\n",
    "if sem_replace.startswith(\"'\"):\n",
    "    if sem_replace.endswith(\")\"):\n",
    "        posi = len(sem_replace)-1\n",
    "        while sem_replace[posi]==\")\":\n",
    "            posi-=1\n",
    "        assert sem_replace[posi]==\"\\'\"\n",
    "    else:\n",
    "        posi = len(sem_replace)-1\n",
    "        assert sem_replace[posi] == \"\\'\"\n",
    "    print(sem_replace)\n",
    "    sem_replace = sem_replace[0]+sem_replace[1:posi].replace('\\'','\\\\\\'')+sem_replace[posi:]"
   ]
  },
  {
   "cell_type": "code",
   "execution_count": 26,
   "metadata": {},
   "outputs": [
    {
     "data": {
      "text/plain": [
       "\"'There'\""
      ]
     },
     "execution_count": 26,
     "metadata": {},
     "output_type": "execute_result"
    }
   ],
   "source": [
    "sem_replace"
   ]
  },
  {
   "cell_type": "code",
   "execution_count": 27,
   "metadata": {},
   "outputs": [],
   "source": [
    "sem_ = ''\n",
    "for i,s in enumerate(new_sem):\n",
    "    sem_replace = s.replace('SPACE', ' ')\n",
    "    for com in constant.comma_index:\n",
    "        sem_replace = sem_replace.replace('COMMA' + str(constant.comma_index[com]), com)\n",
    "    if sem_replace.startswith(\"'\"):\n",
    "        if sem_replace.endswith(\")\"):\n",
    "            posi = len(sem_replace)-1\n",
    "            while sem_replace[posi]==\")\":\n",
    "                posi-=1\n",
    "            assert sem_replace[posi]==\"\\'\"\n",
    "        else:\n",
    "            posi = len(sem_replace)-1\n",
    "            assert sem_replace[posi] == \"\\'\"\n",
    "\n",
    "        sem_replace = sem_replace[0]+sem_replace[1:posi].replace('\\'','\\\\\\'')+sem_replace[posi:]\n",
    "    if new_sem[i-1]=='(':\n",
    "        sem_=sem_+sem_replace\n",
    "    else:\n",
    "        sem_ = sem_+','+sem_replace"
   ]
  },
  {
   "cell_type": "code",
   "execution_count": 29,
   "metadata": {},
   "outputs": [
    {
     "data": {
      "text/plain": [
       "\",('@And',('@Is',('@And','There','ArgY'),('@AtMost',('@between',('@And','ArgY','ArgX')),('@Num','4','tokens'))),('@Is',('@Word','\\\\'s grandmother'),('@between','ArgX')))\""
      ]
     },
     "execution_count": 29,
     "metadata": {},
     "output_type": "execute_result"
    }
   ],
   "source": [
    "sem_"
   ]
  },
  {
   "cell_type": "code",
   "execution_count": 30,
   "metadata": {},
   "outputs": [],
   "source": [
    "temp = (\".root\", eval(sem_[1:]))"
   ]
  },
  {
   "cell_type": "code",
   "execution_count": 31,
   "metadata": {},
   "outputs": [],
   "source": [
    "hehe = { temp : 1}"
   ]
  },
  {
   "cell_type": "code",
   "execution_count": 32,
   "metadata": {},
   "outputs": [
    {
     "data": {
      "text/plain": [
       "True"
      ]
     },
     "execution_count": 32,
     "metadata": {},
     "output_type": "execute_result"
    }
   ],
   "source": [
    "temp in hehe"
   ]
  },
  {
   "cell_type": "code",
   "execution_count": 33,
   "metadata": {},
   "outputs": [],
   "source": [
    "parsed_sems = [utils.parse_sem(str(tree.label()[0].semantics())) for tree in logic_forms]"
   ]
  },
  {
   "cell_type": "code",
   "execution_count": 34,
   "metadata": {},
   "outputs": [
    {
     "data": {
      "text/plain": [
       "('.root',\n",
       " ('@And',\n",
       "  ('@Is',\n",
       "   ('@And', 'There', 'ArgY'),\n",
       "   ('@AtMost',\n",
       "    ('@between', ('@And', 'ArgY', 'ArgX')),\n",
       "    ('@Num', '4', 'tokens'))),\n",
       "  ('@Is', ('@Word', \"'s grandmother\"), ('@between', 'ArgX'))))"
      ]
     },
     "execution_count": 34,
     "metadata": {},
     "output_type": "execute_result"
    }
   ],
   "source": [
    "parsed_sems[0]"
   ]
  },
  {
   "cell_type": "code",
   "execution_count": 35,
   "metadata": {},
   "outputs": [
    {
     "data": {
      "text/plain": [
       "('.root',\n",
       " ('@And',\n",
       "  ('@Is',\n",
       "   ('@And', 'There', 'ArgY'),\n",
       "   ('@AtMost',\n",
       "    ('@between', ('@And', 'ArgY', 'ArgX')),\n",
       "    ('@Num', '4', 'tokens'))),\n",
       "  ('@Is', ('@Word', \"'s grandmother\"), ('@between', 'ArgX'))))"
      ]
     },
     "execution_count": 35,
     "metadata": {},
     "output_type": "execute_result"
    }
   ],
   "source": [
    "parsed_sems[1]"
   ]
  },
  {
   "cell_type": "code",
   "execution_count": 36,
   "metadata": {},
   "outputs": [
    {
     "data": {
      "text/plain": [
       "(tuple, 2, 5, 3)"
      ]
     },
     "execution_count": 36,
     "metadata": {},
     "output_type": "execute_result"
    }
   ],
   "source": [
    "type(parsed_sems[1]), len(parsed_sems[1]), len(parsed_sems[1][0]), len(parsed_sems[1][1])"
   ]
  },
  {
   "cell_type": "code",
   "execution_count": 37,
   "metadata": {},
   "outputs": [
    {
     "data": {
      "text/plain": [
       "('.root', tuple)"
      ]
     },
     "execution_count": 37,
     "metadata": {},
     "output_type": "execute_result"
    }
   ],
   "source": [
    "parsed_sems[1][0], type(parsed_sems[1][1])"
   ]
  },
  {
   "cell_type": "code",
   "execution_count": 38,
   "metadata": {},
   "outputs": [
    {
     "data": {
      "text/plain": [
       "('.root',\n",
       " ('@And',\n",
       "  ('@Is',\n",
       "   ('@And', 'There', 'ArgY'),\n",
       "   ('@AtMost',\n",
       "    ('@between', ('@And', 'ArgY', 'ArgX')),\n",
       "    ('@Num', '4', 'tokens'))),\n",
       "  ('@Is', ('@Word', \"'s grandmother\"), ('@between', 'ArgX'))))"
      ]
     },
     "execution_count": 38,
     "metadata": {},
     "output_type": "execute_result"
    }
   ],
   "source": [
    "parsed_sems[1]"
   ]
  },
  {
   "cell_type": "code",
   "execution_count": 39,
   "metadata": {},
   "outputs": [
    {
     "data": {
      "text/plain": [
       "('@And',\n",
       " ('@Is',\n",
       "  ('@And', 'There', 'ArgY'),\n",
       "  ('@AtMost',\n",
       "   ('@between', ('@And', 'ArgY', 'ArgX')),\n",
       "   ('@Num', '4', 'tokens'))),\n",
       " ('@Is', ('@Word', \"'s grandmother\"), ('@between', 'ArgX')))"
      ]
     },
     "execution_count": 39,
     "metadata": {},
     "output_type": "execute_result"
    }
   ],
   "source": [
    "parsed_sems[1][1]"
   ]
  },
  {
   "cell_type": "code",
   "execution_count": 40,
   "metadata": {},
   "outputs": [
    {
     "data": {
      "text/plain": [
       "('@Is',\n",
       " ('@And', 'There', 'ArgY'),\n",
       " ('@AtMost', ('@between', ('@And', 'ArgY', 'ArgX')), ('@Num', '4', 'tokens')))"
      ]
     },
     "execution_count": 40,
     "metadata": {},
     "output_type": "execute_result"
    }
   ],
   "source": [
    "parsed_sems[1][1][1]"
   ]
  },
  {
   "cell_type": "code",
   "execution_count": 41,
   "metadata": {},
   "outputs": [
    {
     "data": {
      "text/plain": [
       "('@Is', ('@Word', \"'s grandmother\"), ('@between', 'ArgX'))"
      ]
     },
     "execution_count": 41,
     "metadata": {},
     "output_type": "execute_result"
    }
   ],
   "source": [
    "parsed_sems[1][1][2]"
   ]
  },
  {
   "cell_type": "code",
   "execution_count": 39,
   "metadata": {},
   "outputs": [],
   "source": [
    "labeling_functions = [utils.recurse(parsed_sem) for parsed_sem in parsed_sems]"
   ]
  },
  {
   "cell_type": "code",
   "execution_count": 40,
   "metadata": {},
   "outputs": [
    {
     "ename": "TypeError",
     "evalue": "<lambda>() missing 1 required positional argument: 'c'",
     "output_type": "error",
     "traceback": [
      "\u001b[0;31m---------------------------------------------------------------------------\u001b[0m",
      "\u001b[0;31mTypeError\u001b[0m                                 Traceback (most recent call last)",
      "\u001b[0;32m<ipython-input-40-9ad6e3b2135f>\u001b[0m in \u001b[0;36m<module>\u001b[0;34m\u001b[0m\n\u001b[0;32m----> 1\u001b[0;31m \u001b[0mlabeling_functions\u001b[0m\u001b[0;34m[\u001b[0m\u001b[0;36m0\u001b[0m\u001b[0;34m]\u001b[0m\u001b[0;34m(\u001b[0m\u001b[0;34m)\u001b[0m\u001b[0;34m\u001b[0m\u001b[0m\n\u001b[0m",
      "\u001b[0;31mTypeError\u001b[0m: <lambda>() missing 1 required positional argument: 'c'"
     ]
    }
   ],
   "source": [
    "labeling_functions[0]()"
   ]
  },
  {
   "cell_type": "code",
   "execution_count": 41,
   "metadata": {},
   "outputs": [
    {
     "data": {
      "text/plain": [
       "('.root',\n",
       " ('@And',\n",
       "  ('@Is',\n",
       "   ('@And', 'There', 'ArgY'),\n",
       "   ('@AtMost',\n",
       "    ('@between', ('@And', 'ArgY', 'ArgX')),\n",
       "    ('@Num', '4', 'tokens'))),\n",
       "  ('@Is', ('@Word', \"'s grandmother\"), ('@between', 'ArgX'))))"
      ]
     },
     "execution_count": 41,
     "metadata": {},
     "output_type": "execute_result"
    }
   ],
   "source": [
    "parsed_sems[0]"
   ]
  },
  {
   "cell_type": "code",
   "execution_count": 42,
   "metadata": {},
   "outputs": [],
   "source": [
    "def collect_features(semantics, features):\n",
    "    if isinstance(semantics, tuple):\n",
    "\n",
    "        for child in semantics[1:]:\n",
    "            if isinstance(child, tuple) and child[0] != semantics[0]:\n",
    "                features.append((semantics[0],child[0]))\n",
    "            collect_features(child, features)"
   ]
  },
  {
   "cell_type": "code",
   "execution_count": 43,
   "metadata": {},
   "outputs": [],
   "source": [
    "opsfeature = {'@And@Is': 0, '@Is@Word': 1, '@Is@Direct': 2, '@Direct@Left0': 3, '.root@And': 4, '@Is@between': 5, '@Direct@Right0': 6, '@Is@And': 7, '@And@Word': 8, '@between@And': 9, '@Word@And': 10, '@Left0@Word': 11, '@Is@Left0': 12, '@Right0@Word': 13, '@between@Word': 14, '.root@Is': 15, '@Is@Right0': 16, '@Right0@And': 17, '@Left0@And': 18, '@Is@LessThan': 19, '@LessThan@between': 20, '@LessThan@Num': 21, '@And@Right0': 22, '@And@between': 23, '.root@between': 24, '@between@Is': 25, '.root@Left': 26, '@Left@Word': 27, '@And@Left0': 28}\n"
   ]
  },
  {
   "cell_type": "code",
   "execution_count": 44,
   "metadata": {},
   "outputs": [],
   "source": [
    "import numpy as np"
   ]
  },
  {
   "cell_type": "code",
   "execution_count": 45,
   "metadata": {},
   "outputs": [],
   "source": [
    "feature_vector = np.zeros([len(opsfeature),1],np.float32)"
   ]
  },
  {
   "cell_type": "code",
   "execution_count": 46,
   "metadata": {},
   "outputs": [],
   "source": [
    "op_feature = []"
   ]
  },
  {
   "cell_type": "code",
   "execution_count": 47,
   "metadata": {},
   "outputs": [],
   "source": [
    "collect_features(parsed_sems[0], op_feature)"
   ]
  },
  {
   "cell_type": "code",
   "execution_count": 48,
   "metadata": {},
   "outputs": [
    {
     "data": {
      "text/plain": [
       "[('.root', '@And'),\n",
       " ('@And', '@Is'),\n",
       " ('@Is', '@And'),\n",
       " ('@Is', '@AtMost'),\n",
       " ('@AtMost', '@between'),\n",
       " ('@between', '@And'),\n",
       " ('@AtMost', '@Num'),\n",
       " ('@And', '@Is'),\n",
       " ('@Is', '@Word'),\n",
       " ('@Is', '@between')]"
      ]
     },
     "execution_count": 48,
     "metadata": {},
     "output_type": "execute_result"
    }
   ],
   "source": [
    "op_feature"
   ]
  },
  {
   "cell_type": "code",
   "execution_count": null,
   "metadata": {},
   "outputs": [],
   "source": []
  }
 ],
 "metadata": {
  "kernelspec": {
   "display_name": "Python 3",
   "language": "python",
   "name": "python3"
  },
  "language_info": {
   "codemirror_mode": {
    "name": "ipython",
    "version": 3
   },
   "file_extension": ".py",
   "mimetype": "text/x-python",
   "name": "python",
   "nbconvert_exporter": "python",
   "pygments_lexer": "ipython3",
   "version": "3.6.5"
  }
 },
 "nbformat": 4,
 "nbformat_minor": 4
}
