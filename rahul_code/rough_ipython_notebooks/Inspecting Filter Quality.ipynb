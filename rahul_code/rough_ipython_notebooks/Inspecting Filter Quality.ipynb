{
 "cells": [
  {
   "cell_type": "code",
   "execution_count": 51,
   "metadata": {},
   "outputs": [],
   "source": [
    "import pdb\n",
    "import pickle\n",
    "import dill\n",
    "import json\n",
    "import sys\n",
    "sys.path.append(\"../\")\n",
    "import re"
   ]
  },
  {
   "cell_type": "code",
   "execution_count": 2,
   "metadata": {},
   "outputs": [],
   "source": [
    "with open(\"../data/training_data/parser.p\", \"rb\") as f:\n",
    "    parser = dill.load(f)"
   ]
  },
  {
   "cell_type": "code",
   "execution_count": 4,
   "metadata": {},
   "outputs": [
    {
     "data": {
      "text/plain": [
       "dict_keys(['loaded_data', 'grammar', 'semantic_reps', 'labeling_functions', 'soft_labeling_functions', 'filtered_raw_explanations', 'low_end_filter_count', 'high_end_filter_pct'])"
      ]
     },
     "execution_count": 4,
     "metadata": {},
     "output_type": "execute_result"
    }
   ],
   "source": [
    "parser.__dict__.keys()"
   ]
  },
  {
   "cell_type": "code",
   "execution_count": 5,
   "metadata": {},
   "outputs": [
    {
     "data": {
      "text/plain": [
       "170"
      ]
     },
     "execution_count": 5,
     "metadata": {},
     "output_type": "execute_result"
    }
   ],
   "source": [
    "len(parser.loaded_data)"
   ]
  },
  {
   "cell_type": "code",
   "execution_count": 38,
   "metadata": {},
   "outputs": [],
   "source": [
    "# parser.labeling_functions"
   ]
  },
  {
   "cell_type": "code",
   "execution_count": 98,
   "metadata": {},
   "outputs": [],
   "source": [
    "list_of_semantic_counts = []\n",
    "list_of_labeling_functions = []\n",
    "for i, datapoint in enumerate(parser.loaded_data):\n",
    "    list_of_semantic_counts.append(datapoint.semantic_counts)\n",
    "    list_of_labeling_functions.append(datapoint.labeling_functions)"
   ]
  },
  {
   "cell_type": "code",
   "execution_count": 99,
   "metadata": {},
   "outputs": [],
   "source": [
    "for i, dic in enumerate(list_of_semantic_counts):\n",
    "    for key in dic:\n",
    "        if dic[key] > 1 and len(dic) > 1:\n",
    "            print(i)"
   ]
  },
  {
   "cell_type": "code",
   "execution_count": 100,
   "metadata": {},
   "outputs": [
    {
     "name": "stdout",
     "output_type": "stream",
     "text": [
      "(0, 2)\n",
      "(2, 2)\n",
      "(5, 2)\n",
      "(6, 2)\n",
      "(7, 2)\n",
      "(9, 5)\n",
      "(11, 2)\n",
      "(13, 2)\n",
      "(14, 2)\n",
      "(17, 2)\n",
      "(19, 2)\n",
      "(20, 2)\n",
      "(21, 2)\n",
      "(23, 2)\n",
      "(25, 2)\n",
      "(26, 2)\n",
      "(27, 2)\n",
      "(28, 2)\n",
      "(29, 2)\n",
      "(33, 2)\n",
      "(34, 2)\n",
      "(35, 2)\n",
      "(36, 2)\n",
      "(37, 2)\n",
      "(38, 2)\n",
      "(39, 3)\n",
      "(40, 2)\n",
      "(41, 3)\n",
      "(42, 2)\n",
      "(43, 3)\n",
      "(44, 2)\n",
      "(45, 2)\n",
      "(47, 2)\n",
      "(48, 3)\n",
      "(49, 2)\n",
      "(50, 2)\n",
      "(51, 2)\n",
      "(52, 2)\n",
      "(53, 2)\n",
      "(54, 2)\n",
      "(57, 5)\n",
      "(58, 5)\n",
      "(61, 2)\n",
      "(62, 2)\n",
      "(64, 2)\n",
      "(65, 2)\n",
      "(67, 2)\n",
      "(68, 2)\n",
      "(69, 2)\n",
      "(70, 2)\n",
      "(71, 2)\n",
      "(72, 3)\n",
      "(73, 3)\n",
      "(74, 2)\n",
      "(75, 2)\n",
      "(76, 2)\n",
      "(77, 3)\n",
      "(79, 2)\n",
      "(81, 2)\n",
      "(82, 2)\n",
      "(83, 2)\n",
      "(84, 2)\n",
      "(85, 2)\n",
      "(87, 2)\n",
      "(88, 2)\n",
      "(92, 2)\n",
      "(94, 2)\n",
      "(96, 3)\n",
      "(97, 5)\n",
      "(98, 3)\n",
      "(100, 2)\n",
      "(101, 2)\n",
      "(102, 2)\n",
      "(103, 2)\n",
      "(104, 2)\n",
      "(109, 2)\n",
      "(111, 3)\n",
      "(112, 2)\n",
      "(113, 2)\n",
      "(114, 5)\n",
      "(116, 2)\n",
      "(117, 2)\n"
     ]
    }
   ],
   "source": [
    "for i, dic in enumerate(list_of_semantic_counts):\n",
    "    if len(dic) > 1:\n",
    "        print((i, len(dic)))"
   ]
  },
  {
   "cell_type": "code",
   "execution_count": 101,
   "metadata": {},
   "outputs": [
    {
     "data": {
      "text/plain": [
       "{('.root',\n",
       "  ('@And',\n",
       "   ('@Is',\n",
       "    ('@And', 'as part of its', 'ArgY'),\n",
       "    ('@between', ('@And', 'ArgY', 'ArgX'))),\n",
       "   ('@Is',\n",
       "    'There',\n",
       "    ('@AtMost', ('@between', 'ArgX'), ('@Num', '5', 'tokens'))))): 1,\n",
       " ('.root',\n",
       "  ('@And',\n",
       "   ('@Is', 'as part of its', ('@between', ('@And', 'ArgY', 'ArgX'))),\n",
       "   ('@Is',\n",
       "    'There',\n",
       "    ('@AtMost',\n",
       "     ('@between', ('@And', 'ArgY', 'ArgX')),\n",
       "     ('@Num', '5', 'tokens'))))): 1}"
      ]
     },
     "execution_count": 101,
     "metadata": {},
     "output_type": "execute_result"
    }
   ],
   "source": [
    "list_of_semantic_counts[2]"
   ]
  },
  {
   "cell_type": "code",
   "execution_count": 102,
   "metadata": {},
   "outputs": [
    {
     "data": {
      "text/plain": [
       "'The phrase \"\\'s daughter\" links SUBJ and OBJ and there are no more than three words between SUBJ and OBJ'"
      ]
     },
     "execution_count": 102,
     "metadata": {},
     "output_type": "execute_result"
    }
   ],
   "source": [
    "parser.loaded_data[0].raw_explanation"
   ]
  },
  {
   "cell_type": "code",
   "execution_count": 103,
   "metadata": {},
   "outputs": [
    {
     "name": "stdout",
     "output_type": "stream",
     "text": [
      "(9, 5)\n",
      "(39, 3)\n",
      "(41, 3)\n",
      "(43, 3)\n",
      "(48, 3)\n",
      "(57, 5)\n",
      "(58, 5)\n",
      "(72, 3)\n",
      "(73, 3)\n",
      "(77, 3)\n",
      "(96, 3)\n",
      "(97, 5)\n",
      "(98, 3)\n",
      "(111, 3)\n",
      "(114, 5)\n"
     ]
    }
   ],
   "source": [
    "for i, dic in enumerate(list_of_semantic_counts):\n",
    "    if len(dic) > 2:\n",
    "        for key in dic:\n",
    "            if \"('@between', ('@And', 'ArgX', 'ArgY')\" in str(key):\n",
    "                print(i)\n",
    "        print((i, len(dic)))"
   ]
  },
  {
   "cell_type": "code",
   "execution_count": 104,
   "metadata": {},
   "outputs": [
    {
     "data": {
      "text/plain": [
       "{('.root',\n",
       "  ('@And',\n",
       "   ('@Is',\n",
       "    ('@Word', 'secretly married'),\n",
       "    ('@between', ('@And', ('@And', 'ArgY', 'ArgX'), 'ArgY'))),\n",
       "   ('@Is',\n",
       "    'There',\n",
       "    ('@AtMost', ('@between', 'ArgX'), ('@Num', '4', 'tokens'))))): 1,\n",
       " ('.root',\n",
       "  ('@And',\n",
       "   ('@Is',\n",
       "    ('@Word', 'secretly married'),\n",
       "    ('@between', ('@And', 'ArgY', ('@And', 'ArgX', 'ArgY')))),\n",
       "   ('@Is',\n",
       "    'There',\n",
       "    ('@AtMost', ('@between', 'ArgX'), ('@Num', '4', 'tokens'))))): 1,\n",
       " ('.root',\n",
       "  ('@And',\n",
       "   ('@Is',\n",
       "    ('@Word', 'secretly married'),\n",
       "    ('@between', ('@And', 'ArgY', 'ArgX'))),\n",
       "   ('@Is',\n",
       "    'There',\n",
       "    ('@AtMost',\n",
       "     ('@between', ('@And', 'ArgY', 'ArgX')),\n",
       "     ('@Num', '4', 'tokens'))))): 1,\n",
       " ('.root',\n",
       "  ('@And',\n",
       "   ('@Is', ('@Word', 'secretly married'), ('@between', 'ArgY')),\n",
       "   ('@Is',\n",
       "    'There',\n",
       "    ('@AtMost',\n",
       "     ('@between', ('@And', ('@And', 'ArgX', 'ArgY'), 'ArgX')),\n",
       "     ('@Num', '4', 'tokens'))))): 1,\n",
       " ('.root',\n",
       "  ('@And',\n",
       "   ('@Is', ('@Word', 'secretly married'), ('@between', 'ArgY')),\n",
       "   ('@Is',\n",
       "    'There',\n",
       "    ('@AtMost',\n",
       "     ('@between', ('@And', 'ArgX', ('@And', 'ArgY', 'ArgX'))),\n",
       "     ('@Num', '4', 'tokens'))))): 1}"
      ]
     },
     "execution_count": 104,
     "metadata": {},
     "output_type": "execute_result"
    }
   ],
   "source": [
    "list_of_semantic_counts[9]"
   ]
  },
  {
   "cell_type": "code",
   "execution_count": 105,
   "metadata": {},
   "outputs": [
    {
     "data": {
      "text/plain": [
       "{('.root',\n",
       "  ('@And',\n",
       "   ('@Is',\n",
       "    ('@Word', 'hometown of'),\n",
       "    ('@between', ('@And', ('@And', 'ArgY', 'ArgX'), 'ArgY'))),\n",
       "   ('@Is',\n",
       "    'There',\n",
       "    ('@AtMost', ('@between', 'ArgX'), ('@Num', '3', 'tokens'))))): 1,\n",
       " ('.root',\n",
       "  ('@And',\n",
       "   ('@Is',\n",
       "    ('@Word', 'hometown of'),\n",
       "    ('@between', ('@And', 'ArgY', ('@And', 'ArgX', 'ArgY')))),\n",
       "   ('@Is',\n",
       "    'There',\n",
       "    ('@AtMost', ('@between', 'ArgX'), ('@Num', '3', 'tokens'))))): 1,\n",
       " ('.root',\n",
       "  ('@And',\n",
       "   ('@Is', ('@Word', 'hometown of'), ('@between', ('@And', 'ArgY', 'ArgX'))),\n",
       "   ('@Is',\n",
       "    'There',\n",
       "    ('@AtMost',\n",
       "     ('@between', ('@And', 'ArgY', 'ArgX')),\n",
       "     ('@Num', '3', 'tokens'))))): 1,\n",
       " ('.root',\n",
       "  ('@And',\n",
       "   ('@Is', ('@Word', 'hometown of'), ('@between', 'ArgY')),\n",
       "   ('@Is',\n",
       "    'There',\n",
       "    ('@AtMost',\n",
       "     ('@between', ('@And', ('@And', 'ArgX', 'ArgY'), 'ArgX')),\n",
       "     ('@Num', '3', 'tokens'))))): 1,\n",
       " ('.root',\n",
       "  ('@And',\n",
       "   ('@Is', ('@Word', 'hometown of'), ('@between', 'ArgY')),\n",
       "   ('@Is',\n",
       "    'There',\n",
       "    ('@AtMost',\n",
       "     ('@between', ('@And', 'ArgX', ('@And', 'ArgY', 'ArgX'))),\n",
       "     ('@Num', '3', 'tokens'))))): 1}"
      ]
     },
     "execution_count": 105,
     "metadata": {},
     "output_type": "execute_result"
    }
   ],
   "source": [
    "list_of_semantic_counts[114]"
   ]
  },
  {
   "cell_type": "code",
   "execution_count": 106,
   "metadata": {},
   "outputs": [
    {
     "data": {
      "text/plain": [
       "'There is only one word \"died\" between SUBJ and OBJ'"
      ]
     },
     "execution_count": 106,
     "metadata": {},
     "output_type": "execute_result"
    }
   ],
   "source": [
    "parser.loaded_data[39].raw_explanation"
   ]
  },
  {
   "cell_type": "code",
   "execution_count": 107,
   "metadata": {},
   "outputs": [
    {
     "data": {
      "text/plain": [
       "{('.root',\n",
       "  ('@Is',\n",
       "   'There',\n",
       "   ('@WordCount',\n",
       "    ('@Num', '1', 'head'),\n",
       "    ('@Word', 'head'),\n",
       "    ('@between', ('@And', 'ArgY', 'ArgX'))))): 1,\n",
       " ('.root',\n",
       "  ('@Is',\n",
       "   'There',\n",
       "   ('@WordCount',\n",
       "    ('@Num', '1', 'tokens'),\n",
       "    'head',\n",
       "    ('@between', ('@And', 'ArgY', 'ArgX'))))): 1,\n",
       " ('.root',\n",
       "  ('@Is',\n",
       "   'There',\n",
       "   ('@WordCount',\n",
       "    ('@Num', '1', ('@Word', 'head')),\n",
       "    ('@And', 'ArgY', 'ArgX'),\n",
       "    ('@between', ('@And', 'ArgY', 'ArgX'))))): 1}"
      ]
     },
     "execution_count": 107,
     "metadata": {},
     "output_type": "execute_result"
    }
   ],
   "source": [
    "list_of_semantic_counts[41]"
   ]
  },
  {
   "cell_type": "code",
   "execution_count": 108,
   "metadata": {},
   "outputs": [
    {
     "data": {
      "text/plain": [
       "'There is only one word \"head\" between SUBJ and OBJ'"
      ]
     },
     "execution_count": 108,
     "metadata": {},
     "output_type": "execute_result"
    }
   ],
   "source": [
    "parser.loaded_data[41].raw_explanation"
   ]
  },
  {
   "cell_type": "code",
   "execution_count": 109,
   "metadata": {},
   "outputs": [],
   "source": [
    "def detect_semantic_token(semantic_tree, token):\n",
    "    return token in semantic_tree"
   ]
  },
  {
   "cell_type": "code",
   "execution_count": 110,
   "metadata": {},
   "outputs": [],
   "source": [
    "def count_correct_between_parses(semantic_tree):\n",
    "    correct_between_clauses = [\"('@between', ('@And', 'ArgY', 'ArgX'))\", \n",
    "                               \"('@between', ('@And', 'ArgX', 'ArgY'))\"]\n",
    "        \n",
    "    count = semantic_tree.count(correct_between_clauses[0]) + \\\n",
    "            semantic_tree.count(correct_between_clauses[1])\n",
    "    \n",
    "    return count"
   ]
  },
  {
   "cell_type": "code",
   "execution_count": 111,
   "metadata": {},
   "outputs": [],
   "source": [
    "def count_correct_num_parses(semantic_tree):\n",
    "    num_regex = \"\\('\\@Num', '[0-9]+', 'tokens'\\)\"\n",
    "    count = len(re.findall(num_regex, semantic_tree))\n",
    "    \n",
    "    return count"
   ]
  },
  {
   "cell_type": "code",
   "execution_count": 112,
   "metadata": {},
   "outputs": [],
   "source": [
    "temp = str(('.root',\n",
    "  ('@Is',\n",
    "   'There',\n",
    "   ('@WordCount',\n",
    "    ('@Num', '1', 'tokens'),\n",
    "    'head',\n",
    "    ('@Num', '19', 'tokens'),\n",
    "    ('@between', ('@And', 'ArgY', 'ArgX'))))))"
   ]
  },
  {
   "cell_type": "code",
   "execution_count": 113,
   "metadata": {},
   "outputs": [
    {
     "data": {
      "text/plain": [
       "2"
      ]
     },
     "execution_count": 113,
     "metadata": {},
     "output_type": "execute_result"
    }
   ],
   "source": [
    "count_correct_num_parses(temp)"
   ]
  },
  {
   "cell_type": "code",
   "execution_count": 114,
   "metadata": {},
   "outputs": [
    {
     "data": {
      "text/plain": [
       "1"
      ]
     },
     "execution_count": 114,
     "metadata": {},
     "output_type": "execute_result"
    }
   ],
   "source": [
    "count_correct_between_parses(temp)"
   ]
  },
  {
   "cell_type": "code",
   "execution_count": 115,
   "metadata": {},
   "outputs": [],
   "source": [
    "def check_clauses_in_parse_filter(semantic_counts):\n",
    "    contains_between_clause = False\n",
    "    contains_num_clause = False\n",
    "    for key in semantic_counts:\n",
    "        key_str = str(key)\n",
    "        contains_between_clause = detect_semantic_token(key_str, \"@between\")\n",
    "        contains_num_clause = detect_semantic_token(key_str, \"@Num\")\n",
    "    \n",
    "    if contains_between_clause or contains_num_clause:\n",
    "        max_correct_count = 0\n",
    "        correct_semantic_rep = None\n",
    "        for key in semantic_counts:\n",
    "            count = 0\n",
    "            key_str = str(key)\n",
    "            if contains_between_clause:\n",
    "                count += count_correct_between_parses(key_str)\n",
    "            if contains_num_clause:\n",
    "                count += count_correct_num_parses(key_str)\n",
    "            if count > max_correct_count:\n",
    "                correct_semantic_rep = {key : semantic_counts[key]}\n",
    "                max_correct_count = count\n",
    "        \n",
    "        return correct_semantic_rep\n",
    "    \n",
    "    return semantic_counts"
   ]
  },
  {
   "cell_type": "code",
   "execution_count": 116,
   "metadata": {},
   "outputs": [],
   "source": [
    "for i, semantic_counts in enumerate(list_of_semantic_counts):\n",
    "    if len(semantic_counts) > 1:\n",
    "        list_of_semantic_counts[i] = check_clauses_in_parse_filter(semantic_counts)"
   ]
  },
  {
   "cell_type": "code",
   "execution_count": 117,
   "metadata": {},
   "outputs": [],
   "source": [
    "for i, semantic_counts in enumerate(list_of_semantic_counts):\n",
    "    if len(semantic_counts) > 1:\n",
    "        print(i)"
   ]
  },
  {
   "cell_type": "code",
   "execution_count": 89,
   "metadata": {},
   "outputs": [
    {
     "data": {
      "text/plain": [
       "2"
      ]
     },
     "execution_count": 89,
     "metadata": {},
     "output_type": "execute_result"
    }
   ],
   "source": [
    "count_correct_between_parses(str(list(list_of_semantic_counts[0].keys())[1]))"
   ]
  },
  {
   "cell_type": "code",
   "execution_count": 88,
   "metadata": {},
   "outputs": [
    {
     "data": {
      "text/plain": [
       "1"
      ]
     },
     "execution_count": 88,
     "metadata": {},
     "output_type": "execute_result"
    }
   ],
   "source": [
    "count_correct_num_parses(str(list(list_of_semantic_counts[0].keys())[1]))"
   ]
  },
  {
   "cell_type": "code",
   "execution_count": 119,
   "metadata": {},
   "outputs": [
    {
     "data": {
      "text/plain": [
       "{('.root',\n",
       "  ('@And',\n",
       "   ('@Is', ('@Word', 'hometown of'), ('@between', ('@And', 'ArgY', 'ArgX'))),\n",
       "   ('@Is',\n",
       "    'There',\n",
       "    ('@AtMost',\n",
       "     ('@between', ('@And', 'ArgY', 'ArgX')),\n",
       "     ('@Num', '3', 'tokens'))))): 1}"
      ]
     },
     "execution_count": 119,
     "metadata": {},
     "output_type": "execute_result"
    }
   ],
   "source": [
    "list_of_semantic_counts[114]"
   ]
  },
  {
   "cell_type": "code",
   "execution_count": null,
   "metadata": {},
   "outputs": [],
   "source": []
  }
 ],
 "metadata": {
  "kernelspec": {
   "display_name": "Python 3",
   "language": "python",
   "name": "python3"
  },
  "language_info": {
   "codemirror_mode": {
    "name": "ipython",
    "version": 3
   },
   "file_extension": ".py",
   "mimetype": "text/x-python",
   "name": "python",
   "nbconvert_exporter": "python",
   "pygments_lexer": "ipython3",
   "version": "3.6.5"
  }
 },
 "nbformat": 4,
 "nbformat_minor": 4
}
