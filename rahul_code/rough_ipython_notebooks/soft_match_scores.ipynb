{
 "cells": [
  {
   "cell_type": "code",
   "execution_count": 1,
   "metadata": {},
   "outputs": [],
   "source": [
    "import sys\n",
    "sys.path.append(\".\")\n",
    "sys.path.append(\"../\")"
   ]
  },
  {
   "cell_type": "code",
   "execution_count": 2,
   "metadata": {},
   "outputs": [],
   "source": [
    "from CCG_new import parser"
   ]
  },
  {
   "cell_type": "code",
   "execution_count": 3,
   "metadata": {},
   "outputs": [],
   "source": [
    "trainer = parser.CCGParserTrainer(\"re\", explanation_file=\"../data/tacred_explanations.json\",\n",
    "                                  unlabeled_data_file=\"../data/tacred_dev.json\")"
   ]
  },
  {
   "cell_type": "code",
   "execution_count": 4,
   "metadata": {},
   "outputs": [
    {
     "name": "stdout",
     "output_type": "stream",
     "text": [
      "Parser: Loaded explanation data\n",
      "Parser: Created and Set Grammar\n",
      "Parser: Tokenized Explanations\n",
      "Parser: Built Labeling Rules\n",
      "Parser: Set labeling functions\n",
      "Parser: Built soft labeling functions\n",
      "Parser: Done\n"
     ]
    }
   ],
   "source": [
    "trainer.train()"
   ]
  },
  {
   "cell_type": "code",
   "execution_count": 5,
   "metadata": {},
   "outputs": [],
   "source": [
    "parser = trainer.get_parser()"
   ]
  },
  {
   "cell_type": "code",
   "execution_count": null,
   "metadata": {},
   "outputs": [],
   "source": []
  },
  {
   "cell_type": "code",
   "execution_count": 6,
   "metadata": {},
   "outputs": [],
   "source": [
    "loaded_data = parser.loaded_data"
   ]
  },
  {
   "cell_type": "code",
   "execution_count": 7,
   "metadata": {},
   "outputs": [
    {
     "data": {
      "text/plain": [
       "157"
      ]
     },
     "execution_count": 7,
     "metadata": {},
     "output_type": "execute_result"
    }
   ],
   "source": [
    "len(parser.filtered_raw_explanations)"
   ]
  },
  {
   "cell_type": "code",
   "execution_count": 8,
   "metadata": {},
   "outputs": [],
   "source": [
    "# parser.soft_labeling_functions"
   ]
  },
  {
   "cell_type": "code",
   "execution_count": 9,
   "metadata": {},
   "outputs": [],
   "source": [
    "# parser.filtered_raw_explanations"
   ]
  },
  {
   "cell_type": "code",
   "execution_count": 10,
   "metadata": {},
   "outputs": [],
   "source": [
    "# parser.soft_label_function_to_semantic_map"
   ]
  },
  {
   "cell_type": "code",
   "execution_count": 8,
   "metadata": {},
   "outputs": [],
   "source": [
    "import json\n",
    "import pickle\n",
    "import dill"
   ]
  },
  {
   "cell_type": "code",
   "execution_count": 21,
   "metadata": {},
   "outputs": [],
   "source": [
    "with open(\"../data/tacred_explanations.json\") as f:\n",
    "    explanations = json.load(f)\n",
    "    explanations = [ent[\"explanation\"] for ent in explanations]"
   ]
  },
  {
   "cell_type": "code",
   "execution_count": 22,
   "metadata": {},
   "outputs": [
    {
     "data": {
      "text/plain": [
       "\"The word 'employees' appears right after OBJ\""
      ]
     },
     "execution_count": 22,
     "metadata": {},
     "output_type": "execute_result"
    }
   ],
   "source": [
    "explanations[120]"
   ]
  },
  {
   "cell_type": "code",
   "execution_count": 23,
   "metadata": {},
   "outputs": [],
   "source": [
    "labeling_function_indicies = []\n",
    "for pair in parser.soft_labeling_functions:\n",
    "    func, _ = pair\n",
    "    sem = parser.soft_label_function_to_semantic_map[func]\n",
    "    expl = parser.filtered_raw_explanations[sem]\n",
    "    index = explanations.index(expl)\n",
    "    labeling_function_indicies.append(index)\n",
    "    "
   ]
  },
  {
   "cell_type": "code",
   "execution_count": 24,
   "metadata": {},
   "outputs": [
    {
     "data": {
      "text/plain": [
       "157"
      ]
     },
     "execution_count": 24,
     "metadata": {},
     "output_type": "execute_result"
    }
   ],
   "source": [
    "len(labeling_function_indicies)"
   ]
  },
  {
   "cell_type": "code",
   "execution_count": 25,
   "metadata": {},
   "outputs": [],
   "source": [
    "labeling_functions = parser.labeling_functions\n",
    "function_ner_types = parser.ner_types\n",
    "task = \"re\""
   ]
  },
  {
   "cell_type": "code",
   "execution_count": 26,
   "metadata": {},
   "outputs": [],
   "source": [
    "TACRED_LABEL_MAP = {\n",
    "    'per:title': 0,\n",
    "    'org:top_members/employees': 1,\n",
    "    'per:employee_of': 2,\n",
    "    'org:alternate_names': 3,\n",
    "    'org:country_of_headquarters': 4,\n",
    "    'per:countries_of_residence': 5,\n",
    "    'org:city_of_headquarters': 6,\n",
    "    'per:cities_of_residence': 7,\n",
    "    'per:age': 8,\n",
    "    'per:stateorprovinces_of_residence': 9,\n",
    "    'per:origin': 10,\n",
    "    'org:subsidiaries': 11,\n",
    "    'org:parents': 12,\n",
    "    'per:spouse': 13,\n",
    "    'org:stateorprovince_of_headquarters': 14,\n",
    "    'per:children': 15,\n",
    "    'per:other_family': 16,\n",
    "    'per:alternate_names': 17,\n",
    "    'org:members': 18,\n",
    "    'per:siblings': 19,\n",
    "    'per:schools_attended': 20,\n",
    "    'per:parents': 21,\n",
    "    'per:date_of_death': 22,\n",
    "    'org:member_of': 23,\n",
    "    'org:founded_by': 24,\n",
    "    'org:website': 25,\n",
    "    'per:cause_of_death': 26,\n",
    "    'org:political/religious_affiliation': 27,\n",
    "    'org:founded': 28,\n",
    "    'per:city_of_death': 29,\n",
    "    'org:shareholders': 30,\n",
    "    'org:number_of_employees/members': 31,\n",
    "    'per:date_of_birth': 32,\n",
    "    'per:city_of_birth': 33,\n",
    "    'per:charges': 34,\n",
    "    'per:stateorprovince_of_death': 35,\n",
    "    'per:religion': 36,\n",
    "    'per:stateorprovince_of_birth': 37,\n",
    "    'per:country_of_birth': 38,\n",
    "    'org:dissolved': 39,\n",
    "    'per:country_of_death': 40,\n",
    "    'no_relation': 41\n",
    "}"
   ]
  },
  {
   "cell_type": "code",
   "execution_count": 68,
   "metadata": {},
   "outputs": [],
   "source": [
    "# with open(\"../data/training_data/train_phrases_debug.p\", \"rb\") as f:\n",
    "#         phrases = pickle.load(f)\n",
    "\n",
    "        \n",
    "# matched_data_indicies = []\n",
    "# soft_matched_indicies = []\n",
    "# # matched_data_tuples = []\n",
    "# # unlabeled_data_phrases = []\n",
    "# labels = []\n",
    "\n",
    "# for i, phrase in enumerate(phrases):\n",
    "#     not_matched = True\n",
    "#     for function in labeling_functions:\n",
    "#         try:\n",
    "#             if function(phrase):\n",
    "#                 if task == \"re\":\n",
    "#                     subj_type = phrase.ners[phrase.subj_posi].lower()\n",
    "#                     obj_type = phrase.ners[phrase.obj_posi].lower()\n",
    "#                     if function_ner_types[function][0] == subj_type and function_ner_types[function][1] == obj_type:\n",
    "# #                         sentence = phrase.sentence.replace(\"SUBJ\", \"SUBJ-{}\".format(phrase.ners[phrase.subj_posi]))\n",
    "# #                         sentence = sentence.replace(\"OBJ\", \"OBJ-{}\".format(phrase.ners[phrase.obj_posi]))\n",
    "# #                         matched_data_tuples.append((sentence, labeling_functions[function]))\n",
    "#                         labels.append(TACRED_LABEL_MAP[labeling_functions[function]]+1)\n",
    "#                         matched_data_indicies.append(i)\n",
    "#                         not_matched = False\n",
    "#                         break\n",
    "#                 else:\n",
    "# #                     matched_data_tuples.append((phrase.sentence, labeling_functions[function]))\n",
    "#                     matched_data_indicies.append(i)\n",
    "#                     not_matched = False\n",
    "#                     break\n",
    "#         except:\n",
    "#             continue\n",
    "#     if not_matched:\n",
    "#         labels.append(0)\n",
    "#         soft_matched_indicies.append(i)"
   ]
  },
  {
   "cell_type": "code",
   "execution_count": 18,
   "metadata": {},
   "outputs": [],
   "source": [
    "# with open(\"matching_indxes.json\", \"w\") as f:\n",
    "#     json.dump({\n",
    "#         \"matched_data_indicies\" : matched_data_indicies, \n",
    "#         \"soft_matched_indicies\" : soft_matched_indicies\n",
    "#     }, f)"
   ]
  },
  {
   "cell_type": "code",
   "execution_count": 170,
   "metadata": {},
   "outputs": [],
   "source": [
    "with open(\"matching_indxes.json\") as f:\n",
    "    blah = json.load(f)\n",
    "    matched_data_indicies = blah[\"matched_data_indicies\"]\n",
    "    soft_matched_indicies = blah[\"soft_matched_indicies\"]"
   ]
  },
  {
   "cell_type": "code",
   "execution_count": 171,
   "metadata": {},
   "outputs": [
    {
     "data": {
      "text/plain": [
       "(2745, 65379)"
      ]
     },
     "execution_count": 171,
     "metadata": {},
     "output_type": "execute_result"
    }
   ],
   "source": [
    "len(matched_data_indicies), len(soft_matched_indicies)"
   ]
  },
  {
   "cell_type": "code",
   "execution_count": 172,
   "metadata": {},
   "outputs": [
    {
     "data": {
      "text/plain": [
       "([0, 1, 2, 3, 4, 5, 6, 7, 8, 9],\n",
       " [29, 58, 90, 98, 104, 109, 128, 181, 190, 216])"
      ]
     },
     "execution_count": 172,
     "metadata": {},
     "output_type": "execute_result"
    }
   ],
   "source": [
    "soft_matched_indicies[:10], matched_data_indicies[:10]"
   ]
  },
  {
   "cell_type": "code",
   "execution_count": 11,
   "metadata": {},
   "outputs": [],
   "source": [
    "import torch\n",
    "from models import Find_Module\n",
    "from training.util_functions import build_custom_vocab\n",
    "from training.util_functions import set_re_dataset_ner_label_space\n",
    "from tqdm import tqdm\n",
    "from training.util_classes import BaseVariableLengthDataset\n",
    "from training.train_util_functions import build_phrase_input, build_mask_mat_for_batch, batch_type_restrict_re\n",
    "from training.constants import TACRED_ENTITY_TYPES, TACRED_NERS\n",
    "from CCG_new.soft_grammar_functions import NER_LABEL_SPACE"
   ]
  },
  {
   "cell_type": "code",
   "execution_count": 12,
   "metadata": {},
   "outputs": [
    {
     "data": {
      "text/plain": [
       "<All keys matched successfully>"
      ]
     },
     "execution_count": 12,
     "metadata": {},
     "output_type": "execute_result"
    }
   ],
   "source": [
    "save_string = \"tacred_glove.840B.300d_-1_-1.0\"\n",
    "\n",
    "with open(\"../data/training_data/unlabeled_data_{}.p\".format(save_string), \"rb\") as f:\n",
    "    unlabeled_data = pickle.load(f)\n",
    "\n",
    "with open(\"../data/vocabs/vocab_tacred_glove.840B.300d_-1_0.6.p\", \"rb\") as f:\n",
    "    vocab = pickle.load(f)\n",
    "\n",
    "with open(\"../data/training_data/labeling_functions_{}.p\".format(save_string), \"rb\") as f:\n",
    "    soft_labeling_functions_dict = dill.load(f)\n",
    "\n",
    "with open(\"../data/training_data/query_tokens_{}.p\".format(save_string), \"rb\") as f:\n",
    "    tokenized_queries = pickle.load(f)\n",
    "    \n",
    "with open(\"../data/training_data/word2idx_{}.p\".format(save_string), \"rb\") as f:\n",
    "    quoted_words_to_index = pickle.load(f)\n",
    "\n",
    "pad_idx = vocab[\"<pad>\"]\n",
    "\n",
    "if torch.cuda.is_available():\n",
    "    device = torch.device(\"cuda\")\n",
    "else:\n",
    "    device = torch.device(\"cpu\")\n",
    "\n",
    "custom_vocab = build_custom_vocab(\"tacred\", len(vocab))\n",
    "custom_vocab_length = len(custom_vocab)\n",
    "\n",
    "find_module = Find_Module.Find_Module(vocab.vectors, pad_idx, 300, 300,\n",
    "                                      torch.cuda.is_available(),\n",
    "                                      custom_token_count=custom_vocab_length)\n",
    "\n",
    "find_module.load_state_dict(torch.load(\"../data/saved_models/Find-Module-pt_blah2.p\"))"
   ]
  },
  {
   "cell_type": "code",
   "execution_count": 13,
   "metadata": {},
   "outputs": [
    {
     "data": {
      "text/plain": [
       "159"
      ]
     },
     "execution_count": 13,
     "metadata": {},
     "output_type": "execute_result"
    }
   ],
   "source": [
    "len(quoted_words_to_index)"
   ]
  },
  {
   "cell_type": "code",
   "execution_count": 14,
   "metadata": {},
   "outputs": [],
   "source": [
    "set_re_dataset_ner_label_space(\"tacred\", TACRED_NERS)"
   ]
  },
  {
   "cell_type": "code",
   "execution_count": 15,
   "metadata": {},
   "outputs": [
    {
     "data": {
      "text/plain": [
       "{'': 0,\n",
       " 'NUMBER': 1,\n",
       " 'DATE': 2,\n",
       " 'EVENT': 3,\n",
       " 'FAC': 4,\n",
       " 'STATE_OR_PROVINCE': 5,\n",
       " 'LANGUAGE': 6,\n",
       " 'LAW': 7,\n",
       " 'LOCATION': 8,\n",
       " 'MONEY': 9,\n",
       " 'NORP': 10,\n",
       " 'ORDINAL': 11,\n",
       " 'ORGANIZATION': 12,\n",
       " 'PERCENT': 13,\n",
       " 'PERSON': 14,\n",
       " 'PRODUCT': 15,\n",
       " 'QUANTITY': 16,\n",
       " 'TIME': 17,\n",
       " 'WORK_OF_ART': 18,\n",
       " '<PAD>': 19,\n",
       " 'TITLE': 20,\n",
       " 'COUNTRY': 21,\n",
       " 'CITY': 22,\n",
       " 'MISC': 23,\n",
       " 'DURATION': 24,\n",
       " 'NATIONALITY': 25,\n",
       " 'CAUSE_OF_DEATH': 26,\n",
       " 'CRIMINAL_CHARGE': 27,\n",
       " 'RELIGION': 28,\n",
       " 'URL': 29,\n",
       " 'IDEOLOGY': 30}"
      ]
     },
     "execution_count": 15,
     "metadata": {},
     "output_type": "execute_result"
    }
   ],
   "source": [
    "NER_LABEL_SPACE"
   ]
  },
  {
   "cell_type": "code",
   "execution_count": 16,
   "metadata": {},
   "outputs": [],
   "source": [
    "find_module = find_module.to(device)\n",
    "\n",
    "# Get queries ready for Find Module\n",
    "lfind_query_tokens, _ = BaseVariableLengthDataset.variable_length_batch_as_tensors(tokenized_queries, pad_idx)\n",
    "lfind_query_tokens = lfind_query_tokens.to(device).detach()\n",
    "\n",
    "soft_labeling_functions = soft_labeling_functions_dict[\"function_pairs\"]\n",
    "soft_labeling_function_labels = soft_labeling_functions_dict[\"labels\"]\n",
    "\n",
    "relation_ner_types = TACRED_ENTITY_TYPES\n",
    "lower_bound = -20.0"
   ]
  },
  {
   "cell_type": "code",
   "execution_count": 17,
   "metadata": {},
   "outputs": [
    {
     "data": {
      "text/plain": [
       "torch.Size([159, 4])"
      ]
     },
     "execution_count": 17,
     "metadata": {},
     "output_type": "execute_result"
    }
   ],
   "source": [
    "lfind_query_tokens.shape"
   ]
  },
  {
   "cell_type": "code",
   "execution_count": 180,
   "metadata": {},
   "outputs": [
    {
     "name": "stderr",
     "output_type": "stream",
     "text": [
      "654it [12:07,  1.11s/it]\n"
     ]
    }
   ],
   "source": [
    "lfind_matrix = []\n",
    "for i, batch in enumerate(tqdm(unlabeled_data.as_batches(batch_size=100, shuffle=False))):\n",
    "        unlabeled_tokens, unlabeled_token_lengths, phrases = batch\n",
    "        unlabeled_tokens = unlabeled_tokens.to(device)\n",
    "        with torch.no_grad():\n",
    "            lfind_output = find_module.soft_matching_forward(unlabeled_tokens.detach(), lfind_query_tokens, lower_bound).cpu() # B x seq_len x Q\n",
    "            lfind_matrix.append(lfind_output)"
   ]
  },
  {
   "cell_type": "code",
   "execution_count": 181,
   "metadata": {},
   "outputs": [],
   "source": [
    "new_lfind_matrix = []\n",
    "for i, tensor in enumerate(lfind_matrix):\n",
    "    batch_size, seq_length, _ = tensor.shape\n",
    "    seq_length = min(seq_length, 110)\n",
    "    new_tensor = torch.zeros(batch_size, 110, 159)\n",
    "    new_tensor[:,:seq_length,:] = tensor[:, :seq_length, :]\n",
    "    new_lfind_matrix.append(new_tensor)"
   ]
  },
  {
   "cell_type": "code",
   "execution_count": 182,
   "metadata": {},
   "outputs": [],
   "source": [
    "full_matrix = torch.cat(new_lfind_matrix)"
   ]
  },
  {
   "cell_type": "code",
   "execution_count": 183,
   "metadata": {},
   "outputs": [
    {
     "data": {
      "text/plain": [
       "torch.Size([65379, 110, 159])"
      ]
     },
     "execution_count": 183,
     "metadata": {},
     "output_type": "execute_result"
    }
   ],
   "source": [
    "full_matrix.shape"
   ]
  },
  {
   "cell_type": "code",
   "execution_count": 184,
   "metadata": {},
   "outputs": [],
   "source": [
    "with open(\"/home/rahul/label_mat.p\", \"wb\") as f:\n",
    "    pickle.dump(full_matrix, f, protocol=4)"
   ]
  },
  {
   "cell_type": "code",
   "execution_count": 82,
   "metadata": {},
   "outputs": [
    {
     "data": {
      "text/plain": [
       "torch.Size([100, 95, 166])"
      ]
     },
     "execution_count": 82,
     "metadata": {},
     "output_type": "execute_result"
    }
   ],
   "source": [
    "lfind_matrix[0].shape"
   ]
  },
  {
   "cell_type": "code",
   "execution_count": 83,
   "metadata": {},
   "outputs": [
    {
     "data": {
      "text/plain": [
       "torch.Size([100, 75, 166])"
      ]
     },
     "execution_count": 83,
     "metadata": {},
     "output_type": "execute_result"
    }
   ],
   "source": [
    "lfind_matrix[1].shape"
   ]
  },
  {
   "cell_type": "code",
   "execution_count": 84,
   "metadata": {},
   "outputs": [
    {
     "data": {
      "text/plain": [
       "tensor([[2.0612e-09, 2.0612e-09, 1.3942e-08,  ..., 4.1497e-08, 2.0612e-09,\n",
       "         2.0612e-09],\n",
       "        [2.0612e-09, 2.0612e-09, 2.0612e-09,  ..., 2.0612e-09, 2.0612e-09,\n",
       "         1.3453e-08],\n",
       "        [2.0612e-09, 2.0612e-09, 2.0612e-09,  ..., 2.0612e-09, 2.0612e-09,\n",
       "         2.0612e-09],\n",
       "        ...,\n",
       "        [0.0000e+00, 0.0000e+00, 0.0000e+00,  ..., 0.0000e+00, 0.0000e+00,\n",
       "         0.0000e+00],\n",
       "        [0.0000e+00, 0.0000e+00, 0.0000e+00,  ..., 0.0000e+00, 0.0000e+00,\n",
       "         0.0000e+00],\n",
       "        [0.0000e+00, 0.0000e+00, 0.0000e+00,  ..., 0.0000e+00, 0.0000e+00,\n",
       "         0.0000e+00]])"
      ]
     },
     "execution_count": 84,
     "metadata": {},
     "output_type": "execute_result"
    }
   ],
   "source": [
    "lfind_matrix[0][0][0]"
   ]
  },
  {
   "cell_type": "code",
   "execution_count": 27,
   "metadata": {},
   "outputs": [
    {
     "name": "stderr",
     "output_type": "stream",
     "text": [
      "0it [00:00, ?it/s]../CCG_new/constants.py:443: UserWarning: To copy construct from a tensor, it is recommended to use sourceTensor.clone().detach() or sourceTensor.clone().detach().requires_grad_(True), rather than torch.tensor(sourceTensor).\n",
      "  \".root\": lambda xs: lambda label_mat,keyword_dict,mask_mat:lambda c: torch.max(torch.tensor(sum([x(label_mat,keyword_dict,mask_mat)(c) for x in xs])-len(xs)+1).to(device),torch.tensor(0.0).to(device)) if type(xs) == tuple else xs(label_mat,keyword_dict,mask_mat)(c),\n",
      "../CCG_new/soft_grammar_functions.py:386: UserWarning: To copy construct from a tensor, it is recommended to use sourceTensor.clone().detach() or sourceTensor.clone().detach().requires_grad_(True), rather than torch.tensor(sourceTensor).\n",
      "  return torch.max(torch.tensor(F(nouny, option={'attr':'word','range':-1,'numAppear':1,'cmp':'nlt','onlyCount':False})(label_mat,keyword_dict,mask_mat)(c)+F(nouny, option={'attr':'tokens','range':-1,'numAppear':len(nouny.split()),'cmp':'eq','onlyCount':True})(label_mat,keyword_dict,mask_mat)(c)-1).to(device),torch.tensor(0.0).to(device))\n",
      "654it [17:44,  1.63s/it]\n"
     ]
    }
   ],
   "source": [
    "function_scores = {}\n",
    "for i, batch in enumerate(tqdm(unlabeled_data.as_batches(batch_size=100, shuffle=False))):\n",
    "        unlabeled_tokens, unlabeled_token_lengths, phrases = batch\n",
    "        unlabeled_tokens = unlabeled_tokens.to(device)\n",
    "        phrase_input = build_phrase_input(phrases, pad_idx, \"re\").to(device).detach()\n",
    "        b_size, seq_length = unlabeled_tokens.shape\n",
    "        mask_mat = build_mask_mat_for_batch(seq_length).to(device).detach()\n",
    "        with torch.no_grad():\n",
    "            lfind_output = find_module.soft_matching_forward(unlabeled_tokens.detach(), lfind_query_tokens, lower_bound).detach() # B x seq_len x Q\n",
    "\n",
    "            function_batch_scores = []\n",
    "            for j, pair in enumerate(soft_labeling_functions):\n",
    "                func, rel = pair\n",
    "                func_index = labeling_function_indicies[j]\n",
    "                batch_scores = func(lfind_output, quoted_words_to_index, mask_mat)(phrase_input).detach() # 1 x B\n",
    "\n",
    "                type_restrict_multiplier = batch_type_restrict_re(rel, phrase_input, relation_ner_types).detach() # 1 x B\n",
    "                final_scores = batch_scores * type_restrict_multiplier # 1 x B\n",
    "                final_scores = final_scores.cpu()\n",
    "                if func_index in function_scores:\n",
    "                    function_scores[func_index] = torch.cat([function_scores[func_index], final_scores], dim=1)\n",
    "                else:\n",
    "                    function_scores[func_index] = final_scores"
   ]
  },
  {
   "cell_type": "code",
   "execution_count": 28,
   "metadata": {},
   "outputs": [
    {
     "data": {
      "text/plain": [
       "tensor(61.2273)"
      ]
     },
     "execution_count": 28,
     "metadata": {},
     "output_type": "execute_result"
    }
   ],
   "source": [
    "sum(function_scores[0][0])"
   ]
  },
  {
   "cell_type": "code",
   "execution_count": null,
   "metadata": {},
   "outputs": [],
   "source": [
    "len(function_scores.keys())"
   ]
  },
  {
   "cell_type": "code",
   "execution_count": 34,
   "metadata": {},
   "outputs": [],
   "source": [
    "with open(\"/home/rahul/ziqi/NExT/data/tacred/explanations.json\") as f:\n",
    "    explanations = json.load(f)"
   ]
  },
  {
   "cell_type": "code",
   "execution_count": 35,
   "metadata": {},
   "outputs": [
    {
     "data": {
      "text/plain": [
       "[['per:children',\n",
       "  \"'@And'('@Is'('There','@AtMost'('@between'('@And'('ArgY','ArgX')),'@Num'('3','tokens'))),'@Is'('@Word'(''sSPACEdaughter'),'@between'('@And'('ArgY','ArgX'))))\",\n",
       "  [\"SUBJ-PERSON 's daughter OBJ-PERSON\"],\n",
       "  [\"'s daughter\"]],\n",
       " ['per:date_of_birth',\n",
       "  \"'@And'('@Is'('There','@AtMost'('@between'('@And'('ArgY','ArgX')),'@Num'('3','tokens'))),'@Is'('@Word'('wasSPACEborn'),'@between'('@And'('ArgY','ArgX'))))\",\n",
       "  ['SUBJ-PERSON was born OBJ-DATE'],\n",
       "  ['was born']],\n",
       " ['org:parents',\n",
       "  \"'@And'('@Is'('asSPACEpartSPACEofSPACEits','@between'('@And'('ArgY','ArgX'))),'@Is'('There','@AtMost'('@between'('@And'('ArgY','ArgX')),'@Num'('5','tokens'))))\",\n",
       "  ['SUBJ-ORGANIZATION as part of its OBJ-ORGANIZATION'],\n",
       "  ['as part of its']],\n",
       " ['per:cause_of_death',\n",
       "  \"'@And'('@Is'('There','@AtMost'('@between'('@And'('ArgY','ArgX')),'@Num'('5','tokens'))),'@Is'('@Word'('whoSPACEdiedSPACEof'),'@between'('@And'('ArgY','ArgX'))))\",\n",
       "  ['SUBJ-PERSON who died of OBJ-CAUSE_OF_DEATH'],\n",
       "  ['who died of']],\n",
       " ['per:stateorprovinces_of_residence',\n",
       "  \"'@And'('@Is'('There','@AtMost'('@between'('@And'('ArgY','ArgX')),'@Num'('4','tokens'))),'@Is'('@Word'('isSPACEfrom'),'@between'('@And'('ArgY','ArgX'))))\",\n",
       "  ['SUBJ-PERSON is from OBJ-STATE_OR_PROVINCE'],\n",
       "  ['is from']],\n",
       " ['per:other_family',\n",
       "  \"'@And'('@Is'('There','@AtMost'('@between'('@And'('ArgY','ArgX')),'@Num'('4','tokens'))),'@Is'('@Word'(''sSPACEgrandmother'),'@between'('@And'('ArgY','ArgX'))))\",\n",
       "  [\"SUBJ-PERSON 's grandmother OBJ-PERSON\"],\n",
       "  [\"'s grandmother\"]],\n",
       " ['org:stateorprovince_of_headquarters',\n",
       "  \"'@And'('@Is'('There','@AtMost'('@between'('@And'('ArgY','ArgX')),'@Num'('5','tokens'))),'@Is'('@Word'('isSPACEbasedSPACEin'),'@between'('@And'('ArgY','ArgX'))))\",\n",
       "  ['SUBJ-ORGANIZATION is based in OBJ-STATE_OR_PROVINCE'],\n",
       "  ['is based in']],\n",
       " ['per:alternate_names',\n",
       "  \"'@And'('@Is'('There','@AtMost'('@between'('@And'('ArgY','ArgX')),'@Num'('6','tokens'))),'@Is'('@Word'('thenSPACEknownSPACEas'),'@between'('@And'('ArgY','ArgX'))))\",\n",
       "  ['OBJ-PERSON then known as SUBJ-PERSON'],\n",
       "  ['then known as']],\n",
       " ['per:parents',\n",
       "  \"'@And'('@Is'('There','@AtMost'('@between'('@And'('ArgY','ArgX')),'@Num'('3','tokens'))),'@Is'('@Word'(''sSPACEmother'),'@between'('@And'('ArgY','ArgX'))))\",\n",
       "  [\"SUBJ-PERSON 's mother OBJ-PERSON\"],\n",
       "  [\"'s mother\"]],\n",
       " ['per:spouse',\n",
       "  \"'@And'('@Is'('@Word'('secretlySPACEmarried'),'@between'('@And'('ArgY','ArgX'))),'@Is'('There','@AtMost'('@between'('@And'('ArgY','ArgX')),'@Num'('4','tokens'))))\",\n",
       "  ['OBJ-PERSON secretly married SUBJ-PERSON'],\n",
       "  ['secretly married']],\n",
       " ['per:other_family',\n",
       "  \"'@And'('@Is'('There','@AtMost'('@between'('@And'('ArgY','ArgX')),'@Num'('4','tokens'))),'@Is'('@Word'('cousinSPACEof'),'@between'('@And'('ArgY','ArgX'))))\",\n",
       "  ['OBJ-PERSON cousin of SUBJ-PERSON'],\n",
       "  ['cousin of']],\n",
       " ['per:parents',\n",
       "  \"'@And'('@Is'('@Word'(''sSPACEfather'),'@between'('@And'('ArgY','ArgX'))),'@Is'('There','@AtMost'('@between'('@And'('ArgY','ArgX')),'@Num'('4','tokens'))))\",\n",
       "  [\"SUBJ-PERSON 's father OBJ-PERSON\"],\n",
       "  [\"'s father\"]],\n",
       " ['per:spouse',\n",
       "  \"'@And'('@Is'('There','@AtMost'('@between'('@And'('ArgY','ArgX')),'@Num'('4','tokens'))),'@Is'('@Word'(''sSPACEexCOMMA4wife'),'@between'('@And'('ArgY','ArgX'))))\",\n",
       "  [\"SUBJ-PERSON 's ex-wife OBJ-PERSON\"],\n",
       "  [\"'s ex-wife\"]],\n",
       " ['org:founded_by',\n",
       "  \"'@And'('@Is'(''sSPACEfounder','@between'('@And'('ArgY','ArgX'))),'@Is'('There','@AtMost'('@between'('@And'('ArgY','ArgX')),'@Num'('3','tokens'))))\",\n",
       "  [\"SUBJ-ORGANIZATION 's founder OBJ-PERSON\"],\n",
       "  [\"'s founder\"]],\n",
       " ['org:top_members/employees',\n",
       "  \"'@And'('@Is'('@Word'('chairman'),'@between'('@And'('ArgY','ArgX'))),'@Is'('There','@AtMost'('@between'('@And'('ArgY','ArgX')),'@Num'('2','tokens'))))\",\n",
       "  ['SUBJ-ORGANIZATION chairman OBJ-PERSON'],\n",
       "  ['chairman']],\n",
       " ['per:cities_of_residence',\n",
       "  \"'@And'('@Is'('There','@AtMost'('@between'('@And'('ArgY','ArgX')),'@Num'('6','tokens'))),'@Is'('homeSPACEin','@between'('@And'('ArgY','ArgX'))))\",\n",
       "  ['SUBJ-PERSON home in OBJ-CITY'],\n",
       "  ['home in']],\n",
       " ['per:spouse',\n",
       "  \"'@And'('@Is'('There','@AtMost'('@between'('@And'('ArgY','ArgX')),'@Num'('5','tokens'))),'@Is'('@Word'(''sSPACEhusband'),'@between'('@And'('ArgY','ArgX'))))\",\n",
       "  [\"SUBJ-PERSON 's husband OBJ-PERSON\"],\n",
       "  [\"'s husband\"]],\n",
       " ['org:website',\n",
       "  \"'@And'('@Is'('There','@AtMost'('@between'('@And'('ArgY','ArgX')),'@Num'('5','tokens'))),'@Is'('websiteSPACECOMMA1','@between'('@And'('ArgY','ArgX'))))\",\n",
       "  ['SUBJ-ORGANIZATION website -LRB- OBJ-URL'],\n",
       "  ['website -LRB-']],\n",
       " ['org:city_of_headquarters',\n",
       "  \"'@And'('@Is'('There','@AtMost'('@between'('@And'('ArgY','ArgX')),'@Num'('4','tokens'))),'@Is'('@Word'(''sSPACEheadquartersSPACEin'),'@between'('@And'('ArgY','ArgX'))))\",\n",
       "  [\"SUBJ-ORGANIZATION 's headquarters in OBJ-CITY\"],\n",
       "  [\"'s headquarters in\"]],\n",
       " ['per:siblings',\n",
       "  \"'@And'('@Is'('There','@AtMost'('@between'('@And'('ArgY','ArgX')),'@Num'('3','tokens'))),'@Is'('@Word'(''sSPACEsister'),'@between'('@And'('ArgY','ArgX'))))\",\n",
       "  [\"SUBJ-PERSON 's sister OBJ-PERSON\"],\n",
       "  [\"'s sister\"]],\n",
       " ['org:country_of_headquarters',\n",
       "  \"'@And'('@Is'('@Word'(''s'),'@between'('@And'('ArgY','ArgX'))),'@Is'('There','@AtMost'('@between'('@And'('ArgY','ArgX')),'@Num'('2','tokens'))))\",\n",
       "  [\"OBJ-COUNTRY 's SUBJ-ORGANIZATION\"],\n",
       "  [\"'s\"]],\n",
       " ['org:alternate_names',\n",
       "  \"'@And'('@Is'('@Word'('COMMA1SPACEformerly'),'@between'('@And'('ArgY','ArgX'))),'@Is'('There','@AtMost'('@between'('@And'('ArgY','ArgX')),'@Num'('3','tokens'))))\",\n",
       "  ['SUBJ-ORGANIZATION -LRB- formerly OBJ-ORGANIZATION'],\n",
       "  ['-LRB- formerly']],\n",
       " ['org:founded',\n",
       "  \"'@And'('@Is'('There','@AtMost'('@between'('@And'('ArgY','ArgX')),'@Num'('3','tokens'))),'@Is'('wasSPACEfounded','@between'('@And'('ArgY','ArgX'))))\",\n",
       "  ['SUBJ-ORGANIZATION was founded OBJ-DATE'],\n",
       "  ['was founded']],\n",
       " ['org:political/religious_affiliation',\n",
       "  \"'@And'('@Is'('There','@AtMost'('@between'('@And'('ArgY','ArgX')),'@Num'('3','tokens'))),'@Is'('@Word'('militantSPACEgroup'),'@between'('@And'('ArgY','ArgX'))))\",\n",
       "  ['OBJ-RELIGION militant group SUBJ-ORGANIZATION'],\n",
       "  ['militant group']],\n",
       " ['per:alternate_names',\n",
       "  \"'@And'('@Is'('There','@AtMost'('@between'('@And'('ArgY','ArgX')),'@Num'('5','tokens'))),'@Is'(''sSPACErealSPACEnameSPACEwas','@between'('@And'('ArgY','ArgX'))))\",\n",
       "  [\"SUBJ-PERSON 's real name was OBJ-PERSON\"],\n",
       "  [\"'s real name was\"]],\n",
       " ['per:employee_of',\n",
       "  \"'@And'('@Is'('There','@AtMost'('@between'('@And'('ArgY','ArgX')),'@Num'('3','tokens'))),'@Is'('workSPACEfor','@between'('@And'('ArgY','ArgX'))))\",\n",
       "  ['SUBJ-PERSON work for OBJ-ORGANIZATION'],\n",
       "  ['work for']],\n",
       " ['per:cause_of_death',\n",
       "  \"'@And'('@Is'('@Word'('diesSPACEof'),'@between'('@And'('ArgY','ArgX'))),'@Is'('There','@AtMost'('@between'('@And'('ArgY','ArgX')),'@Num'('4','tokens'))))\",\n",
       "  ['SUBJ-PERSON dies of OBJ-CAUSE_OF_DEATH'],\n",
       "  ['dies of']],\n",
       " ['org:country_of_headquarters',\n",
       "  \"'@And'('@Is'('@Word'('@And'('ArgY','ArgX')),'@between'('@And'('ArgY','ArgX'))),'@Is'('There','@AtMost'('@between'('@And'('ArgY','ArgX')),'@Num'('3','tokens'))))\",\n",
       "  ['OBJ-COUNTRY SUBJ-ORGANIZATION'],\n",
       "  []],\n",
       " ['org:founded_by',\n",
       "  \"'@And'('@Is'('There','@AtMost'('@between'('@And'('ArgY','ArgX')),'@Num'('2','tokens'))),'@Is'('@Word'('founder'),'@between'('@And'('ArgY','ArgX'))))\",\n",
       "  ['SUBJ-ORGANIZATION founder OBJ-PERSON'],\n",
       "  ['founder']],\n",
       " ['org:top_members/employees',\n",
       "  \"'@And'('@Is'('There','@AtMost'('@between'('@And'('ArgY','ArgX')),'@Num'('5','tokens'))),'@Is'('whoSPACEheads','@between'('@And'('ArgY','ArgX'))))\",\n",
       "  ['OBJ-PERSON who heads SUBJ-ORGANIZATION'],\n",
       "  ['who heads']],\n",
       " ['per:employee_of',\n",
       "  \"'@And'('@Is'('There','@AtMost'('@between'('@And'('ArgY','ArgX')),'@Num'('4','tokens'))),'@Is'('@Word'('presidentSPACEof'),'@between'('@And'('ArgY','ArgX'))))\",\n",
       "  ['SUBJ-PERSON president of OBJ-ORGANIZATION'],\n",
       "  ['president of']],\n",
       " ['per:alternate_names',\n",
       "  \"'@And'('@Is'('There','@AtMost'('@between'('@And'('ArgY','ArgX')),'@Num'('3','tokens'))),'@Is'('@Word'('COMMA1SPACEaka'),'@between'('@And'('ArgY','ArgX'))))\",\n",
       "  ['SUBJ-PERSON -LRB- aka OBJ-PERSON'],\n",
       "  ['-LRB- aka']],\n",
       " ['per:title',\n",
       "  \"'@Is'('ArgY','@Direct'('@Left0'('ArgX')))\",\n",
       "  ['OBJ-TITLE SUBJ-PERSON'],\n",
       "  []],\n",
       " ['org:member_of',\n",
       "  \"'@And'('@Is'('There','@AtMost'('@between'('@And'('ArgY','ArgX')),'@Num'('4','tokens'))),'@Is'('isSPACEpartSPACEof','@between'('@And'('ArgY','ArgX'))))\",\n",
       "  ['SUBJ-ORGANIZATION is part of OBJ-ORGANIZATION'],\n",
       "  ['is part of']],\n",
       " ['per:cities_of_residence',\n",
       "  \"'@And'('@Is'('There','@AtMost'('@between'('@And'('ArgY','ArgX')),'@Num'('4','tokens'))),'@Is'('@Word'(''sSPACEhometownSPACEof'),'@between'('@And'('ArgY','ArgX'))))\",\n",
       "  [\"SUBJ-PERSON 's hometown of OBJ-CITY\"],\n",
       "  [\"'s hometown of\"]],\n",
       " ['org:founded',\n",
       "  \"'@And'('@Is'('There','@AtMost'('@between'('@And'('ArgY','ArgX')),'@Num'('4','tokens'))),'@Is'('@Word'('wasSPACEformedSPACEin'),'@between'('@And'('ArgY','ArgX'))))\",\n",
       "  ['SUBJ-ORGANIZATION was formed in OBJ-DATE'],\n",
       "  ['was formed in']],\n",
       " ['per:employee_of',\n",
       "  \"'@And'('@Is'('There','@AtMost'('@between'('@And'('ArgY','ArgX')),'@Num'('5','tokens'))),'@Is'('@Word'('spokesmanSPACEfor'),'@between'('@And'('ArgY','ArgX'))))\",\n",
       "  ['SUBJ-PERSON spokesman for OBJ-ORGANIZATION'],\n",
       "  ['spokesman for']],\n",
       " ['org:political/religious_affiliation',\n",
       "  \"'@And'('@Is'('@Word'('conservativeSPACEgroup'),'@between'('@And'('ArgY','ArgX'))),'@Is'('There','@AtMost'('@between'('@And'('ArgY','ArgX')),'@Num'('3','tokens'))))\",\n",
       "  ['OBJ-RELIGION conservative group SUBJ-ORGANIZATION'],\n",
       "  ['conservative group']],\n",
       " ['org:founded_by',\n",
       "  \"'@And'('@Is'('whoSPACEfounded','@between'('@And'('ArgY','ArgX'))),'@Is'('There','@AtMost'('@between'('@And'('ArgY','ArgX')),'@Num'('4','tokens'))))\",\n",
       "  ['OBJ-PERSON who founded SUBJ-ORGANIZATION'],\n",
       "  ['who founded']],\n",
       " ['per:date_of_death',\n",
       "  \"'@Is'('There','@WordCount'('@Num'('1','@Word'('died')),'@And'('ArgY','ArgX'),'@between'('@And'('ArgY','ArgX'))))\",\n",
       "  ['SUBJ-PERSON died OBJ-DATE'],\n",
       "  ['died']],\n",
       " ['per:siblings',\n",
       "  \"'@And'('@Is'('@Word'('brother'),'@between'('@And'('ArgY','ArgX'))),'@Is'('There','@AtMost'('@between'('@And'('ArgY','ArgX')),'@Num'('2','tokens'))))\",\n",
       "  ['SUBJ-PERSON brother OBJ-PERSON'],\n",
       "  ['brother']],\n",
       " ['org:top_members/employees',\n",
       "  \"'@Is'('There','@WordCount'('@Num'('1','head'),'@Word'('head'),'@between'('@And'('ArgY','ArgX'))))\",\n",
       "  ['SUBJ-ORGANIZATION head OBJ-PERSON'],\n",
       "  ['head']],\n",
       " ['per:date_of_death',\n",
       "  \"'@And'('@Is'('@Word'('whoSPACEdiedSPACEon'),'@between'('@And'('ArgY','ArgX'))),'@Is'('There','@AtMost'('@between'('@And'('ArgY','ArgX')),'@Num'('5','tokens'))))\",\n",
       "  ['SUBJ-PERSON who died on OBJ-DATE'],\n",
       "  ['who died on']],\n",
       " ['org:shareholders',\n",
       "  \"'@Is'('There','@WordCount'('@Num'('1','@Word'('owners')),'@And'('ArgY','ArgX'),'@between'('@And'('ArgY','ArgX'))))\",\n",
       "  ['SUBJ-ORGANIZATION owners OBJ-PERSON'],\n",
       "  ['owners']],\n",
       " ['org:top_members/employees',\n",
       "  \"'@And'('@Is'('viceSPACEpresidentSPACEof','@between'('@And'('ArgY','ArgX'))),'@Is'('There','@AtMost'('@between'('@And'('ArgY','ArgX')),'@Num'('5','tokens'))))\",\n",
       "  ['OBJ-PERSON vice president of SUBJ-ORGANIZATION'],\n",
       "  ['vice president of']],\n",
       " ['per:parents',\n",
       "  \"'@And'('@Is'('There','@AtMost'('@between'('@And'('ArgY','ArgX')),'@Num'('4','tokens'))),'@Is'('@Word'('@And'('ArgY','ArgX')),'@between'('@And'('ArgY','ArgX'))))\",\n",
       "  ['SUBJ-PERSON OBJ-PERSON'],\n",
       "  []],\n",
       " ['org:subsidiaries',\n",
       "  \"'@And'('@Is'('There','@AtMost'('@between'('@And'('ArgY','ArgX')),'@Num'('5','tokens'))),'@Is'('@Word'('unitSPACEof'),'@between'('@And'('ArgY','ArgX'))))\",\n",
       "  ['OBJ-ORGANIZATION unit of SUBJ-ORGANIZATION'],\n",
       "  ['unit of']],\n",
       " ['per:spouse',\n",
       "  \"'@And'('@Is'('There','@AtMost'('@between'('@And'('ArgY','ArgX')),'@Num'('6','tokens'))),'@Is'('@Word'(''sSPACEwife'),'@between'('@And'('ArgY','ArgX'))))\",\n",
       "  [\"SUBJ-PERSON 's wife OBJ-PERSON\"],\n",
       "  [\"'s wife\"]],\n",
       " ['org:subsidiaries',\n",
       "  \"'@Is'('There','@WordCount'('@Num'('1','@Word'('owns')),'@And'('ArgY','ArgX'),'@between'('@And'('ArgY','ArgX'))))\",\n",
       "  ['SUBJ-ORGANIZATION owns OBJ-ORGANIZATION'],\n",
       "  ['owns']],\n",
       " ['org:political/religious_affiliation',\n",
       "  \"'@And'('@Is'('@Word'('politicalSPACEactivistSPACEgroup'),'@between'('@And'('ArgY','ArgX'))),'@Is'('There','@AtMost'('@between'('@And'('ArgY','ArgX')),'@Num'('4','tokens'))))\",\n",
       "  ['OBJ-RELIGION political activist group SUBJ-ORGANIZATION'],\n",
       "  ['political activist group']],\n",
       " ['per:alternate_names',\n",
       "  \"'@And'('@Is'('There','@AtMost'('@between'('@And'('ArgY','ArgX')),'@Num'('4','tokens'))),'@Is'('@Word'('wasSPACEnicknamedSPACE``'),'@between'('@And'('ArgY','ArgX'))))\",\n",
       "  ['SUBJ-PERSON was nicknamed `` OBJ-PERSON'],\n",
       "  ['was nicknamed ``']],\n",
       " ['org:parents',\n",
       "  \"'@And'('@Is'('There','@AtMost'('@between'('@And'('ArgY','ArgX')),'@Num'('5','tokens'))),'@Is'('@Word'('partSPACEof'),'@between'('@And'('ArgY','ArgX'))))\",\n",
       "  ['SUBJ-ORGANIZATION part of OBJ-ORGANIZATION'],\n",
       "  ['part of']],\n",
       " ['per:city_of_death',\n",
       "  \"'@And'('@Is'('There','@AtMost'('@between'('@And'('ArgY','ArgX')),'@Num'('3','tokens'))),'@Is'('@Word'('diesSPACEin'),'@between'('@And'('ArgY','ArgX'))))\",\n",
       "  ['SUBJ-PERSON dies in OBJ-CITY'],\n",
       "  ['dies in']],\n",
       " ['org:founded_by',\n",
       "  \"'@And'('@Is'('There','@AtMost'('@between'('@And'('ArgY','ArgX')),'@Num'('5','tokens'))),'@Is'('@Word'('founderSPACEof'),'@between'('@And'('ArgY','ArgX'))))\",\n",
       "  ['OBJ-PERSON founder of SUBJ-ORGANIZATION'],\n",
       "  ['founder of']],\n",
       " ['org:top_members/employees',\n",
       "  \"'@And'('@Is'('There','@AtMost'('@between'('@And'('ArgY','ArgX')),'@Num'('3','tokens'))),'@Is'('@Word'('viceSPACEpresident'),'@between'('@And'('ArgY','ArgX'))))\",\n",
       "  ['SUBJ-ORGANIZATION vice president OBJ-PERSON'],\n",
       "  ['vice president']],\n",
       " ['per:cause_of_death',\n",
       "  \"'@And'('@Is'('There','@AtMost'('@between'('@And'('ArgY','ArgX')),'@Num'('3','tokens'))),'@Is'('@Word'('diedSPACEin'),'@between'('@And'('ArgY','ArgX'))))\",\n",
       "  ['SUBJ-PERSON died in OBJ-CAUSE_OF_DEATH'],\n",
       "  ['died in']],\n",
       " ['per:children',\n",
       "  \"'@And'('@Is'('There','@AtMost'('@between'('@And'('ArgY','ArgX')),'@Num'('3','tokens'))),'@Is'('@Word'(''sSPACEson'),'@between'('@And'('ArgY','ArgX'))))\",\n",
       "  [\"SUBJ-PERSON 's son OBJ-PERSON\"],\n",
       "  [\"'s son\"]],\n",
       " ['org:political/religious_affiliation',\n",
       "  \"'@And'('@Is'('@Word'('rebelSPACEgroup'),'@between'('@And'('ArgY','ArgX'))),'@Is'('There','@AtMost'('@between'('@And'('ArgY','ArgX')),'@Num'('4','tokens'))))\",\n",
       "  ['OBJ-RELIGION rebel group SUBJ-ORGANIZATION'],\n",
       "  ['rebel group']],\n",
       " ['per:date_of_death',\n",
       "  \"'@And'('@Is'('diedSPACEatSPACEherSPACEhome','@between'('@And'('ArgY','ArgX'))),'@Is'('There','@AtMost'('@between'('@And'('ArgY','ArgX')),'@Num'('5','tokens'))))\",\n",
       "  ['SUBJ-PERSON died at her home OBJ-DATE'],\n",
       "  ['died at her home']],\n",
       " ['per:children',\n",
       "  \"'@And'('@Is'('There','@AtMost'('@between'('@And'('ArgY','ArgX')),'@Num'('4','tokens'))),'@Is'(''sSPACEsonCOMMA4inCOMMA4law','@between'('@And'('ArgY','ArgX'))))\",\n",
       "  [\"OBJ-PERSON 's son-in-law SUBJ-PERSON\"],\n",
       "  [\"'s son-in-law\"]],\n",
       " ['per:parents',\n",
       "  \"'@And'('@Is'('There','@AtMost'('@between'('@And'('ArgY','ArgX')),'@Num'('5','tokens'))),'@Is'('daughterSPACEof','@between'('@And'('ArgY','ArgX'))))\",\n",
       "  ['SUBJ-PERSON daughter of OBJ-PERSON'],\n",
       "  ['daughter of']],\n",
       " ['org:shareholders',\n",
       "  \"'@And'('@Is'('@Word'('majorSPACEshareholder'),'@between'('@And'('ArgY','ArgX'))),'@Is'('There','@AtMost'('@between'('@And'('ArgY','ArgX')),'@Num'('3','tokens'))))\",\n",
       "  ['SUBJ-ORGANIZATION major shareholder OBJ-PERSON'],\n",
       "  ['major shareholder']],\n",
       " ['org:shareholders',\n",
       "  \"'@And'('@Is'('There','@AtMost'('@between'('@And'('ArgY','ArgX')),'@Num'('4','tokens'))),'@Is'('ownerSPACEof','@between'('@And'('ArgY','ArgX'))))\",\n",
       "  ['OBJ-PERSON owner of SUBJ-ORGANIZATION'],\n",
       "  ['owner of']],\n",
       " ['org:founded',\n",
       "  \"'@And'('@Is'('There','@AtMost'('@between'('@And'('ArgY','ArgX')),'@Num'('4','tokens'))),'@Is'('@Word'('wasSPACEfoundedSPACEin'),'@between'('@And'('ArgY','ArgX'))))\",\n",
       "  ['SUBJ-ORGANIZATION was founded in OBJ-DATE'],\n",
       "  ['was founded in']],\n",
       " ['per:charges',\n",
       "  \"'@And'('@Is'('There','@AtMost'('@between'('@And'('ArgY','ArgX')),'@Num'('4','tokens'))),'@Is'('@Word'('wasSPACEconvictedSPACEof'),'@between'('@And'('ArgY','ArgX'))))\",\n",
       "  ['SUBJ-PERSON was convicted of OBJ-CRIMINAL_CHARGE'],\n",
       "  ['was convicted of']],\n",
       " ['per:cause_of_death',\n",
       "  \"'@And'('@Is'('There','@AtMost'('@between'('@And'('ArgY','ArgX')),'@Num'('5','tokens'))),'@Is'('hasSPACEdiedSPACEof','@between'('@And'('ArgY','ArgX'))))\",\n",
       "  ['SUBJ-PERSON has died of OBJ-CAUSE_OF_DEATH'],\n",
       "  ['has died of']],\n",
       " ['per:charges',\n",
       "  \"'@And'('@Is'('There','@AtMost'('@between'('@And'('ArgY','ArgX')),'@Num'('3','tokens'))),'@Is'('@Word'('convictedSPACEof'),'@between'('@And'('ArgY','ArgX'))))\",\n",
       "  ['SUBJ-PERSON convicted of OBJ-CRIMINAL_CHARGE'],\n",
       "  ['convicted of']],\n",
       " ['org:top_members/employees',\n",
       "  \"'@And'('@Is'('chiefSPACEexecutiveSPACEof','@between'('@And'('ArgY','ArgX'))),'@Is'('There','@AtMost'('@between'('@And'('ArgY','ArgX')),'@Num'('5','tokens'))))\",\n",
       "  ['OBJ-PERSON chief executive of SUBJ-ORGANIZATION'],\n",
       "  ['chief executive of']],\n",
       " ['org:top_members/employees',\n",
       "  \"'@And'('@Is'('There','@AtMost'('@between'('@And'('ArgY','ArgX')),'@Num'('4','tokens'))),'@Is'('executiveSPACEviceSPACEpresident','@between'('@And'('ArgY','ArgX'))))\",\n",
       "  ['SUBJ-ORGANIZATION executive vice president OBJ-PERSON'],\n",
       "  ['executive vice president']],\n",
       " ['per:siblings',\n",
       "  \"'@And'('@Is'('There','@AtMost'('@between'('@And'('ArgY','ArgX')),'@Num'('2','tokens'))),'@Is'('@Word'('sister'),'@between'('@And'('ArgY','ArgX'))))\",\n",
       "  ['SUBJ-PERSON sister OBJ-PERSON'],\n",
       "  ['sister']],\n",
       " ['per:cities_of_residence',\n",
       "  \"'@And'('@Is'(''sSPACEhomeSPACEin','@between'('@And'('ArgY','ArgX'))),'@Is'('There','@AtMost'('@between'('@And'('ArgY','ArgX')),'@Num'('4','tokens'))))\",\n",
       "  [\"SUBJ-PERSON 's home in OBJ-CITY\"],\n",
       "  [\"'s home in\"]],\n",
       " ['org:subsidiaries',\n",
       "  \"'@And'('@Is'('divisionSPACEof','@between'('@And'('ArgY','ArgX'))),'@Is'('There','@AtMost'('@between'('@And'('ArgY','ArgX')),'@Num'('6','tokens'))))\",\n",
       "  ['OBJ-ORGANIZATION division of SUBJ-ORGANIZATION'],\n",
       "  ['division of']],\n",
       " ['org:alternate_names',\n",
       "  \"'@Is'('There','@WordCount'('@Num'('1','tokens'),'COMMA1','@between'('@And'('ArgY','ArgX'))))\",\n",
       "  ['OBJ-ORGANIZATION -LRB- SUBJ-ORGANIZATION'],\n",
       "  ['-LRB-']],\n",
       " ['org:political/religious_affiliation',\n",
       "  \"'@Is'('There','@WordCount'('@Num'('1','group'),'@Word'('group'),'@between'('@And'('ArgY','ArgX'))))\",\n",
       "  ['OBJ-RELIGION group SUBJ-ORGANIZATION'],\n",
       "  ['group']],\n",
       " ['per:stateorprovinces_of_residence',\n",
       "  \"'@And'('@Is'('There','@AtMost'('@between'('@And'('ArgY','ArgX')),'@Num'('4','tokens'))),'@Is'('@Word'('livedSPACEin'),'@between'('@And'('ArgY','ArgX'))))\",\n",
       "  ['SUBJ-PERSON lived in OBJ-STATE_OR_PROVINCE'],\n",
       "  ['lived in']],\n",
       " ['per:alternate_names',\n",
       "  \"'@And'('@Is'('There','@AtMost'('@between'('@And'('ArgY','ArgX')),'@Num'('4','tokens'))),'@Is'('wasSPACEknownSPACEfor','@between'('@And'('ArgY','ArgX'))))\",\n",
       "  ['SUBJ-PERSON was known for OBJ-PERSON'],\n",
       "  ['was known for']],\n",
       " ['org:top_members/employees',\n",
       "  \"'@And'('@Is'('directorSPACEof','@between'('@And'('ArgY','ArgX'))),'@Is'('There','@AtMost'('@between'('@And'('ArgY','ArgX')),'@Num'('4','tokens'))))\",\n",
       "  ['OBJ-PERSON director of SUBJ-ORGANIZATION'],\n",
       "  ['director of']],\n",
       " ['org:top_members/employees',\n",
       "  \"'@Is'('There','@WordCount'('@Num'('1','president'),'@Word'('president'),'@between'('@And'('ArgY','ArgX'))))\",\n",
       "  ['SUBJ-ORGANIZATION president OBJ-PERSON'],\n",
       "  ['president']],\n",
       " ['org:top_members/employees',\n",
       "  \"'@And'('@Is'('There','@AtMost'('@between'('@And'('ArgY','ArgX')),'@Num'('5','tokens'))),'@Is'('chiefSPACEeconomistSPACEat','@between'('@And'('ArgY','ArgX'))))\",\n",
       "  ['OBJ-PERSON chief economist at SUBJ-ORGANIZATION'],\n",
       "  ['chief economist at']],\n",
       " ['per:date_of_death',\n",
       "  \"'@And'('@Is'('There','@AtMost'('@between'('@And'('ArgY','ArgX')),'@Num'('5','tokens'))),'@Is'('@Word'('whoSPACEdiedSPACEin'),'@between'('@And'('ArgY','ArgX'))))\",\n",
       "  ['SUBJ-PERSON who died in OBJ-DATE'],\n",
       "  ['who died in']],\n",
       " ['per:stateorprovince_of_birth',\n",
       "  \"'@And'('@Is'('There','@AtMost'('@between'('@And'('ArgY','ArgX')),'@Num'('4','tokens'))),'@Is'('wasSPACEbornSPACEin','@between'('@And'('ArgY','ArgX'))))\",\n",
       "  ['SUBJ-PERSON was born in OBJ-STATE_OR_PROVINCE'],\n",
       "  ['was born in']],\n",
       " ['per:alternate_names',\n",
       "  \"'@And'('@Is'('There','@AtMost'('@between'('@And'('ArgY','ArgX')),'@Num'('6','tokens'))),'@Is'('whoSPACEhadSPACEknown','@between'('@And'('ArgY','ArgX'))))\",\n",
       "  ['OBJ-PERSON who had known SUBJ-PERSON'],\n",
       "  ['who had known']],\n",
       " ['org:top_members/employees',\n",
       "  \"'@And'('@Is'('There','@AtMost'('@between'('@And'('ArgY','ArgX')),'@Num'('3','tokens'))),'@Is'('@Word'('managingSPACEdirector'),'@between'('@And'('ArgY','ArgX'))))\",\n",
       "  ['SUBJ-ORGANIZATION managing director OBJ-PERSON'],\n",
       "  ['managing director']],\n",
       " ['per:date_of_birth',\n",
       "  \"'@And'('@Is'('There','@AtMost'('@between'('@And'('ArgY','ArgX')),'@Num'('2','tokens'))),'@Is'('@Word'('birthday'),'@between'('@And'('ArgY','ArgX'))))\",\n",
       "  ['SUBJ-PERSON birthday OBJ-DATE'],\n",
       "  ['birthday']],\n",
       " ['per:employee_of',\n",
       "  \"'@And'('@Is'('nowSPACEworksSPACEat','@between'('@And'('ArgY','ArgX'))),'@Is'('There','@AtMost'('@between'('@And'('ArgY','ArgX')),'@Num'('4','tokens'))))\",\n",
       "  ['SUBJ-PERSON now works at OBJ-ORGANIZATION'],\n",
       "  ['now works at']],\n",
       " ['org:founded',\n",
       "  \"'@And'('@Is'('establishedSPACEin','@between'('@And'('ArgY','ArgX'))),'@Is'('There','@AtMost'('@between'('@And'('ArgY','ArgX')),'@Num'('6','tokens'))))\",\n",
       "  ['SUBJ-ORGANIZATION established in OBJ-DATE'],\n",
       "  ['established in']],\n",
       " ['org:founded_by',\n",
       "  \"'@And'('@Is'('There','@AtMost'('@between'('@And'('ArgY','ArgX')),'@Num'('5','tokens'))),'@Is'('@Word'('wasSPACEestablishedSPACEby'),'@between'('@And'('ArgY','ArgX'))))\",\n",
       "  ['SUBJ-ORGANIZATION was established by OBJ-PERSON'],\n",
       "  ['was established by']],\n",
       " ['org:top_members/employees',\n",
       "  \"'@And'('@Is'('There','@AtMost'('@between'('@And'('ArgY','ArgX')),'@Num'('4','tokens'))),'@Is'('@Word'('chiefSPACEexecutive'),'@between'('@And'('ArgY','ArgX'))))\",\n",
       "  ['SUBJ-ORGANIZATION chief executive OBJ-PERSON'],\n",
       "  ['chief executive']],\n",
       " ['per:cause_of_death',\n",
       "  \"'@And'('@Is'('diedSPACEfrom','@between'('@And'('ArgY','ArgX'))),'@Is'('There','@AtMost'('@between'('@And'('ArgY','ArgX')),'@Num'('3','tokens'))))\",\n",
       "  ['SUBJ-PERSON died from OBJ-CAUSE_OF_DEATH'],\n",
       "  ['died from']],\n",
       " ['per:stateorprovince_of_birth',\n",
       "  \"'@And'('@Is'('There','@AtMost'('@between'('@And'('ArgY','ArgX')),'@Num'('3','tokens'))),'@Is'('@Word'('nativeSPACECOMMA2'),'@between'('@And'('ArgY','ArgX'))))\",\n",
       "  ['OBJ-STATE_OR_PROVINCE native -RRB- SUBJ-PERSON'],\n",
       "  ['native -RRB-']],\n",
       " ['per:date_of_death',\n",
       "  \"'@And'('@Is'('There','@AtMost'('@between'('@And'('ArgY','ArgX')),'@Num'('5','tokens'))),'@Is'('whoSPACEdied','@between'('@And'('ArgY','ArgX'))))\",\n",
       "  ['SUBJ-PERSON who died OBJ-DATE'],\n",
       "  ['who died']],\n",
       " ['org:top_members/employees',\n",
       "  \"'@And'('@Is'('There','@AtMost'('@between'('@And'('ArgY','ArgX')),'@Num'('4','tokens'))),'@Is'('seniorSPACEviceSPACEpresident','@between'('@And'('ArgY','ArgX'))))\",\n",
       "  ['SUBJ-ORGANIZATION senior vice president OBJ-PERSON'],\n",
       "  ['senior vice president']],\n",
       " ['per:cause_of_death',\n",
       "  \"'@And'('@Is'('diedSPACEof','@between'('@And'('ArgY','ArgX'))),'@Is'('There','@AtMost'('@between'('@And'('ArgY','ArgX')),'@Num'('3','tokens'))))\",\n",
       "  ['SUBJ-PERSON died of OBJ-CAUSE_OF_DEATH'],\n",
       "  ['died of']],\n",
       " ['per:employee_of',\n",
       "  \"'@And'('@Is'('There','@AtMost'('@between'('@And'('ArgY','ArgX')),'@Num'('4','tokens'))),'@Is'('onceSPACEworkedSPACEfor','@between'('@And'('ArgY','ArgX'))))\",\n",
       "  ['SUBJ-PERSON once worked for OBJ-ORGANIZATION'],\n",
       "  ['once worked for']],\n",
       " ['per:spouse',\n",
       "  \"'@And'('@Is'('There','@AtMost'('@between'('@And'('ArgY','ArgX')),'@Num'('5','tokens'))),'@Is'('@Word'('andSPACEherSPACEhusband'),'@between'('@And'('ArgY','ArgX'))))\",\n",
       "  ['OBJ-PERSON and her husband SUBJ-PERSON'],\n",
       "  ['and her husband']],\n",
       " ['org:city_of_headquarters',\n",
       "  \"'@And'('@Is'('There','@AtMost'('@between'('@And'('ArgY','ArgX')),'@Num'('4','tokens'))),'@Is'('@Word'('basedSPACEin'),'@between'('@And'('ArgY','ArgX'))))\",\n",
       "  ['SUBJ-ORGANIZATION based in OBJ-CITY'],\n",
       "  ['based in']],\n",
       " ['per:employee_of',\n",
       "  \"'@Is'('There','@WordCount'('@Num'('1','@Word'('coach')),'@And'('ArgY','ArgX'),'@between'('@And'('ArgY','ArgX'))))\",\n",
       "  ['OBJ-ORGANIZATION coach SUBJ-PERSON'],\n",
       "  ['coach']],\n",
       " ['per:spouse',\n",
       "  \"'@And'('@Is'('firstSPACEwife','@between'('@And'('ArgY','ArgX'))),'@Is'('There','@AtMost'('@between'('@And'('ArgY','ArgX')),'@Num'('6','tokens'))))\",\n",
       "  ['SUBJ-PERSON first wife OBJ-PERSON'],\n",
       "  ['first wife']],\n",
       " ['org:member_of',\n",
       "  \"'@Is'('There','@WordCount'('@Num'('1','tokens'),'joined','@between'('@And'('ArgY','ArgX'))))\",\n",
       "  ['SUBJ-ORGANIZATION joined OBJ-ORGANIZATION'],\n",
       "  ['joined']],\n",
       " ['org:top_members/employees',\n",
       "  \"'@And'('@Is'('There','@AtMost'('@between'('@And'('ArgY','ArgX')),'@Num'('5','tokens'))),'@Is'('@Word'('chairmanSPACEof'),'@between'('@And'('ArgY','ArgX'))))\",\n",
       "  ['OBJ-PERSON chairman of SUBJ-ORGANIZATION'],\n",
       "  ['chairman of']],\n",
       " ['org:top_members/employees',\n",
       "  \"'@And'('@Is'('chiefSPACEeconomistSPACEfor','@between'('@And'('ArgY','ArgX'))),'@Is'('There','@AtMost'('@between'('@And'('ArgY','ArgX')),'@Num'('6','tokens'))))\",\n",
       "  ['OBJ-PERSON chief economist for SUBJ-ORGANIZATION'],\n",
       "  ['chief economist for']],\n",
       " ['per:date_of_birth',\n",
       "  \"'@And'('@Is'('There','@AtMost'('@between'('@And'('ArgY','ArgX')),'@Num'('4','tokens'))),'@Is'('@Word'('bornSPACEon'),'@between'('@And'('ArgY','ArgX'))))\",\n",
       "  ['SUBJ-PERSON born on OBJ-DATE'],\n",
       "  ['born on']],\n",
       " ['org:top_members/employees',\n",
       "  \"'@And'('@Is'('There','@AtMost'('@between'('@And'('ArgY','ArgX')),'@Num'('6','tokens'))),'@Is'('@Word'('leaderSPACEof'),'@between'('@And'('ArgY','ArgX'))))\",\n",
       "  ['OBJ-PERSON leader of SUBJ-ORGANIZATION'],\n",
       "  ['leader of']],\n",
       " ['org:founded',\n",
       "  \"'@And'('@Is'('There','@AtMost'('@between'('@And'('ArgY','ArgX')),'@Num'('4','tokens'))),'@Is'('formedSPACEonly','@between'('@And'('ArgY','ArgX'))))\",\n",
       "  ['SUBJ-ORGANIZATION formed only OBJ-DATE'],\n",
       "  ['formed only']],\n",
       " ['org:founded_by',\n",
       "  \"'@And'('@Is'('There','@AtMost'('@between'('@And'('ArgY','ArgX')),'@Num'('4','tokens'))),'@Is'('foundedSPACEby','@between'('@And'('ArgY','ArgX'))))\",\n",
       "  ['SUBJ-ORGANIZATION founded by OBJ-PERSON'],\n",
       "  ['founded by']],\n",
       " ['org:founded_by',\n",
       "  \"'@And'('@Is'('There','@AtMost'('@between'('@And'('ArgY','ArgX')),'@Num'('4','tokens'))),'@Is'('@Word'('coCOMMA4founderSPACEof'),'@between'('@And'('ArgY','ArgX'))))\",\n",
       "  ['OBJ-PERSON co-founder of SUBJ-ORGANIZATION'],\n",
       "  ['co-founder of']],\n",
       " ['org:top_members/employees',\n",
       "  \"'@And'('@Is'('There','@AtMost'('@between'('@And'('ArgY','ArgX')),'@Num'('5','tokens'))),'@Is'('chiefSPACEeconomistSPACEof','@between'('@And'('ArgY','ArgX'))))\",\n",
       "  ['OBJ-PERSON chief economist of SUBJ-ORGANIZATION'],\n",
       "  ['chief economist of']],\n",
       " ['per:spouse',\n",
       "  \"'@And'('@Is'('There','@AtMost'('@between'('@And'('ArgY','ArgX')),'@Num'('5','tokens'))),'@Is'('andSPACEhisSPACEwife','@between'('@And'('ArgY','ArgX'))))\",\n",
       "  ['SUBJ-PERSON and his wife OBJ-PERSON'],\n",
       "  ['and his wife']],\n",
       " ['per:cities_of_residence',\n",
       "  \"'@And'('@Is'('There','@AtMost'('@between'('@And'('ArgY','ArgX')),'@Num'('5','tokens'))),'@Is'('@Word'('familySPACEmovedSPACEto'),'@between'('@And'('ArgY','ArgX'))))\",\n",
       "  ['SUBJ-PERSON family moved to OBJ-CITY'],\n",
       "  ['family moved to']],\n",
       " ['per:title',\n",
       "  \"'@And'('@Is'('wasSPACEappointed','@between'('@And'('ArgY','ArgX'))),'@Is'('There','@AtMost'('@between'('@And'('ArgY','ArgX')),'@Num'('3','tokens'))))\",\n",
       "  ['SUBJ-PERSON was appointed OBJ-TITLE'],\n",
       "  ['was appointed']],\n",
       " ['per:siblings',\n",
       "  \"'@And'('@Is'('There','@AtMost'('@between'('@And'('ArgY','ArgX')),'@Num'('4','tokens'))),'@Is'(''sSPACEsisterCOMMA4inCOMMA4law','@between'('@And'('ArgY','ArgX'))))\",\n",
       "  [\"SUBJ-PERSON 's sister-in-law OBJ-PERSON\"],\n",
       "  [\"'s sister-in-law\"]],\n",
       " ['org:top_members/employees',\n",
       "  \"'@Is'('There','@WordCount'('@Num'('1','@Word'('director')),'@And'('ArgY','ArgX'),'@between'('@And'('ArgY','ArgX'))))\",\n",
       "  ['SUBJ-ORGANIZATION director OBJ-PERSON'],\n",
       "  ['director']],\n",
       " ['org:founded',\n",
       "  \"'@And'('@Is'('There','@AtMost'('@between'('@And'('ArgY','ArgX')),'@Num'('4','tokens'))),'@Is'('wasSPACEestablishedSPACEin','@between'('@And'('ArgY','ArgX'))))\",\n",
       "  ['SUBJ-ORGANIZATION was established in OBJ-DATE'],\n",
       "  ['was established in']],\n",
       " ['per:spouse',\n",
       "  \"'@And'('@Is'('@Word'('isSPACEmarriedSPACEto'),'@between'('@And'('ArgY','ArgX'))),'@Is'('There','@AtMost'('@between'('@And'('ArgY','ArgX')),'@Num'('4','tokens'))))\",\n",
       "  ['SUBJ-PERSON is married to OBJ-PERSON'],\n",
       "  ['is married to']],\n",
       " ['per:cities_of_residence',\n",
       "  \"'@And'('@Is'('@Word'('hometownSPACEof'),'@between'('@And'('ArgY','ArgX'))),'@Is'('There','@AtMost'('@between'('@And'('ArgY','ArgX')),'@Num'('3','tokens'))))\",\n",
       "  ['SUBJ-PERSON hometown of OBJ-CITY'],\n",
       "  ['hometown of']],\n",
       " ['per:alternate_names',\n",
       "  \"'@And'('@Is'('There','@AtMost'('@between'('@And'('ArgY','ArgX')),'@Num'('6','tokens'))),'@Is'('@Word'('commonlySPACEknownSPACEas'),'@between'('@And'('ArgY','ArgX'))))\",\n",
       "  ['OBJ-PERSON commonly known as SUBJ-PERSON'],\n",
       "  ['commonly known as']],\n",
       " ['per:date_of_birth',\n",
       "  \"'@And'('@Is'('@Word'('wasSPACEbornSPACEon'),'@between'('@And'('ArgY','ArgX'))),'@Is'('There','@AtMost'('@between'('@And'('ArgY','ArgX')),'@Num'('5','tokens'))))\",\n",
       "  ['SUBJ-PERSON was born on OBJ-DATE'],\n",
       "  ['was born on']],\n",
       " ['per:title',\n",
       "  \"'@And'('@Is'('@Word'('as'),'@between'('@And'('ArgY','ArgX'))),'@Is'('There','@AtMost'('@between'('@And'('ArgY','ArgX')),'@Num'('2','tokens'))))\",\n",
       "  ['SUBJ-PERSON as OBJ-TITLE'],\n",
       "  ['as']],\n",
       " ['org:alternate_names',\n",
       "  \"'@And'('@Is'('There','@AtMost'('@between'('@And'('ArgY','ArgX')),'@Num'('4','tokens'))),'@Is'('COMMA1SPACEformer','@between'('@And'('ArgY','ArgX'))))\",\n",
       "  ['SUBJ-ORGANIZATION -LRB- former OBJ-ORGANIZATION'],\n",
       "  ['-LRB- former']],\n",
       " ['org:alternate_names',\n",
       "  \"'@And'('@Is'('There','@AtMost'('@between'('@And'('ArgY','ArgX')),'@Num'('4','tokens'))),'@Is'('thenSPACEcalled','@between'('@And'('ArgY','ArgX'))))\",\n",
       "  ['SUBJ-ORGANIZATION then called OBJ-ORGANIZATION'],\n",
       "  ['then called']],\n",
       " ['org:number_of_employees/members',\n",
       "  \"'@Is'('@Word'('employees'),'@Direct'('@Right0'('ArgY')))\",\n",
       "  ['SUBJ-ORGANIZATION OBJ-NUMBER employees'],\n",
       "  ['employees']],\n",
       " ['org:founded',\n",
       "  \"'@And'('@And'('@Is'('@Word'('in'),'@Direct'('@Left0'('ArgY'))),'@Is'('@Word'('in'),'@Direct'('@Right0'('ArgX')))),'@Is'('@Word'('founded'),'@Direct'('@Left0'('ArgX'))))\",\n",
       "  ['founded SUBJ-ORGANIZATION in OBJ-DATE'],\n",
       "  ['founded', 'in']],\n",
       " ['per:cause_of_death',\n",
       "  \"'@Is'('@Word'('COMMA0SPACEdiedSPACEfollowing'),'@Direct'('@Right0'('ArgX')))\",\n",
       "  ['SUBJ-PERSON , died following OBJ-CAUSE_OF_DEATH'],\n",
       "  [', died following']],\n",
       " ['org:founded',\n",
       "  \"'@And'('@Is'('@Word'('in'),'@Direct'('@Left0'('ArgY'))),'@Is'('@Word'('founded'),'@LessThan'('@Left0'('ArgX'),'@Num'('3','tokens'))))\",\n",
       "  ['founded SUBJ-ORGANIZATION OBJ-DATE'],\n",
       "  ['founded', 'in']],\n",
       " ['org:members',\n",
       "  \"'@Is'('@Word'('isSPACEownedSPACEby'),'@Direct'('@Left0'('ArgY')))\",\n",
       "  ['is owned by OBJ-ORGANIZATION SUBJ-ORGANIZATION'],\n",
       "  ['is owned by']],\n",
       " ['org:shareholders',\n",
       "  \"'@Is'('@Word'('shares'),'@Direct'('@Right0'('ArgX')))\",\n",
       "  ['SUBJ-ORGANIZATION shares OBJ-PERSON'],\n",
       "  ['shares']],\n",
       " ['org:website',\n",
       "  \"'@Is'('@Word'('pleaseSPACEvisit'),'@Direct'('@Left0'('ArgY')))\",\n",
       "  ['SUBJ-ORGANIZATION please visit OBJ-URL'],\n",
       "  ['please visit']],\n",
       " ['per:cities_of_residence',\n",
       "  \"'@Is'('@Word'('hadSPACEaSPACEhomeSPACEin'),'@Direct'('@Left0'('ArgY')))\",\n",
       "  ['SUBJ-PERSON had a home in OBJ-CITY'],\n",
       "  ['had a home in']],\n",
       " ['org:members',\n",
       "  \"'@Is'('@Word'('membersSPACEare'),'@Direct'('@Right0'('ArgX')))\",\n",
       "  ['SUBJ-ORGANIZATION members are OBJ-ORGANIZATION'],\n",
       "  ['members are']],\n",
       " ['per:date_of_birth',\n",
       "  \"'@Is'('@Word'('BornSPACEon'),'@Direct'('@Left0'('ArgY')))\",\n",
       "  ['Born on OBJ-DATE SUBJ-PERSON'],\n",
       "  ['Born on']],\n",
       " ['per:origin',\n",
       "  \"'@And'('@Is'('@Word'('citizen'),'@Direct'('@Right0'('ArgY'))),'@Is'('@Word'('isSPACEa'),'@Direct'('@Left0'('ArgY'))))\",\n",
       "  ['SUBJ-PERSON is a OBJ-NATIONALITY citizen'],\n",
       "  ['is a', 'citizen']],\n",
       " ['per:age',\n",
       "  \"'@Is'('@Word'('DiesSPACEat'),'@Direct'('@Left0'('ArgY')))\",\n",
       "  ['SUBJ-PERSON Dies at OBJ-NUMBER'],\n",
       "  ['Dies at']],\n",
       " ['per:stateorprovinces_of_residence',\n",
       "  \"'@And'('@Is'('in','@Direct'('@Left0'('ArgY'))),'@Is'('@Word'('settling'),'@AtMost'('@Left0'('ArgY'),'@Num'('5','tokens'))))\",\n",
       "  ['SUBJ-PERSON settling in OBJ-STATE_OR_PROVINCE'],\n",
       "  ['settling', 'in']],\n",
       " ['per:date_of_birth',\n",
       "  \"'@Is'('gaveSPACEbirthSPACEin','@Direct'('@Left0'('ArgY')))\",\n",
       "  ['SUBJ-PERSON gave birth in OBJ-DATE'],\n",
       "  ['gave birth in']],\n",
       " ['org:shareholders',\n",
       "  \"'@And'('@Is'('stakes','@AtMost'('@Left0'('ArgX'),'@Num'('5','tokens'))),'@Is'('@Word'('investors'),'@Left0'('ArgX')))\",\n",
       "  ['investors stakes SUBJ-ORGANIZATION OBJ-PERSON'],\n",
       "  ['investors', 'stakes']],\n",
       " ['per:alternate_names',\n",
       "  \"'@Is'('realSPACEnameSPACEis','@Direct'('@Left0'('ArgY')))\",\n",
       "  ['SUBJ-PERSON real name is OBJ-PERSON'],\n",
       "  ['real name is']],\n",
       " ['per:stateorprovince_of_birth',\n",
       "  \"'@Is'('raisedSPACEin','@Direct'('@Left0'('ArgY')))\",\n",
       "  ['raised in OBJ-STATE_OR_PROVINCE SUBJ-PERSON'],\n",
       "  ['raised in']],\n",
       " ['per:cities_of_residence',\n",
       "  \"'@Is'('@Word'('livingSPACEin'),'@Direct'('@Left0'('ArgY')))\",\n",
       "  ['SUBJ-PERSON living in OBJ-CITY'],\n",
       "  ['living in']],\n",
       " ['org:city_of_headquarters',\n",
       "  \"'@Is'(''sSPACEheadquartersSPACEin','@Direct'('@Left0'('ArgY')))\",\n",
       "  [\"SUBJ-ORGANIZATION 's headquarters in OBJ-CITY\"],\n",
       "  [\"'s headquarters in\"]],\n",
       " ['per:cause_of_death',\n",
       "  \"'@Is'('diedSPACEin','@AtMost'('@Left0'('ArgY'),'@Num'('3','tokens')))\",\n",
       "  ['SUBJ-PERSON died in OBJ-CAUSE_OF_DEATH'],\n",
       "  ['died in']],\n",
       " ['org:political/religious_affiliation',\n",
       "  \"'@Is'('@Word'('party'),'@Direct'('@Right0'('ArgY')))\",\n",
       "  ['SUBJ-ORGANIZATION OBJ-RELIGION party'],\n",
       "  ['party']],\n",
       " ['per:stateorprovinces_of_residence',\n",
       "  \"'@And'('@Is'('in','@Direct'('@Left0'('ArgY'))),'@Is'('@Word'('settling'),'@AtMost'('@Left0'('ArgY'),'@Num'('5','tokens'))))\",\n",
       "  ['SUBJ-PERSON settling in OBJ-STATE_OR_PROVINCE'],\n",
       "  ['settling', 'in']],\n",
       " ['org:founded',\n",
       "  \"'@Is'('@Word'('foundedSPACEin'),'@Direct'('@Left0'('ArgY')))\",\n",
       "  ['SUBJ-ORGANIZATION founded in OBJ-DATE'],\n",
       "  ['founded in']],\n",
       " ['org:political/religious_affiliation',\n",
       "  \"'@And'('@Is'('@Word'('separatist'),'@Direct'('@Right0'('ArgY'))),'@Is'('@Word'('Islamic'),'@Right0'('ArgY')))\",\n",
       "  ['SUBJ-ORGANIZATION OBJ-RELIGION Islamic'],\n",
       "  ['Islamic', 'separatist']],\n",
       " ['per:cause_of_death',\n",
       "  \"'@Is'('diedSPACEof','@Direct'('@Left0'('ArgY')))\",\n",
       "  ['SUBJ-PERSON died of OBJ-CAUSE_OF_DEATH'],\n",
       "  ['died of']],\n",
       " ['per:employee_of',\n",
       "  \"'@Is'('@Word'('arrivedSPACEasSPACEchairman'),'@Direct'('@Right0'('ArgY')))\",\n",
       "  ['OBJ-ORGANIZATION SUBJ-PERSON arrived as chairman'],\n",
       "  ['arrived as chairman']],\n",
       " ['per:spouse',\n",
       "  \"'@And'('@Is'('him','@AtMost'('@Range0'('ArgX'),'@Num'('3','tokens'))),'@Is'('@Word'('HisSPACEwife'),'@AtMost'('@Left0'('ArgY'),'@Num'('3','tokens'))))\",\n",
       "  ['His wife OBJ-PERSON him SUBJ-PERSON'],\n",
       "  ['His wife', 'him']],\n",
       " ['per:age',\n",
       "  \"'@And'('@Is'('is','@Direct'('@Left0'('ArgY'))),'@Is'('@Word'('yearSPACEold'),'@Right0'('ArgY')))\",\n",
       "  ['SUBJ-PERSON is OBJ-NUMBER'],\n",
       "  ['year old', 'is']],\n",
       " ['org:founded',\n",
       "  \"'@And'('@Is'('@Word'('in'),'@Direct'('@Left0'('ArgY'))),'@Is'('@Word'('setSPACEup'),'@AtMost'('@Left0'('ArgX'),'@Num'('4','tokens'))))\",\n",
       "  ['set up SUBJ-ORGANIZATION OBJ-DATE'],\n",
       "  ['set up', 'in']],\n",
       " ['per:cause_of_death',\n",
       "  \"'@Is'('@Word'('diedSPACEfrom'),'@Direct'('@Left0'('ArgY')))\",\n",
       "  ['SUBJ-PERSON died from OBJ-CAUSE_OF_DEATH'],\n",
       "  ['died from']],\n",
       " ['per:siblings',\n",
       "  \"'@Is'('@Word'('otherSPACEchildrenSPACECOMMA0'),'@Direct'('@Left0'('ArgX')))\",\n",
       "  ['OBJ-PERSON other children , SUBJ-PERSON'],\n",
       "  ['other children ,']],\n",
       " ['per:cities_of_residence',\n",
       "  \"'@Is'('@Word'('livingSPACEin'),'@Direct'('@Left0'('ArgY')))\",\n",
       "  ['living in OBJ-CITY SUBJ-PERSON'],\n",
       "  ['living in']],\n",
       " ['org:subsidiaries',\n",
       "  \"'@Is'('@Word'('acquired'),'@Direct'('@Left0'('ArgY')))\",\n",
       "  ['SUBJ-ORGANIZATION acquired OBJ-ORGANIZATION'],\n",
       "  ['acquired']],\n",
       " ['per:stateorprovinces_of_residence',\n",
       "  \"'@Is'('@Word'('movedSPACEto'),'@Direct'('@Left0'('ArgY')))\",\n",
       "  ['SUBJ-PERSON moved to OBJ-STATE_OR_PROVINCE'],\n",
       "  ['moved to']],\n",
       " ['per:other_family',\n",
       "  \"'@Is'('nephews','@Direct'('@Right0'('ArgX')))\",\n",
       "  ['SUBJ-PERSON nephews OBJ-PERSON'],\n",
       "  ['nephews']],\n",
       " ['org:city_of_headquarters',\n",
       "  \"'@Is'('@Word'('hometown'),'@AtMost'('@Left0'('ArgY'),'@Num'('2','tokens')))\",\n",
       "  ['SUBJ-ORGANIZATION hometown OBJ-CITY'],\n",
       "  ['hometown']],\n",
       " ['per:countries_of_residence',\n",
       "  \"'@Is'('@Word'('settledSPACEinSPACEthe'),'@Direct'('@Left0'('ArgX')))\",\n",
       "  ['settled in the OBJ-LOCATION SUBJ-PERSON'],\n",
       "  ['settled in the']],\n",
       " ['per:stateorprovinces_of_residence',\n",
       "  \"'@Is'('@Word'('whoSPACEcurrentlySPACElivesSPACEin'),'@Direct'('@Left0'('ArgY')))\",\n",
       "  ['SUBJ-PERSON who currently lives in OBJ-STATE_OR_PROVINCE'],\n",
       "  ['who currently lives in']],\n",
       " ['per:countries_of_residence',\n",
       "  \"'@And'('@Is'('asSPACEthe','@Direct'('@Left0'('ArgY'))),'@Is'('@Word'('ambassador'),'@Direct'('@Right0'('ArgY'))))\",\n",
       "  ['SUBJ-PERSON as the OBJ-COUNTRY ambassador'],\n",
       "  ['ambassador', 'as the']],\n",
       " ['per:cities_of_residence',\n",
       "  \"'@Is'('raisedSPACEin','@Direct'('@Left0'('ArgY')))\",\n",
       "  ['SUBJ-PERSON raised in OBJ-CITY'],\n",
       "  ['raised in']],\n",
       " ['org:political/religious_affiliation',\n",
       "  \"'@And'('@Is'('@Word'('militia'),'@Direct'('@Right0'('ArgY'))),'@Is'('@Word'('Shiite'),'@Right0'('ArgY')))\",\n",
       "  ['SUBJ-ORGANIZATION OBJ-RELIGION militia Shiite'],\n",
       "  ['Shiite', 'militia']],\n",
       " ['org:number_of_employees/members',\n",
       "  \"'@And'('@Is'('@Word'('staffSPACEmember'),'@Direct'('@Right0'('ArgY'))),'@Is'('@Word'('over'),'@Direct'('@Left0'('ArgY'))))\",\n",
       "  ['SUBJ-ORGANIZATION over OBJ-NUMBER'],\n",
       "  ['over', 'staff member']],\n",
       " ['org:top_members/employees',\n",
       "  \"'@Is'('@Word'('actingSPACEheadSPACEof'),'@AtMost'('@Right0'('ArgY'),'@Num'('4','tokens')))\",\n",
       "  ['OBJ-PERSON acting head of SUBJ-ORGANIZATION'],\n",
       "  ['acting head of']],\n",
       " ['org:founded',\n",
       "  \"'@And'('@Is'('@Word'('in'),'@Direct'('@Left0'('ArgY'))),'@Is'('@Word'('setSPACEup'),'@AtMost'('@Left0'('ArgX'),'@Num'('4','tokens'))))\",\n",
       "  ['set up SUBJ-ORGANIZATION OBJ-DATE'],\n",
       "  ['set up', 'in']],\n",
       " ['per:age',\n",
       "  \"'@Is'('@Word'('atSPACEtheSPACEageSPACEof'),'@Direct'('@Left0'('ArgY')))\",\n",
       "  ['OBJ-NUMBER SUBJ-PERSON'],\n",
       "  ['at the age of']],\n",
       " ['per:stateorprovinces_of_residence',\n",
       "  \"'@Is'('@Word'('atSPACEhomeSPACEin'),'@Direct'('@Left0'('ArgY')))\",\n",
       "  ['SUBJ-PERSON at home in OBJ-STATE_OR_PROVINCE'],\n",
       "  ['at home in']],\n",
       " ['org:members',\n",
       "  \"'@And'('@Is'('@Word'('ofSPACEthe'),'@Direct'('@Left0'('ArgX'))),'@Is'('@Word'('were'),'@Direct'('@Right0'('ArgX'))))\",\n",
       "  ['OBJ-ORGANIZATION of the SUBJ-ORGANIZATION were'],\n",
       "  ['were', 'of the']],\n",
       " ['org:subsidiaries',\n",
       "  \"'@And'('@Left'('ArgX','ArgY'),'@Is'('@Word'('theSPACEworkSPACEof'),'@Direct'('@Left0'('ArgX'))))\",\n",
       "  ['OBJ-ORGANIZATION the work of SUBJ-ORGANIZATION'],\n",
       "  ['the work of']],\n",
       " ['per:schools_attended',\n",
       "  \"'@Is'('@Word'('attended'),'@Direct'('@Left0'('ArgY')))\",\n",
       "  ['SUBJ-PERSON attended OBJ-ORGANIZATION'],\n",
       "  ['attended']],\n",
       " ['org:dissolved',\n",
       "  \"'@Is'('wasSPACEdissolved','@Direct'('@Right0'('ArgX')))\",\n",
       "  ['OBJ-DATE SUBJ-ORGANIZATION was dissolved'],\n",
       "  ['was dissolved']]]"
      ]
     },
     "execution_count": 35,
     "metadata": {},
     "output_type": "execute_result"
    }
   ],
   "source": [
    "explanations"
   ]
  },
  {
   "cell_type": "code",
   "execution_count": 78,
   "metadata": {},
   "outputs": [],
   "source": [
    "filtered_explanations = []\n",
    "for index in labeling_function_indicies:\n",
    "    filtered_explanations.append(explanations[index])"
   ]
  },
  {
   "cell_type": "code",
   "execution_count": 79,
   "metadata": {},
   "outputs": [],
   "source": [
    "with open(\"/home/rahul/filtered_explanations.json\", \"w\") as f:\n",
    "    json.dump(filtered_explanations, f)"
   ]
  },
  {
   "cell_type": "code",
   "execution_count": 29,
   "metadata": {},
   "outputs": [],
   "source": [
    "soft_scores = torch.cat([function_scores[key] for key in function_scores])"
   ]
  },
  {
   "cell_type": "code",
   "execution_count": 30,
   "metadata": {},
   "outputs": [
    {
     "data": {
      "text/plain": [
       "torch.Size([157, 65379])"
      ]
     },
     "execution_count": 30,
     "metadata": {},
     "output_type": "execute_result"
    }
   ],
   "source": [
    "soft_scores.shape"
   ]
  },
  {
   "cell_type": "code",
   "execution_count": 31,
   "metadata": {},
   "outputs": [],
   "source": [
    "with open(\"/home/rahul/soft_match_scores.p\", \"wb\") as f:\n",
    "    pickle.dump(soft_scores, f)"
   ]
  },
  {
   "cell_type": "code",
   "execution_count": 74,
   "metadata": {},
   "outputs": [],
   "source": [
    "with open(\"/home/rahul/tacred_explanation_labels.p\", \"wb\") as f:\n",
    "    pickle.dump(labels, f)"
   ]
  },
  {
   "cell_type": "code",
   "execution_count": 75,
   "metadata": {},
   "outputs": [],
   "source": [
    "with open(\"/home/rahul/matched_data_indicies.p\", \"wb\") as f:\n",
    "    pickle.dump(matched_data_indicies, f)"
   ]
  },
  {
   "cell_type": "code",
   "execution_count": 76,
   "metadata": {},
   "outputs": [],
   "source": [
    "with open(\"/home/rahul/unmatched_data_indicies.p\", \"wb\") as f:\n",
    "    pickle.dump(soft_matched_indicies, f)"
   ]
  },
  {
   "cell_type": "code",
   "execution_count": 102,
   "metadata": {},
   "outputs": [],
   "source": [
    "with open(\"../../../ziqi/NExT/tacred_labeled.json\") as f:\n",
    "    ziqi_index = json.load(f)"
   ]
  },
  {
   "cell_type": "code",
   "execution_count": 33,
   "metadata": {},
   "outputs": [],
   "source": [
    "with open(\"/home/rahul/word2idx.p\".format(save_string), \"wb\") as f:\n",
    "    pickle.dump(quoted_words_to_index, f)"
   ]
  },
  {
   "cell_type": "code",
   "execution_count": 103,
   "metadata": {},
   "outputs": [
    {
     "data": {
      "text/plain": [
       "[29, 'per:title']"
      ]
     },
     "execution_count": 103,
     "metadata": {},
     "output_type": "execute_result"
    }
   ],
   "source": [
    "ziqi_index[0]"
   ]
  },
  {
   "cell_type": "code",
   "execution_count": 104,
   "metadata": {},
   "outputs": [],
   "source": [
    "ziqi_index = [pair[0] for pair in ziqi_index]\n",
    "missing_indicies = []\n",
    "only_mine = []\n",
    "for index in ziqi_index:\n",
    "    if index not in matched_data_indicies:\n",
    "        missing_indicies.append(index)\n",
    "\n",
    "for index in matched_data_indicies:\n",
    "    if index not in ziqi_index:\n",
    "        only_mine.append(index)"
   ]
  },
  {
   "cell_type": "code",
   "execution_count": 105,
   "metadata": {},
   "outputs": [
    {
     "data": {
      "text/plain": [
       "[19939, 22241, 24242, 25205, 26266, 33536, 36371, 42365, 52615, 54521, 60836]"
      ]
     },
     "execution_count": 105,
     "metadata": {},
     "output_type": "execute_result"
    }
   ],
   "source": [
    "missing_indicies"
   ]
  },
  {
   "cell_type": "code",
   "execution_count": 106,
   "metadata": {},
   "outputs": [
    {
     "data": {
      "text/plain": [
       "[878,\n",
       " 1407,\n",
       " 2250,\n",
       " 2590,\n",
       " 6577,\n",
       " 6898,\n",
       " 7874,\n",
       " 9153,\n",
       " 10175,\n",
       " 10519,\n",
       " 16700,\n",
       " 18918,\n",
       " 19398,\n",
       " 21057,\n",
       " 21477,\n",
       " 22478,\n",
       " 24647,\n",
       " 24705,\n",
       " 34199,\n",
       " 37446,\n",
       " 38725,\n",
       " 40475,\n",
       " 49302,\n",
       " 50134,\n",
       " 53552,\n",
       " 54322,\n",
       " 56511,\n",
       " 61572,\n",
       " 64373,\n",
       " 64595,\n",
       " 64932]"
      ]
     },
     "execution_count": 106,
     "metadata": {},
     "output_type": "execute_result"
    }
   ],
   "source": [
    "only_mine"
   ]
  },
  {
   "cell_type": "code",
   "execution_count": 116,
   "metadata": {},
   "outputs": [],
   "source": [
    "filtered_raw_explanations = parser.filtered_raw_explanations"
   ]
  },
  {
   "cell_type": "code",
   "execution_count": 117,
   "metadata": {},
   "outputs": [
    {
     "data": {
      "text/plain": [
       "157"
      ]
     },
     "execution_count": 117,
     "metadata": {},
     "output_type": "execute_result"
    }
   ],
   "source": [
    "len(filtered_raw_explanations)"
   ]
  },
  {
   "cell_type": "code",
   "execution_count": 118,
   "metadata": {},
   "outputs": [],
   "source": [
    "# filtered_raw_explanations = list(filtered_raw_explanations.values())"
   ]
  },
  {
   "cell_type": "code",
   "execution_count": 129,
   "metadata": {},
   "outputs": [],
   "source": [
    "from training.util_functions import extract_queries_from_explanations, tokenize"
   ]
  },
  {
   "cell_type": "code",
   "execution_count": 132,
   "metadata": {},
   "outputs": [
    {
     "name": "stdout",
     "output_type": "stream",
     "text": [
      "('The phrase \"\\'s daughter\" links SUBJ and OBJ and there are no more than three words between SUBJ and OBJ', 1)\n",
      "('SUBJ and OBJ sandwich the phrase \"was born\" and there are no more than three words between SUBJ and OBJ', 2)\n",
      "('There are no more than five words between SUBJ and OBJ and \"as part of its\" appears between SUBJ and OBJ', 3)\n",
      "('Between SUBJ and OBJ the phrase \"who died of\" occurs and there are no more than five words between SUBJ and OBJ', 4)\n",
      "('Between SUBJ and OBJ the phrase \"is from\" appears and there are no more than four words between SUBJ and OBJ', 5)\n",
      "('The phrase \"\\'s grandmother\" occurs between SUBJ and OBJ and there are no more than four words between SUBJ and OBJ', 6)\n",
      "('The phrase \"is based in\" occurs between SUBJ and OBJ and there are no more than five words between SUBJ and OBJ', 7)\n",
      "('The term \"then known as\" occurs between SUBJ and OBJ and there are no more than six words between SUBJ and OBJ', 8)\n",
      "('SUBJ and OBJ sandwich the phrase \"\\'s mother\" and there are no more than three words between SUBJ and OBJ', 9)\n",
      "('There are no more than four words between SUBJ and OBJ and SUBJ and OBJ sandwich the phrase \"secretly married\"', 10)\n",
      "('Between SUBJ and OBJ the phrase \"cousin of\" occurs and there are no more than four words between SUBJ and OBJ', 11)\n",
      "('There are no more than four words between SUBJ and OBJ and the phrase \"\\'s father\" links SUBJ and OBJ', 12)\n",
      "('There are no more than three words between SUBJ and OBJ and \"\\'s founder\" links SUBJ and OBJ', 13)\n",
      "('There are no more than two words between SUBJ and OBJ and the word \"chairman\" occurs between SUBJ and OBJ', 14)\n",
      "('Between SUBJ and OBJ \"home in\" comes and there are no more than six words between SUBJ and OBJ', 15)\n",
      "('Between SUBJ and OBJ the phrase \"\\'s husband\" occurs and there are no more than five words between SUBJ and OBJ', 16)\n",
      "('\"website (\" occurs between SUBJ and OBJ and there are no more than five words between SUBJ and OBJ', 17)\n",
      "('Between SUBJ and OBJ the phrase \"\\'s headquarters in\" appears and there are no more than four words between SUBJ and OBJ', 18)\n",
      "('The term \"\\'s sister\" occurs between SUBJ and OBJ and there are no more than three words between SUBJ and OBJ', 19)\n",
      "('There are no more than two words between SUBJ and OBJ and the word \"\\'s\" occurs between SUBJ and OBJ', 20)\n",
      "('There are no more than three words between SUBJ and OBJ and the phrase \"( formerly\" links SUBJ and OBJ', 21)\n",
      "('SUBJ and OBJ sandwich \"was founded\" and there are no more than three words between SUBJ and OBJ', 22)\n",
      "('The phrase \"militant group\" occurs between SUBJ and OBJ and there are no more than three words between SUBJ and OBJ', 23)\n",
      "('Between SUBJ and OBJ \"\\'s real name was\" occurs and there are no more than five words between SUBJ and OBJ', 24)\n",
      "('\"work for\" occurs between SUBJ and OBJ and there are no more than three words between SUBJ and OBJ', 25)\n",
      "('There are no more than four words between SUBJ and OBJ and the phrase \"dies of\" links SUBJ and OBJ', 26)\n",
      "('There are no more than three words between SUBJ and OBJ and the phrase \"\\' s\" links SUBJ and OBJ', 27)\n",
      "('The word \"founder\" occurs between SUBJ and OBJ and there are no more than two words between SUBJ and OBJ', 28)\n",
      "('\"who heads\" occurs between SUBJ and OBJ and there are no more than five words between SUBJ and OBJ', 29)\n",
      "('Between SUBJ and OBJ the phrase \"president of\" appears and there are no more than four words between SUBJ and OBJ', 30)\n",
      "('Between SUBJ and OBJ the phrase \"( aka\" appears and there are no more than three words between SUBJ and OBJ', 31)\n",
      "('OBJ is right before SUBJ', 31)\n",
      "('\"is part of\" occurs between SUBJ and OBJ and there are no more than four words between SUBJ and OBJ', 32)\n",
      "('The phrase \"\\'s hometown of\" links SUBJ and OBJ and there are no more than four words between SUBJ and OBJ', 33)\n",
      "('The phrase \"was formed in\" occurs between SUBJ and OBJ and there are no more than four words between SUBJ and OBJ', 34)\n",
      "('The phrase \"spokesman for\" links SUBJ and OBJ and there are no more than five words between SUBJ and OBJ', 35)\n",
      "('There are no more than three words between SUBJ and OBJ and the phrase \"conservative group\" links SUBJ and OBJ', 36)\n",
      "('There are no more than four words between SUBJ and OBJ and \"who founded\" appears between SUBJ and OBJ', 37)\n",
      "('There is only one word \"died\" between SUBJ and OBJ', 38)\n",
      "('There are no more than two words between SUBJ and OBJ and the word \"brother\" occurs between SUBJ and OBJ', 39)\n",
      "('There is only one word \"head\" between SUBJ and OBJ', 40)\n",
      "('There are no more than five words between SUBJ and OBJ and the phrase \"who died on\" appears between SUBJ and OBJ', 41)\n",
      "('There is only one word \"owners\" between SUBJ and OBJ', 42)\n",
      "('There are no more than five words between SUBJ and OBJ and \"vice president of\" appears between SUBJ and OBJ', 43)\n",
      "('The phrase \"\\' mother\" links SUBJ and OBJ and there are no more than four words between SUBJ and OBJ', 44)\n",
      "('Between SUBJ and OBJ the phrase \"unit of\" appears and there are no more than five words between SUBJ and OBJ', 45)\n",
      "('The phrase \"\\'s wife\" occurs between SUBJ and OBJ and there are no more than six words between SUBJ and OBJ', 46)\n",
      "('There is only one word \"owns\" between SUBJ and OBJ', 47)\n",
      "('There are no more than four words between SUBJ and OBJ and the phrase \"political activist group\" links SUBJ and OBJ', 48)\n",
      "('The phrase \"was nicknamed ``\" occurs between SUBJ and OBJ and there are no more than four words between SUBJ and OBJ', 49)\n",
      "('The phrase \"part of\" occurs between SUBJ and OBJ and there are no more than five words between SUBJ and OBJ', 50)\n",
      "('The phrase \"dies in\" occurs between SUBJ and OBJ and there are no more than three words between SUBJ and OBJ', 51)\n",
      "('The term \"founder of\" occurs between SUBJ and OBJ and there are no more than five words between SUBJ and OBJ', 52)\n",
      "('The term \"vice president\" occurs between SUBJ and OBJ and there are no more than three words between SUBJ and OBJ', 53)\n",
      "('SUBJ and OBJ sandwich the phrase \"died in\" and there are no more than three words between SUBJ and OBJ', 54)\n",
      "('SUBJ and OBJ sandwich the phrase \"\\'s son\" and there are no more than three words between SUBJ and OBJ', 55)\n",
      "('There are no more than four words between SUBJ and OBJ and SUBJ and OBJ sandwich the phrase \"rebel group\"', 56)\n",
      "('There are no more than five words between SUBJ and OBJ and SUBJ and OBJ sandwich \"died at her home\"', 57)\n",
      "('Between SUBJ and OBJ \"daughter of\" appears and there are no more than five words between SUBJ and OBJ', 58)\n",
      "('There are no more than three words between SUBJ and OBJ and the phrase \"major shareholder\" appears between SUBJ and OBJ', 59)\n",
      "('\"owner of\" occurs between SUBJ and OBJ and there are no more than four words between SUBJ and OBJ', 60)\n",
      "('Between SUBJ and OBJ the phrase \"was founded in\" occurs and there are no more than four words between SUBJ and OBJ', 61)\n",
      "('The phrase \"was convicted of\" links SUBJ and OBJ and there are no more than four words between SUBJ and OBJ', 62)\n",
      "('\"has died of\" occurs between SUBJ and OBJ and there are no more than five words between SUBJ and OBJ', 63)\n",
      "('SUBJ and OBJ sandwich the phrase \"convicted of\" and there are no more than three words between SUBJ and OBJ', 64)\n",
      "('There are no more than five words between SUBJ and OBJ and \"chief executive of\" links SUBJ and OBJ', 65)\n",
      "('\"executive vice president\" occurs between SUBJ and OBJ and there are no more than four words between SUBJ and OBJ', 66)\n",
      "('The word \"sister\" occurs between SUBJ and OBJ and there are no more than two words between SUBJ and OBJ', 67)\n",
      "('There are no more than four words between SUBJ and OBJ and \"\\'s home in\" appears between SUBJ and OBJ', 68)\n",
      "('There are no more than six words between SUBJ and OBJ and \"division of\" appears between SUBJ and OBJ', 69)\n",
      "('There is only one word \"(\" between SUBJ and OBJ', 70)\n",
      "('There is only one word \"group\" between SUBJ and OBJ', 71)\n",
      "('The phrase \"lived in\" links SUBJ and OBJ and there are no more than four words between SUBJ and OBJ', 72)\n",
      "('\"was known for\" occurs between SUBJ and OBJ and there are no more than four words between SUBJ and OBJ', 73)\n",
      "('There are no more than four words between SUBJ and OBJ and \"director of\" links SUBJ and OBJ', 74)\n",
      "('There is only one word \"president\" between SUBJ and OBJ', 75)\n",
      "('Between SUBJ and OBJ \"chief economist at\" occurs and there are no more than five words between SUBJ and OBJ', 76)\n",
      "('The term \"who died in\" occurs between SUBJ and OBJ and there are no more than five words between SUBJ and OBJ', 77)\n",
      "('Between SUBJ and OBJ \"was born in\" appears and there are no more than four words between SUBJ and OBJ', 78)\n",
      "('\"who had known\" occurs between SUBJ and OBJ and there are no more than six words between SUBJ and OBJ', 79)\n",
      "('The phrase \"managing director\" occurs between SUBJ and OBJ and there are no more than three words between SUBJ and OBJ', 80)\n",
      "('The word \"birthday\" occurs between SUBJ and OBJ and there are no more than two words between SUBJ and OBJ', 81)\n",
      "('There are no more than four words between SUBJ and OBJ and \"now works at\" appears between SUBJ and OBJ', 82)\n",
      "('There are no more than six words between SUBJ and OBJ and \"established in\" links SUBJ and OBJ', 83)\n",
      "('Between SUBJ and OBJ the phrase \"was established by\" comes and there are no more than five words between SUBJ and OBJ', 84)\n",
      "('The phrase \"chief executive\" occurs between SUBJ and OBJ and there are no more than four words between SUBJ and OBJ', 85)\n",
      "('There are no more than three words between SUBJ and OBJ and \"died from\" appears between SUBJ and OBJ', 86)\n",
      "('Between SUBJ and OBJ the phrase \"native )\" comes and there are no more than three words between SUBJ and OBJ', 87)\n",
      "('SUBJ and OBJ sandwich \"who died\" and there are no more than five words between SUBJ and OBJ', 88)\n",
      "('SUBJ and OBJ sandwich \"senior vice president\" and there are no more than four words between SUBJ and OBJ', 89)\n",
      "('There are no more than three words between SUBJ and OBJ and \"died of\" links SUBJ and OBJ', 90)\n",
      "('Between SUBJ and OBJ \"once worked for\" occurs and there are no more than four words between SUBJ and OBJ', 91)\n",
      "('The term \"and her husband\" occurs between SUBJ and OBJ and there are no more than five words between SUBJ and OBJ', 92)\n",
      "('SUBJ and OBJ sandwich the phrase \"based in\" and there are no more than four words between SUBJ and OBJ', 93)\n",
      "('There is only one word \"coach\" between SUBJ and OBJ', 94)\n",
      "('There are no more than six words between SUBJ and OBJ and SUBJ and OBJ sandwich \"first wife\"', 95)\n",
      "('There is only one word \"joined\" between SUBJ and OBJ', 96)\n",
      "('Between SUBJ and OBJ the phrase \"chairman of\" comes and there are no more than five words between SUBJ and OBJ', 97)\n",
      "('There are no more than six words between SUBJ and OBJ and \"chief economist for\" appears between SUBJ and OBJ', 98)\n",
      "('The term \"born on\" occurs between SUBJ and OBJ and there are no more than four words between SUBJ and OBJ', 99)\n",
      "('The phrase \"leader of\" occurs between SUBJ and OBJ and there are no more than six words between SUBJ and OBJ', 100)\n",
      "('\"formed only\" links SUBJ and OBJ and there are no more than four words between SUBJ and OBJ', 101)\n",
      "('\"founded by\" links SUBJ and OBJ and there are no more than four words between SUBJ and OBJ', 102)\n",
      "('SUBJ and OBJ sandwich \"chief economist of\" and there are no more than five words between SUBJ and OBJ', 103)\n",
      "('SUBJ and OBJ sandwich \"and his wife\" and there are no more than five words between SUBJ and OBJ', 104)\n",
      "('Between SUBJ and OBJ the phrase \"family moved to\" appears and there are no more than five words between SUBJ and OBJ', 105)\n",
      "('There are no more than three words between SUBJ and OBJ and \"was appointed\" appears between SUBJ and OBJ', 106)\n",
      "('There is only one word \"director\" between SUBJ and OBJ', 107)\n",
      "('\"was established in\" occurs between SUBJ and OBJ and there are no more than four words between SUBJ and OBJ', 108)\n",
      "('There are no more than four words between SUBJ and OBJ and the phrase \"is married to\" appears between SUBJ and OBJ', 109)\n",
      "('There are no more than three words between SUBJ and OBJ and SUBJ and OBJ sandwich the phrase \"hometown of\"', 110)\n",
      "('Between SUBJ and OBJ the phrase \"commonly known as\" appears and there are no more than six words between SUBJ and OBJ', 111)\n",
      "('There are no more than five words between SUBJ and OBJ and the phrase \"was born on\" appears between SUBJ and OBJ', 112)\n",
      "('There are no more than two words between SUBJ and OBJ and the word \"as\" occurs between SUBJ and OBJ', 113)\n",
      "('Between SUBJ and OBJ \"( former\" appears and there are no more than four words between SUBJ and OBJ', 114)\n",
      "('Between SUBJ and OBJ \"then called\" occurs and there are no more than four words between SUBJ and OBJ', 115)\n",
      "(\"The word 'employees' appears right after OBJ\", 116)\n",
      "(\"The word ', died following' right after SUBJ\", 117)\n",
      "(\"The word 'founded' appears less than 3 words before SUBJ and the word 'in' is right before OBJ\", 119)\n",
      "(\"The words 'is owned by' appears right before OBJ\", 120)\n",
      "(\"the word 'shares' is right after SUBJ\", 121)\n",
      "(\"the phrase 'please visit' is right before OBJ\", 122)\n",
      "(\"the words 'had a home in' occur right before Y\", 123)\n",
      "(\"the word 'members are' is right after SUBJ\", 124)\n",
      "(\"The word 'Born on' is right before OBJ\", 124)\n",
      "(\"The words 'is a' appear right before OBJ and the word 'citizen' is right after OBJ\", 126)\n",
      "(\"the words 'Dies at' is right before Y\", 127)\n",
      "(\"the words 'settling' is within 5 words before Y and 'in' occur right before Y\", 128)\n",
      "(\"'gave birth in' occurs right before Y\", 129)\n",
      "(\"the word 'investors' occurs before SUBJ and 'stakes' is within 5 words before SUBJ\", 131)\n",
      "(\"'real name is' is right before Y\", 132)\n",
      "(\"'raised in' appears right before OBJ\", 133)\n",
      "(\"The words 'living in' appear right before OBJ\", 134)\n",
      "('\"\\'s headquarters in\" is written right before OBJ', 134)\n",
      "(\"'died in' is within 3 words before Y\", 134)\n",
      "('the word \"party\" is right after Y', 135)\n",
      "(\"the word 'founded in' is right before Y\", 136)\n",
      "(\"The word 'Islamic' appears after OBJ and the word 'separatist' is right after OBJ\", 138)\n",
      "(\"'died of' is right before Y\", 138)\n",
      "(\"The word 'His wife' precedes OBJ by no more than 3 words and 'him' is within 3 words of SUBJ\", 140)\n",
      "(\"the word 'set up' occurs within 4 words before SUBJ and the word 'in' is right before Y\", 141)\n",
      "(\"The word 'died from' right before OBJ\", 141)\n",
      "(\"the word 'other children ,' occurs right before SUBJ\", 142)\n",
      "(\"the word 'acquired' is right before OBJ\", 143)\n",
      "(\"the words 'moved to' occur right before Y\", 144)\n",
      "(\"'nephews' is right after X\", 145)\n",
      "(\"the word 'hometown' occur within 2 words before Y\", 146)\n",
      "(\"the words 'who currently lives in' is right before OBJ\", 147)\n",
      "(\"the word 'ambassador' is right after Y and 'as the' is right before OBJ\", 149)\n",
      "(\"The word 'Shiite' appears after OBJ and the word 'militia' is right after OBJ\", 151)\n",
      "(\"the term 'acting head of' is within 4 words after OBJ\", 152)\n",
      "('The words \"at the age of\" appear right before OBJ', 153)\n",
      "(\"the word 'at home in' occurs right before Y\", 154)\n",
      "(\"The word 'were' appears right after SUBJ and the words 'of the' is right before SUBJ\", 156)\n",
      "(\"The word 'the work of' is right before SUBJ and OBJ precedes SUBJ\", 157)\n",
      "(\"The word 'attended' is right before the OBJ\", 158)\n",
      "(\"'was dissolved' is right after SUBJ\", 159)\n"
     ]
    }
   ],
   "source": [
    "quoted_words = {}\n",
    "for i, key in enumerate(filtered_raw_explanations):\n",
    "    explanation = filtered_raw_explanations[key]\n",
    "    queries = extract_queries_from_explanations(explanation)\n",
    "    for query in queries:\n",
    "        query = \" \".join(tokenize(query)).strip()\n",
    "        if len(query.strip()) > 0:\n",
    "            quoted_words[query] = 1\n",
    "    print((explanation, len(quoted_words)))\n",
    "\n",
    "quoted_words = list(quoted_words.keys())"
   ]
  },
  {
   "cell_type": "code",
   "execution_count": 135,
   "metadata": {},
   "outputs": [],
   "source": [
    "with open(\"/home/rahul/quoted_words.json\", \"w\") as f:\n",
    "    json.dump(quoted_words, f)"
   ]
  },
  {
   "cell_type": "code",
   "execution_count": 124,
   "metadata": {},
   "outputs": [
    {
     "data": {
      "text/plain": [
       "['The phrase \"\\'s daughter\" links SUBJ and OBJ and there are no more than three words between SUBJ and OBJ',\n",
       " 'SUBJ and OBJ sandwich the phrase \"was born\" and there are no more than three words between SUBJ and OBJ',\n",
       " 'There are no more than five words between SUBJ and OBJ and \"as part of its\" appears between SUBJ and OBJ',\n",
       " 'Between SUBJ and OBJ the phrase \"who died of\" occurs and there are no more than five words between SUBJ and OBJ',\n",
       " 'Between SUBJ and OBJ the phrase \"is from\" appears and there are no more than four words between SUBJ and OBJ',\n",
       " 'The phrase \"\\'s grandmother\" occurs between SUBJ and OBJ and there are no more than four words between SUBJ and OBJ',\n",
       " 'The phrase \"is based in\" occurs between SUBJ and OBJ and there are no more than five words between SUBJ and OBJ',\n",
       " 'The term \"then known as\" occurs between SUBJ and OBJ and there are no more than six words between SUBJ and OBJ',\n",
       " 'SUBJ and OBJ sandwich the phrase \"\\'s mother\" and there are no more than three words between SUBJ and OBJ',\n",
       " 'There are no more than four words between SUBJ and OBJ and SUBJ and OBJ sandwich the phrase \"secretly married\"',\n",
       " 'Between SUBJ and OBJ the phrase \"cousin of\" occurs and there are no more than four words between SUBJ and OBJ',\n",
       " 'There are no more than four words between SUBJ and OBJ and the phrase \"\\'s father\" links SUBJ and OBJ',\n",
       " 'There are no more than three words between SUBJ and OBJ and \"\\'s founder\" links SUBJ and OBJ',\n",
       " 'There are no more than two words between SUBJ and OBJ and the word \"chairman\" occurs between SUBJ and OBJ',\n",
       " 'Between SUBJ and OBJ \"home in\" comes and there are no more than six words between SUBJ and OBJ',\n",
       " 'Between SUBJ and OBJ the phrase \"\\'s husband\" occurs and there are no more than five words between SUBJ and OBJ',\n",
       " '\"website (\" occurs between SUBJ and OBJ and there are no more than five words between SUBJ and OBJ',\n",
       " 'Between SUBJ and OBJ the phrase \"\\'s headquarters in\" appears and there are no more than four words between SUBJ and OBJ',\n",
       " 'The term \"\\'s sister\" occurs between SUBJ and OBJ and there are no more than three words between SUBJ and OBJ',\n",
       " 'There are no more than two words between SUBJ and OBJ and the word \"\\'s\" occurs between SUBJ and OBJ',\n",
       " 'There are no more than three words between SUBJ and OBJ and the phrase \"( formerly\" links SUBJ and OBJ',\n",
       " 'SUBJ and OBJ sandwich \"was founded\" and there are no more than three words between SUBJ and OBJ',\n",
       " 'The phrase \"militant group\" occurs between SUBJ and OBJ and there are no more than three words between SUBJ and OBJ',\n",
       " 'Between SUBJ and OBJ \"\\'s real name was\" occurs and there are no more than five words between SUBJ and OBJ',\n",
       " '\"work for\" occurs between SUBJ and OBJ and there are no more than three words between SUBJ and OBJ',\n",
       " 'There are no more than four words between SUBJ and OBJ and the phrase \"dies of\" links SUBJ and OBJ',\n",
       " 'There are no more than three words between SUBJ and OBJ and the phrase \"\\' s\" links SUBJ and OBJ',\n",
       " 'The word \"founder\" occurs between SUBJ and OBJ and there are no more than two words between SUBJ and OBJ',\n",
       " '\"who heads\" occurs between SUBJ and OBJ and there are no more than five words between SUBJ and OBJ',\n",
       " 'Between SUBJ and OBJ the phrase \"president of\" appears and there are no more than four words between SUBJ and OBJ',\n",
       " 'Between SUBJ and OBJ the phrase \"( aka\" appears and there are no more than three words between SUBJ and OBJ',\n",
       " 'OBJ is right before SUBJ',\n",
       " '\"is part of\" occurs between SUBJ and OBJ and there are no more than four words between SUBJ and OBJ',\n",
       " 'The phrase \"\\'s hometown of\" links SUBJ and OBJ and there are no more than four words between SUBJ and OBJ',\n",
       " 'The phrase \"was formed in\" occurs between SUBJ and OBJ and there are no more than four words between SUBJ and OBJ',\n",
       " 'The phrase \"spokesman for\" links SUBJ and OBJ and there are no more than five words between SUBJ and OBJ',\n",
       " 'There are no more than three words between SUBJ and OBJ and the phrase \"conservative group\" links SUBJ and OBJ',\n",
       " 'There are no more than four words between SUBJ and OBJ and \"who founded\" appears between SUBJ and OBJ',\n",
       " 'There is only one word \"died\" between SUBJ and OBJ',\n",
       " 'There are no more than two words between SUBJ and OBJ and the word \"brother\" occurs between SUBJ and OBJ',\n",
       " 'There is only one word \"head\" between SUBJ and OBJ',\n",
       " 'There are no more than five words between SUBJ and OBJ and the phrase \"who died on\" appears between SUBJ and OBJ',\n",
       " 'There is only one word \"owners\" between SUBJ and OBJ',\n",
       " 'There are no more than five words between SUBJ and OBJ and \"vice president of\" appears between SUBJ and OBJ',\n",
       " 'The phrase \"\\' mother\" links SUBJ and OBJ and there are no more than four words between SUBJ and OBJ',\n",
       " 'Between SUBJ and OBJ the phrase \"unit of\" appears and there are no more than five words between SUBJ and OBJ',\n",
       " 'The phrase \"\\'s wife\" occurs between SUBJ and OBJ and there are no more than six words between SUBJ and OBJ',\n",
       " 'There is only one word \"owns\" between SUBJ and OBJ',\n",
       " 'There are no more than four words between SUBJ and OBJ and the phrase \"political activist group\" links SUBJ and OBJ',\n",
       " 'The phrase \"was nicknamed ``\" occurs between SUBJ and OBJ and there are no more than four words between SUBJ and OBJ',\n",
       " 'The phrase \"part of\" occurs between SUBJ and OBJ and there are no more than five words between SUBJ and OBJ',\n",
       " 'The phrase \"dies in\" occurs between SUBJ and OBJ and there are no more than three words between SUBJ and OBJ',\n",
       " 'The term \"founder of\" occurs between SUBJ and OBJ and there are no more than five words between SUBJ and OBJ',\n",
       " 'The term \"vice president\" occurs between SUBJ and OBJ and there are no more than three words between SUBJ and OBJ',\n",
       " 'SUBJ and OBJ sandwich the phrase \"died in\" and there are no more than three words between SUBJ and OBJ',\n",
       " 'SUBJ and OBJ sandwich the phrase \"\\'s son\" and there are no more than three words between SUBJ and OBJ',\n",
       " 'There are no more than four words between SUBJ and OBJ and SUBJ and OBJ sandwich the phrase \"rebel group\"',\n",
       " 'There are no more than five words between SUBJ and OBJ and SUBJ and OBJ sandwich \"died at her home\"',\n",
       " 'Between SUBJ and OBJ \"daughter of\" appears and there are no more than five words between SUBJ and OBJ',\n",
       " 'There are no more than three words between SUBJ and OBJ and the phrase \"major shareholder\" appears between SUBJ and OBJ',\n",
       " '\"owner of\" occurs between SUBJ and OBJ and there are no more than four words between SUBJ and OBJ',\n",
       " 'Between SUBJ and OBJ the phrase \"was founded in\" occurs and there are no more than four words between SUBJ and OBJ',\n",
       " 'The phrase \"was convicted of\" links SUBJ and OBJ and there are no more than four words between SUBJ and OBJ',\n",
       " '\"has died of\" occurs between SUBJ and OBJ and there are no more than five words between SUBJ and OBJ',\n",
       " 'SUBJ and OBJ sandwich the phrase \"convicted of\" and there are no more than three words between SUBJ and OBJ',\n",
       " 'There are no more than five words between SUBJ and OBJ and \"chief executive of\" links SUBJ and OBJ',\n",
       " '\"executive vice president\" occurs between SUBJ and OBJ and there are no more than four words between SUBJ and OBJ',\n",
       " 'The word \"sister\" occurs between SUBJ and OBJ and there are no more than two words between SUBJ and OBJ',\n",
       " 'There are no more than four words between SUBJ and OBJ and \"\\'s home in\" appears between SUBJ and OBJ',\n",
       " 'There are no more than six words between SUBJ and OBJ and \"division of\" appears between SUBJ and OBJ',\n",
       " 'There is only one word \"(\" between SUBJ and OBJ',\n",
       " 'There is only one word \"group\" between SUBJ and OBJ',\n",
       " 'The phrase \"lived in\" links SUBJ and OBJ and there are no more than four words between SUBJ and OBJ',\n",
       " '\"was known for\" occurs between SUBJ and OBJ and there are no more than four words between SUBJ and OBJ',\n",
       " 'There are no more than four words between SUBJ and OBJ and \"director of\" links SUBJ and OBJ',\n",
       " 'There is only one word \"president\" between SUBJ and OBJ',\n",
       " 'Between SUBJ and OBJ \"chief economist at\" occurs and there are no more than five words between SUBJ and OBJ',\n",
       " 'The term \"who died in\" occurs between SUBJ and OBJ and there are no more than five words between SUBJ and OBJ',\n",
       " 'Between SUBJ and OBJ \"was born in\" appears and there are no more than four words between SUBJ and OBJ',\n",
       " '\"who had known\" occurs between SUBJ and OBJ and there are no more than six words between SUBJ and OBJ',\n",
       " 'The phrase \"managing director\" occurs between SUBJ and OBJ and there are no more than three words between SUBJ and OBJ',\n",
       " 'The word \"birthday\" occurs between SUBJ and OBJ and there are no more than two words between SUBJ and OBJ',\n",
       " 'There are no more than four words between SUBJ and OBJ and \"now works at\" appears between SUBJ and OBJ',\n",
       " 'There are no more than six words between SUBJ and OBJ and \"established in\" links SUBJ and OBJ',\n",
       " 'Between SUBJ and OBJ the phrase \"was established by\" comes and there are no more than five words between SUBJ and OBJ',\n",
       " 'The phrase \"chief executive\" occurs between SUBJ and OBJ and there are no more than four words between SUBJ and OBJ',\n",
       " 'There are no more than three words between SUBJ and OBJ and \"died from\" appears between SUBJ and OBJ',\n",
       " 'Between SUBJ and OBJ the phrase \"native )\" comes and there are no more than three words between SUBJ and OBJ',\n",
       " 'SUBJ and OBJ sandwich \"who died\" and there are no more than five words between SUBJ and OBJ',\n",
       " 'SUBJ and OBJ sandwich \"senior vice president\" and there are no more than four words between SUBJ and OBJ',\n",
       " 'There are no more than three words between SUBJ and OBJ and \"died of\" links SUBJ and OBJ',\n",
       " 'Between SUBJ and OBJ \"once worked for\" occurs and there are no more than four words between SUBJ and OBJ',\n",
       " 'The term \"and her husband\" occurs between SUBJ and OBJ and there are no more than five words between SUBJ and OBJ',\n",
       " 'SUBJ and OBJ sandwich the phrase \"based in\" and there are no more than four words between SUBJ and OBJ',\n",
       " 'There is only one word \"coach\" between SUBJ and OBJ',\n",
       " 'There are no more than six words between SUBJ and OBJ and SUBJ and OBJ sandwich \"first wife\"',\n",
       " 'There is only one word \"joined\" between SUBJ and OBJ',\n",
       " 'Between SUBJ and OBJ the phrase \"chairman of\" comes and there are no more than five words between SUBJ and OBJ',\n",
       " 'There are no more than six words between SUBJ and OBJ and \"chief economist for\" appears between SUBJ and OBJ',\n",
       " 'The term \"born on\" occurs between SUBJ and OBJ and there are no more than four words between SUBJ and OBJ',\n",
       " 'The phrase \"leader of\" occurs between SUBJ and OBJ and there are no more than six words between SUBJ and OBJ',\n",
       " '\"formed only\" links SUBJ and OBJ and there are no more than four words between SUBJ and OBJ',\n",
       " '\"founded by\" links SUBJ and OBJ and there are no more than four words between SUBJ and OBJ',\n",
       " 'SUBJ and OBJ sandwich \"chief economist of\" and there are no more than five words between SUBJ and OBJ',\n",
       " 'SUBJ and OBJ sandwich \"and his wife\" and there are no more than five words between SUBJ and OBJ',\n",
       " 'Between SUBJ and OBJ the phrase \"family moved to\" appears and there are no more than five words between SUBJ and OBJ',\n",
       " 'There are no more than three words between SUBJ and OBJ and \"was appointed\" appears between SUBJ and OBJ',\n",
       " 'There is only one word \"director\" between SUBJ and OBJ',\n",
       " '\"was established in\" occurs between SUBJ and OBJ and there are no more than four words between SUBJ and OBJ',\n",
       " 'There are no more than four words between SUBJ and OBJ and the phrase \"is married to\" appears between SUBJ and OBJ',\n",
       " 'There are no more than three words between SUBJ and OBJ and SUBJ and OBJ sandwich the phrase \"hometown of\"',\n",
       " 'Between SUBJ and OBJ the phrase \"commonly known as\" appears and there are no more than six words between SUBJ and OBJ',\n",
       " 'There are no more than five words between SUBJ and OBJ and the phrase \"was born on\" appears between SUBJ and OBJ',\n",
       " 'There are no more than two words between SUBJ and OBJ and the word \"as\" occurs between SUBJ and OBJ',\n",
       " 'Between SUBJ and OBJ \"( former\" appears and there are no more than four words between SUBJ and OBJ',\n",
       " 'Between SUBJ and OBJ \"then called\" occurs and there are no more than four words between SUBJ and OBJ',\n",
       " \"The word 'employees' appears right after OBJ\",\n",
       " \"The word ', died following' right after SUBJ\",\n",
       " \"The word 'founded' appears less than 3 words before SUBJ and the word 'in' is right before OBJ\",\n",
       " \"The words 'is owned by' appears right before OBJ\",\n",
       " \"the word 'shares' is right after SUBJ\",\n",
       " \"the phrase 'please visit' is right before OBJ\",\n",
       " \"the words 'had a home in' occur right before Y\",\n",
       " \"the word 'members are' is right after SUBJ\",\n",
       " \"The word 'Born on' is right before OBJ\",\n",
       " \"The words 'is a' appear right before OBJ and the word 'citizen' is right after OBJ\",\n",
       " \"the words 'Dies at' is right before Y\",\n",
       " \"the words 'settling' is within 5 words before Y and 'in' occur right before Y\",\n",
       " \"'gave birth in' occurs right before Y\",\n",
       " \"the word 'investors' occurs before SUBJ and 'stakes' is within 5 words before SUBJ\",\n",
       " \"'real name is' is right before Y\",\n",
       " \"'raised in' appears right before OBJ\",\n",
       " \"The words 'living in' appear right before OBJ\",\n",
       " '\"\\'s headquarters in\" is written right before OBJ',\n",
       " \"'died in' is within 3 words before Y\",\n",
       " 'the word \"party\" is right after Y',\n",
       " \"the word 'founded in' is right before Y\",\n",
       " \"The word 'Islamic' appears after OBJ and the word 'separatist' is right after OBJ\",\n",
       " \"'died of' is right before Y\",\n",
       " \"The word 'His wife' precedes OBJ by no more than 3 words and 'him' is within 3 words of SUBJ\",\n",
       " \"the word 'set up' occurs within 4 words before SUBJ and the word 'in' is right before Y\",\n",
       " \"The word 'died from' right before OBJ\",\n",
       " \"the word 'other children ,' occurs right before SUBJ\",\n",
       " \"the word 'acquired' is right before OBJ\",\n",
       " \"the words 'moved to' occur right before Y\",\n",
       " \"'nephews' is right after X\",\n",
       " \"the word 'hometown' occur within 2 words before Y\",\n",
       " \"the words 'who currently lives in' is right before OBJ\",\n",
       " \"the word 'ambassador' is right after Y and 'as the' is right before OBJ\",\n",
       " \"The word 'Shiite' appears after OBJ and the word 'militia' is right after OBJ\",\n",
       " \"the term 'acting head of' is within 4 words after OBJ\",\n",
       " 'The words \"at the age of\" appear right before OBJ',\n",
       " \"the word 'at home in' occurs right before Y\",\n",
       " \"The word 'were' appears right after SUBJ and the words 'of the' is right before SUBJ\",\n",
       " \"The word 'the work of' is right before SUBJ and OBJ precedes SUBJ\",\n",
       " \"The word 'attended' is right before the OBJ\",\n",
       " \"'was dissolved' is right after SUBJ\"]"
      ]
     },
     "execution_count": 124,
     "metadata": {},
     "output_type": "execute_result"
    }
   ],
   "source": [
    "list(filtered_raw_explanations.values())"
   ]
  },
  {
   "cell_type": "code",
   "execution_count": null,
   "metadata": {},
   "outputs": [],
   "source": []
  }
 ],
 "metadata": {
  "kernelspec": {
   "display_name": "Python 3",
   "language": "python",
   "name": "python3"
  },
  "language_info": {
   "codemirror_mode": {
    "name": "ipython",
    "version": 3
   },
   "file_extension": ".py",
   "mimetype": "text/x-python",
   "name": "python",
   "nbconvert_exporter": "python",
   "pygments_lexer": "ipython3",
   "version": "3.6.5"
  }
 },
 "nbformat": 4,
 "nbformat_minor": 4
}
